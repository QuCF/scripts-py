{
 "cells": [
  {
   "cell_type": "code",
   "execution_count": 1,
   "id": "ab3c810f",
   "metadata": {},
   "outputs": [
    {
     "name": "stdout",
     "output_type": "stream",
     "text": [
      "2451\n",
      "/media/work/docs/codes/QuCF/scripts-py\n"
     ]
    }
   ],
   "source": [
    "from IPython.display import display, HTML\n",
    "import scipy.constants as sc\n",
    "from scipy.optimize import fsolve\n",
    "from ipywidgets import interact, widgets\n",
    "%matplotlib notebook\n",
    "\n",
    "import numpy as np\n",
    "import cmath\n",
    "import matplotlib.pyplot as plt\n",
    "import scipy.constants as sc\n",
    "plt.rcParams.update({\n",
    "    \"text.usetex\": True,\n",
    "    'text.latex.preamble': r\"\\usepackage{amsmath} \\boldmath\"\n",
    "})\n",
    "import os\n",
    "import h5py\n",
    "\n",
    "print(os.getpid())\n",
    "%cd ../../"
   ]
  },
  {
   "cell_type": "code",
   "execution_count": 2,
   "id": "a5952c57",
   "metadata": {},
   "outputs": [
    {
     "data": {
      "text/html": [
       "<style>.container { width:100% !important; }</style>"
      ],
      "text/plain": [
       "<IPython.core.display.HTML object>"
      ]
     },
     "metadata": {},
     "output_type": "display_data"
    }
   ],
   "source": [
    "# --- Launch to change cells' width ---\n",
    "from IPython.display import display, HTML\n",
    "display(HTML(\"<style>.container { width:100% !important; }</style>\"))\n",
    "\n",
    "import pylib.mix as mix\n",
    "import pylib.qucf_read as qucf_r\n",
    "import pylib.qucf_oracle as qucf_o\n",
    "import pylib.qucf_matrix_D as qucf_m\n",
    "import kin1d1d as kin"
   ]
  },
  {
   "cell_type": "code",
   "execution_count": 3,
   "id": "b11cad8f",
   "metadata": {},
   "outputs": [
    {
     "name": "stdout",
     "output_type": "stream",
     "text": [
      "\n",
      "--- Object with data ---\n",
      "\n",
      "--- Read matrices D from quantum simulations ---\n",
      "\n",
      "Reading the matrix from: flat_44_OUTPUT.hdf5\n",
      "from the path: ../simulations/KIN1D1D/matrices-D/\n",
      "date of the simulation:  06-06-2023 08:57:47\n",
      "matrix name:  U_BE\n",
      "N = 512\n",
      "\n",
      "Reading the matrix from: flat_45_OUTPUT.hdf5\n",
      "from the path: ../simulations/KIN1D1D/matrices-D/\n",
      "date of the simulation:  06-23-2023 15:42:09\n",
      "matrix name:  U_BE\n",
      "N = 1024\n",
      "\n",
      "Reading the matrix from: flat_54_OUTPUT.hdf5\n",
      "from the path: ../simulations/KIN1D1D/matrices-D/\n",
      "date of the simulation:  06-23-2023 15:48:52\n",
      "matrix name:  U_BE\n",
      "N = 1024\n",
      "\n",
      "Reading the matrix from: flat_55_OUTPUT.hdf5\n",
      "from the path: ../simulations/KIN1D1D/matrices-D/\n",
      "date of the simulation:  06-23-2023 15:52:48\n",
      "matrix name:  U_BE\n",
      "N = 2048\n",
      "\n",
      "\n",
      "--- Read matrices of the considered 1D kinetic problem --\n",
      "\n",
      "Reading data from out_4_4_w1.2_Lx100_Lv4_flat.hdf5...\n",
      "date of the simulation:  06-06-2023 16:39:51\n",
      "N, nx, nv = 512, 4, 4\n",
      "Done.\n",
      "\n",
      "Reading data from out_4_5_w1.2_Lx100_Lv4_flat.hdf5...\n",
      "date of the simulation:  07-28-2023 11:12:43\n",
      "N, nx, nv = 1024, 4, 5\n",
      "Done.\n",
      "\n",
      "Reading data from out_4_6_w1.2_Lx100_Lv4_flat.hdf5...\n",
      "date of the simulation:  08-09-2023 16:53:04\n",
      "N, nx, nv = 2048, 4, 6\n",
      "Done.\n",
      "\n",
      "Reading data from out_4_7_w1.2_Lx100_Lv4_flat.hdf5...\n",
      "date of the simulation:  08-09-2023 16:53:12\n",
      "N, nx, nv = 4096, 4, 7\n",
      "Done.\n",
      "\n",
      "Reading data from out_4_8_w1.2_Lx100_Lv4_flat.hdf5...\n",
      "date of the simulation:  08-12-2023 15:25:49\n",
      "N, nx, nv = 8192, 4, 8\n",
      "Done.\n",
      "\n",
      "Reading data from out_5_4_w1.2_Lx100_Lv4_flat.hdf5...\n",
      "date of the simulation:  06-06-2023 16:41:57\n",
      "N, nx, nv = 1024, 5, 4\n",
      "Done.\n",
      "\n",
      "Reading data from out_5_5_w1.2_Lx100_Lv4_flat.hdf5...\n",
      "date of the simulation:  06-06-2023 16:42:03\n",
      "N, nx, nv = 2048, 5, 5\n",
      "Done.\n",
      "\n",
      "Reading data from out_5_6_w1.2_Lx100_Lv4_flat.hdf5...\n",
      "date of the simulation:  08-09-2023 16:55:03\n",
      "N, nx, nv = 4096, 5, 6\n",
      "Done.\n",
      "\n",
      "Reading data from out_5_7_w1.2_Lx100_Lv4_flat.hdf5...\n",
      "date of the simulation:  08-09-2023 16:55:08\n",
      "N, nx, nv = 8192, 5, 7\n",
      "Done.\n",
      "\n",
      "Reading data from out_5_8_w1.2_Lx100_Lv4_flat.hdf5...\n",
      "date of the simulation:  08-12-2023 15:26:11\n",
      "N, nx, nv = 16384, 5, 8\n",
      "Done.\n",
      "\n",
      "Reading data from out_6_4_w1.2_Lx100_Lv4_flat.hdf5...\n",
      "date of the simulation:  07-31-2023 15:39:33\n",
      "N, nx, nv = 2048, 6, 4\n",
      "Done.\n",
      "\n",
      "Reading data from out_6_5_w1.2_Lx100_Lv4_flat.hdf5...\n",
      "date of the simulation:  07-31-2023 15:39:29\n",
      "N, nx, nv = 4096, 6, 5\n",
      "Done.\n",
      "\n",
      "Reading data from out_6_6_w1.2_Lx100_Lv4_flat.hdf5...\n",
      "date of the simulation:  07-31-2023 15:39:11\n",
      "N, nx, nv = 8192, 6, 6\n",
      "Done.\n",
      "\n",
      "Reading data from out_6_7_w1.2_Lx100_Lv4_flat.hdf5...\n",
      "date of the simulation:  08-09-2023 16:55:29\n",
      "N, nx, nv = 16384, 6, 7\n",
      "Done.\n",
      "\n",
      "Reading data from out_6_8_w1.2_Lx100_Lv4_flat.hdf5...\n",
      "date of the simulation:  08-12-2023 15:26:17\n",
      "N, nx, nv = 32768, 6, 8\n",
      "Done.\n",
      "\n",
      "Reading data from out_7_4_w1.2_Lx100_Lv4_flat.hdf5...\n",
      "date of the simulation:  08-09-2023 16:55:44\n",
      "N, nx, nv = 4096, 7, 4\n",
      "Done.\n",
      "\n",
      "Reading data from out_7_5_w1.2_Lx100_Lv4_flat.hdf5...\n",
      "date of the simulation:  08-10-2023 13:00:19\n",
      "N, nx, nv = 8192, 7, 5\n",
      "Done.\n",
      "\n",
      "Reading data from out_7_6_w1.2_Lx100_Lv4_flat.hdf5...\n",
      "date of the simulation:  08-09-2023 16:55:59\n",
      "N, nx, nv = 16384, 7, 6\n",
      "Done.\n",
      "\n",
      "Reading data from out_7_7_w1.2_Lx100_Lv4_flat.hdf5...\n",
      "date of the simulation:  08-09-2023 16:56:04\n",
      "N, nx, nv = 32768, 7, 7\n",
      "Done.\n",
      "\n",
      "Reading data from out_7_8_w1.2_Lx100_Lv4_flat.hdf5...\n",
      "date of the simulation:  08-12-2023 15:26:23\n",
      "N, nx, nv = 65536, 7, 8\n",
      "Done.\n",
      "\n",
      "Reading data from out_8_4_w1.2_Lx100_Lv4_flat.hdf5...\n",
      "date of the simulation:  08-10-2023 13:00:36\n",
      "N, nx, nv = 8192, 8, 4\n",
      "Done.\n",
      "\n",
      "Reading data from out_8_5_w1.2_Lx100_Lv4_flat.hdf5...\n",
      "date of the simulation:  08-10-2023 13:00:47\n",
      "N, nx, nv = 16384, 8, 5\n",
      "Done.\n",
      "\n",
      "Reading data from out_8_6_w1.2_Lx100_Lv4_flat.hdf5...\n",
      "date of the simulation:  08-10-2023 13:00:51\n",
      "N, nx, nv = 32768, 8, 6\n",
      "Done.\n",
      "\n",
      "Reading data from out_8_7_w1.2_Lx100_Lv4_flat.hdf5...\n",
      "date of the simulation:  08-10-2023 13:00:56\n",
      "N, nx, nv = 65536, 8, 7\n",
      "Done.\n",
      "\n",
      "Reading data from out_8_8_w1.2_Lx100_Lv4_flat.hdf5...\n",
      "date of the simulation:  08-10-2023 13:01:02\n",
      "N, nx, nv = 131072, 8, 8\n",
      "Done.\n",
      "\n",
      "--- Create a template to extrapolate the matrix D for larger sizes ---\n",
      "All grids have the same number of sizes.\n",
      "The correct number of grids is provided.\n",
      "Grids have similiar structure.\n"
     ]
    }
   ],
   "source": [
    "# ---------------------------------------------------------------\n",
    "# --- Read data ---\n",
    "# ---------------------------------------------------------------\n",
    "mix.reload_module(kin)\n",
    "\n",
    "print(\"\\n--- Creating the object with data... ---\")\n",
    "data_ = kin.ASE_()\n",
    "\n",
    "print(\"\\n--- Reading matrices D from quantum simulations ---\")\n",
    "data_.read_D_matrices()\n",
    "\n",
    "print(\"\\n\\n--- Reading matrices of the considered 1D kinetic problem --\") \n",
    "data_.read_plasma_matrices()\n",
    "\n",
    "print(\"--- Creating a template to extrapolate the matrix D for larger sizes ---\") \n",
    "data_.create_D_template()"
   ]
  },
  {
   "cell_type": "code",
   "execution_count": 4,
   "id": "6cc0467b",
   "metadata": {},
   "outputs": [
    {
     "name": "stdout",
     "output_type": "stream",
     "text": [
      "original matrix >>>\n",
      "amax. value: \t\t\t4.000e+00\n",
      "amin.(excl. zero) value: \t1.381e-04\n",
      "\n",
      "norm of the matrix:  13.532088506761944\n",
      "\n",
      "normalized matrix >>>\n",
      "amax. value: \t\t\t2.601e-03\n",
      "amin.(excl. zero) value: \t8.982e-08\n",
      "\n"
     ]
    }
   ],
   "source": [
    "# --------------------------------------------------------------------\n",
    "# --- Choose a case (matrix size) with which you are going to work ---\n",
    "# --------------------------------------------------------------------\n",
    "data_.choose_a_case(nx = 4, nv = 5)\n",
    "\n"
   ]
  },
  {
   "cell_type": "code",
   "execution_count": null,
   "id": "49f840f9",
   "metadata": {},
   "outputs": [],
   "source": []
  },
  {
   "cell_type": "code",
   "execution_count": null,
   "id": "5081d160",
   "metadata": {},
   "outputs": [],
   "source": [
    "# ---------------------------------------------------------------\n",
    "# --- Compute the parameters for the submatrix Cf ---\n",
    "# ---------------------------------------------------------------\n",
    "\n",
    "# *** normalized v-grid ***\n",
    "v_grid_norm = np.array(data_.B_Cf_.get_slice(0,0, data_.Nv_work_).get_values().real)\n",
    "\n",
    "v_norm_max = np.max(np.abs(v_grid_norm))\n",
    "print(\"v-norm_max: \\t{:0.3e}\".format(v_norm_max))\n",
    "\n",
    "# *** parameters for the SIN gate ***\n",
    "alpha_0 = - v_norm_max\n",
    "alpha_1 = v_norm_max * Nv_work/(Nv_work - 1)\n",
    "print()\n",
    "print(\"n_coord (nv) \\t{:d}\".format(nv_work))\n",
    "print(\"alpha_0_cf \\t{:0.12e}\".format(alpha_0))\n",
    "print(\"alpha_1_cf \\t{:0.12e}\".format(alpha_1))\n",
    "\n",
    "# ---------------------------------------------------------------\n",
    "# --- Compute the parameters for the submatrix CE ---\n",
    "# ---------------------------------------------------------------\n",
    "\n",
    "\n",
    "\n",
    "\n",
    "\n",
    "# ---------------------------------------------------------------\n",
    "# --- Compute the parameters for the submatrix S ---\n",
    "# ---------------------------------------------------------------\n",
    "\n",
    "\n",
    "\n",
    "\n",
    "del v_grid_norm, v_norm_max, alpha_0, alpha_1"
   ]
  },
  {
   "cell_type": "code",
   "execution_count": null,
   "id": "1cee0a63",
   "metadata": {},
   "outputs": [],
   "source": []
  },
  {
   "cell_type": "code",
   "execution_count": null,
   "id": "7cacd8ac",
   "metadata": {},
   "outputs": [],
   "source": [
    "# ---------------------------------------------------------------\n",
    "# --- Recheck the sumatrix Cf --\n",
    "# ---------------------------------------------------------------\n",
    "mix.reload_module(qucf_r)\n",
    "mix.reload_module(kin)\n",
    "\n",
    "dd_res_Cf = qucf_r.read_matrix_sparse(data_.path_, \"flat_OUTPUT.hdf5\") \n",
    "Cf_recon = dd_res_Cf[\"A\"].get_slice(data_.Nvar_work_, 0, data_.Nvar_work_,)\n",
    "\n",
    "kin.compare_reconstructed(Cf_recon, data_.Cf_orig_, 1e-9)"
   ]
  },
  {
   "cell_type": "code",
   "execution_count": null,
   "id": "33e5c2e6",
   "metadata": {},
   "outputs": [],
   "source": []
  },
  {
   "cell_type": "code",
   "execution_count": null,
   "id": "1c4d37a3",
   "metadata": {},
   "outputs": [],
   "source": []
  },
  {
   "cell_type": "code",
   "execution_count": 5,
   "id": "8e120d6e",
   "metadata": {},
   "outputs": [
    {
     "data": {
      "text/plain": [
       "{'A': <pylib.mix.SparseMatrix at 0x7fc01fd85d90>,\n",
       " 'x': array([  0.   ,   6.667,  13.333,  20.   ,  26.667,  33.333,  40.   ,\n",
       "         46.667,  53.333,  60.   ,  66.667,  73.333,  80.   ,  86.667,\n",
       "         93.333, 100.   ]),\n",
       " 'v': array([-4.   , -3.742, -3.484, -3.226, -2.968, -2.71 , -2.452, -2.194,\n",
       "        -1.935, -1.677, -1.419, -1.161, -0.903, -0.645, -0.387, -0.129,\n",
       "         0.129,  0.387,  0.645,  0.903,  1.161,  1.419,  1.677,  1.935,\n",
       "         2.194,  2.452,  2.71 ,  2.968,  3.226,  3.484,  3.742,  4.   ]),\n",
       " 'Nx': 16,\n",
       " 'Nv': 32,\n",
       " 'regs': {'rx': 4, 'rv': 5}}"
      ]
     },
     "execution_count": 5,
     "metadata": {},
     "output_type": "execute_result"
    }
   ],
   "source": [
    "data_.cl_[\"45\"]"
   ]
  },
  {
   "cell_type": "code",
   "execution_count": 6,
   "id": "62db50cc",
   "metadata": {},
   "outputs": [
    {
     "data": {
      "text/plain": [
       "4"
      ]
     },
     "execution_count": 6,
     "metadata": {},
     "output_type": "execute_result"
    }
   ],
   "source": [
    "int(4.0)"
   ]
  },
  {
   "cell_type": "code",
   "execution_count": null,
   "id": "53d45408",
   "metadata": {},
   "outputs": [],
   "source": []
  }
 ],
 "metadata": {
  "kernelspec": {
   "display_name": "Python 3 (ipykernel)",
   "language": "python",
   "name": "python3"
  },
  "language_info": {
   "codemirror_mode": {
    "name": "ipython",
    "version": 3
   },
   "file_extension": ".py",
   "mimetype": "text/x-python",
   "name": "python",
   "nbconvert_exporter": "python",
   "pygments_lexer": "ipython3",
   "version": "3.11.0"
  }
 },
 "nbformat": 4,
 "nbformat_minor": 5
}
