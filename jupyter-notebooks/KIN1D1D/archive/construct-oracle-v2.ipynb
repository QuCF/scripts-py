{
 "cells": [
  {
   "cell_type": "code",
   "execution_count": 1,
   "id": "01b7e25f",
   "metadata": {},
   "outputs": [
    {
     "name": "stdout",
     "output_type": "stream",
     "text": [
      "9188\n",
      "/media/work/docs/codes/QuCF/scripts-py\n"
     ]
    }
   ],
   "source": [
    "from IPython.display import display, HTML\n",
    "import scipy.constants as sc\n",
    "from scipy.optimize import fsolve\n",
    "from ipywidgets import interact, widgets\n",
    "%matplotlib notebook\n",
    "\n",
    "import numpy as np\n",
    "import cmath\n",
    "import matplotlib.pyplot as plt\n",
    "import scipy.constants as sc\n",
    "plt.rcParams.update({\n",
    "    \"text.usetex\": True,\n",
    "    'text.latex.preamble': r\"\\usepackage{amsmath} \\boldmath\"\n",
    "})\n",
    "import os\n",
    "import h5py\n",
    "\n",
    "print(os.getpid())\n",
    "%cd ../"
   ]
  },
  {
   "cell_type": "code",
   "execution_count": null,
   "id": "4e2f33c6",
   "metadata": {},
   "outputs": [],
   "source": []
  },
  {
   "cell_type": "code",
   "execution_count": 2,
   "id": "7df788b9",
   "metadata": {},
   "outputs": [
    {
     "data": {
      "text/html": [
       "<style>.container { width:100% !important; }</style>"
      ],
      "text/plain": [
       "<IPython.core.display.HTML object>"
      ]
     },
     "metadata": {},
     "output_type": "display_data"
    }
   ],
   "source": [
    "# --- Launch to change cells' width ---\n",
    "from IPython.display import display, HTML\n",
    "display(HTML(\"<style>.container { width:100% !important; }</style>\"))"
   ]
  },
  {
   "cell_type": "code",
   "execution_count": null,
   "id": "9fa47f9d",
   "metadata": {},
   "outputs": [],
   "source": []
  },
  {
   "cell_type": "code",
   "execution_count": 3,
   "id": "4a6bd790",
   "metadata": {},
   "outputs": [],
   "source": [
    "import pylib.mix as mix\n",
    "import pylib.qucf_read as qucf_r\n",
    "import pylib.qucf_oracle as qucf_o\n",
    "import kin1d1d as kin\n",
    "path_ = \"../simulations/KIN1D1D/\"\n",
    "file_name_oracle_ = \"circuit_OH\"\n",
    "path_test_ = \"../simulations/test-simplified/\"\n",
    "path_cl_ = \"../results/KIN1D1D-results/\"\n",
    "file_name_oracle_ = \"circuit_OH\""
   ]
  },
  {
   "cell_type": "code",
   "execution_count": null,
   "id": "d44b46c1",
   "metadata": {},
   "outputs": [],
   "source": []
  },
  {
   "cell_type": "code",
   "execution_count": 4,
   "id": "4f70dea8",
   "metadata": {},
   "outputs": [
    {
     "name": "stdout",
     "output_type": "stream",
     "text": [
      "--- Quantum data ---\n",
      "Reading the matrix from: flat_33_OUTPUT.hdf5\n",
      "from the path: ../simulations/KIN1D1D/\n",
      "date of the simulation:  06-06-2023 09:51:13\n",
      "matrix name:  U_BE\n",
      "N = 128\n",
      "\n",
      "Reading the matrix from: flat_44_OUTPUT.hdf5\n",
      "from the path: ../simulations/KIN1D1D/\n",
      "date of the simulation:  06-06-2023 08:57:47\n",
      "matrix name:  U_BE\n",
      "N = 512\n",
      "\n",
      "Reading the matrix from: flat_55_OUTPUT.hdf5\n",
      "from the path: ../simulations/KIN1D1D/\n",
      "date of the simulation:  06-23-2023 15:52:48\n",
      "matrix name:  U_BE\n",
      "N = 2048\n",
      "\n",
      " --- Classical data ---\n",
      "date of the simulation:  06-22-2023 15:48:52\n",
      "N, Nx, Nv = 128, 8, 8\n",
      "date of the simulation:  06-06-2023 16:39:51\n",
      "N, Nx, Nv = 512, 16, 16\n",
      "date of the simulation:  06-06-2023 16:42:03\n",
      "N, Nx, Nv = 2048, 32, 32\n"
     ]
    }
   ],
   "source": [
    "# ---------------------------------------------------------------\n",
    "# --- Read the matrix ---\n",
    "# ---------------------------------------------------------------\n",
    "mix.reload_module(qucf_r)\n",
    "mix.reload_module(kin)\n",
    "\n",
    "# dd_NH_orig = qucf.read_matrix(path_, \"archive/flat_NH-orig_OUTPUT.hdf5\")\n",
    "\n",
    "print(\"--- Quantum data ---\")\n",
    "dd_33 = qucf_r.read_matrix(path_, \"flat_33_OUTPUT.hdf5\") #  nx = 3, nv = 3\n",
    "\n",
    "print()\n",
    "dd_44     = qucf_r.read_matrix(path_, \"flat_44_OUTPUT.hdf5\")      # nv = 4, nx = 4 (D-matrix)\n",
    "\n",
    "print()\n",
    "dd_55 = qucf_r.read_matrix(path_, \"flat_55_OUTPUT.hdf5\") #  nx = 5, nv = 5\n",
    "\n",
    "print(\"\\n --- Classical data ---\")\n",
    "cl_33 = kin.read_matrix(path_cl_, \"out_3_3_w1.2_Lx100_Lv4_flat.hdf5\")\n",
    "cl_44 = kin.read_matrix(path_cl_, \"out_4_4_w1.2_Lx100_Lv4_flat.hdf5\")\n",
    "cl_55 = kin.read_matrix(path_cl_, \"out_5_5_w1.2_Lx100_Lv4_flat.hdf5\")"
   ]
  },
  {
   "cell_type": "code",
   "execution_count": null,
   "id": "f5c96c61",
   "metadata": {},
   "outputs": [],
   "source": []
  },
  {
   "cell_type": "code",
   "execution_count": 5,
   "id": "46411170",
   "metadata": {},
   "outputs": [],
   "source": [
    "# ------------------------------------------------------------\n",
    "# --- Chosen structures ---\n",
    "# ------------------------------------------------------------\n",
    "# dd_q_ = dict(dd_55)\n",
    "# dd_c_ = dict(cl_55)\n",
    "\n",
    "dd_q_ = dict(dd_44)\n",
    "dd_c_ = dict(cl_44)\n",
    "\n",
    "# dd_q_ = dict(dd_33)\n",
    "# dd_c_ = dict(cl_33)"
   ]
  },
  {
   "cell_type": "code",
   "execution_count": null,
   "id": "cfc76859",
   "metadata": {},
   "outputs": [],
   "source": []
  },
  {
   "cell_type": "code",
   "execution_count": 6,
   "id": "4c933466",
   "metadata": {},
   "outputs": [
    {
     "name": "stdout",
     "output_type": "stream",
     "text": [
      "amin.(excl. zero) value in D: \t\t8.798e-03\n",
      "amax. value in A: \t\t\t4.000e+00\n",
      "amin.(excl. zero) value in A: \t\t2.855e-04\n",
      "\n",
      "amax. value in A-norm: \t\t\t3.552e-03\n",
      "amin. (excl. zero)  value in A-norm: \t2.535e-07\n",
      "Adding a register 'axr'...\n",
      "Adding a register 'avr'...\n",
      "Adding a register 'rx'...\n",
      "Adding a register 'rv'...\n",
      "\n",
      "N-nz(D_F): 1280\n",
      "N-nz(A_F): 1280\n"
     ]
    }
   ],
   "source": [
    "# -------------------------------------------------------------\n",
    "# --- Normalize the matrix and define the circuit structure ---\n",
    "# -------------------------------------------------------------\n",
    "mix.reload_module(mix)\n",
    "mix.reload_module(qucf_o)\n",
    "mix.reload_module(kin)\n",
    "\n",
    "\n",
    "# --- normalize the whole matrix A ---\n",
    "Nx, Nv = 1<<dd_q_[\"regs\"][\"rx\"], 1<<dd_q_[\"regs\"][\"rv\"]\n",
    "Nvar = Nx * Nv\n",
    "del Nx, Nv\n",
    "\n",
    "A = dd_c_[\"A\"]\n",
    "D = dd_q_[\"A-real\"]\n",
    "A_norm = qucf_o.normalize_matrix_A(A, D)\n",
    "del A\n",
    "\n",
    "# --- take only the submatrix F from the normalized matrix A ---\n",
    "A_F_norm = A_norm[0:Nvar, 0:Nvar]\n",
    "D_F      = D[0:Nvar, 0:Nvar]\n",
    "del Nvar, A_norm, D\n",
    "\n",
    "# Define the circuit structure (problem-specific part):\n",
    "oo_circ = kin.init_circuit_kin(dd_q_)\n",
    "\n",
    "# Compute the number of nonzero elements:\n",
    "N_nz_D = qucf_o.compute_Nz(oo_circ, D_F)\n",
    "N_nz_A = qucf_o.compute_Nz(oo_circ, A_F_norm)\n",
    "print()\n",
    "print(\"N-nz(D_F): {:d}\".format(N_nz_D))\n",
    "print(\"N-nz(A_F): {:d}\".format(N_nz_A))"
   ]
  },
  {
   "cell_type": "code",
   "execution_count": null,
   "id": "cad89447",
   "metadata": {},
   "outputs": [],
   "source": []
  },
  {
   "cell_type": "code",
   "execution_count": 41,
   "id": "86ebc5c9",
   "metadata": {},
   "outputs": [
    {
     "name": "stdout",
     "output_type": "stream",
     "text": [
      "N-input-registers = 2 with [4, 4] qubits\n",
      "N-ancilla-registers = 2 with [3, 3] qubits\n",
      "Total number of input qubits: 8\n",
      "Matrix size that can be encoded: 256\n",
      "N-gates: 1830\n"
     ]
    }
   ],
   "source": [
    "# -----------------------------------------------\n",
    "# --- Computation of oracle angles ---\n",
    "# -----------------------------------------------\n",
    "mix.reload_module(mix)\n",
    "mix.reload_module(qucf_o)\n",
    "\n",
    "# Compute angles of rotations gates:\n",
    "Ty, Tc_ampl, Tc_phase = qucf_o.compute_angles(A_F_norm, D_F)\n",
    "\n",
    "# Rearrange angles:\n",
    "grid_Ry       = qucf_o.create_grid_of_gates(oo_circ, Ty)\n",
    "grid_Rc_ampl  = qucf_o.create_grid_of_gates(oo_circ, Tc_ampl)\n",
    "grid_Rc_phase = qucf_o.create_grid_of_gates(oo_circ, Tc_phase)\n",
    "\n",
    "# Create original groups:\n",
    "flag_neighbor = False\n",
    "groups_Ry = qucf_o.create_groups(oo_circ, grid_Ry,      grid_R_phase=None,          flag_neighbor=flag_neighbor)\n",
    "groups_Rc = qucf_o.create_groups(oo_circ, grid_Rc_ampl, grid_R_phase=grid_Rc_phase, flag_neighbor=flag_neighbor)\n",
    "sys_gates_ = qucf_o.SystemGates__(oo_circ, D_F, groups_Ry, groups_Rc)\n",
    "\n",
    "# Split groups:\n",
    "sys_gates_.n_split_ = 2\n",
    "sys_gates_.split_gates_groups()\n",
    "\n",
    "# Sort groups:\n",
    "sys_gates_.sort_gates_groups()\n",
    "\n",
    "# Extend the gates:\n",
    "sys_gates_.coef_ext_ = 4\n",
    "sys_gates_.extend_gates_groups()\n",
    "\n",
    "# Construct the circuit:\n",
    "sys_gates_.construct_circuit_OH(path_, file_name_oracle_)"
   ]
  },
  {
   "cell_type": "code",
   "execution_count": null,
   "id": "15c90bb0",
   "metadata": {},
   "outputs": [],
   "source": []
  },
  {
   "cell_type": "code",
   "execution_count": 37,
   "id": "eda5b4e8",
   "metadata": {},
   "outputs": [
    {
     "name": "stdout",
     "output_type": "stream",
     "text": [
      "Matrix size: 256\n",
      "\n",
      "Max. abs. diff-real: 1.916e-17\n",
      "Max. abs. diff-imag: 1.084e-17\n"
     ]
    }
   ],
   "source": [
    "# --- Recreate the matrix using the groups ---\n",
    "qucf_o.compare_matrices(oo_circ, sys_gates_.reconstruct_matrix_using_groups(), A_F_norm)"
   ]
  },
  {
   "cell_type": "code",
   "execution_count": null,
   "id": "49ae1335",
   "metadata": {},
   "outputs": [],
   "source": []
  },
  {
   "cell_type": "code",
   "execution_count": 38,
   "id": "c9820618",
   "metadata": {},
   "outputs": [
    {
     "name": "stdout",
     "output_type": "stream",
     "text": [
      "\n",
      "N = 256\n",
      "--- Groups for the gate Ry ---\n",
      "Number of groups: 761\n",
      "--- Groups for the gate Rc ---\n",
      "Number of groups: 138\n",
      "\n"
     ]
    }
   ],
   "source": [
    "# --- Count the number of groups ---\n",
    "mix.reload_module(qucf_o)\n",
    "sys_gates_.count_groups()\n",
    "\n",
    "# sys_gates_.print_angles(\"Rc\")"
   ]
  },
  {
   "cell_type": "code",
   "execution_count": null,
   "id": "7435d504",
   "metadata": {},
   "outputs": [],
   "source": []
  },
  {
   "cell_type": "code",
   "execution_count": 25,
   "id": "7e5e5f75",
   "metadata": {},
   "outputs": [
    {
     "name": "stdout",
     "output_type": "stream",
     "text": [
      "Reading the matrix from: flat_OUTPUT.hdf5\n",
      "from the path: ../simulations/KIN1D1D/\n",
      "date of the simulation:  06-29-2023 15:05:55\n",
      "matrix name:  U_BE\n",
      "N = 128\n",
      "\n",
      "Max. abs. diff-real: 4.222e-14\n",
      "Max. abs. diff-imag: 3.091e-14\n"
     ]
    }
   ],
   "source": [
    "# ----------------------------------------------------------\n",
    "# --- Read results ---\n",
    "# ----------------------------------------------------------\n",
    "mix.reload_module(qucf_r)\n",
    "\n",
    "dd_res = qucf_r.read_matrix(path_, \"flat_OUTPUT.hdf5\") \n",
    "\n",
    "qucf_o.compare_matrices(oo_circ, dd_res[\"A\"], A_F_norm)"
   ]
  },
  {
   "cell_type": "code",
   "execution_count": null,
   "id": "3e9d4a46",
   "metadata": {},
   "outputs": [],
   "source": []
  },
  {
   "cell_type": "code",
   "execution_count": 7,
   "id": "2ad0e1ff",
   "metadata": {
    "scrolled": false
   },
   "outputs": [
    {
     "name": "stdout",
     "output_type": "stream",
     "text": [
      "****** Nv: 16 *************************************\n",
      "--- 0:  \u001b[5m\u001b[7m\u001b[31m-0.886\u001b[0m \u001b[5m\u001b[7m\u001b[31m-0.035\u001b[0m \u001b[5m\u001b[7m\u001b[31m 0.028\u001b[0m \u001b[5m\u001b[7m\u001b[31m-0.007\u001b[0m  0.000  0.000  0.000  0.000  0.000  0.000  0.000  0.000  0.000  0.000  0.000  0.000\n",
      "--- 1:  \u001b[5m\u001b[7m\u001b[31m 0.007\u001b[0m \u001b[5m\u001b[7m\u001b[31m-0.794\u001b[0m \u001b[5m\u001b[7m\u001b[31m 0.007\u001b[0m  0.000  0.000  0.000  0.000  0.000  0.000  0.000  0.000  0.000  0.000  0.000  0.000  0.000\n",
      "--- 2:   0.000 \u001b[5m\u001b[7m\u001b[31m 0.007\u001b[0m \u001b[5m\u001b[7m\u001b[31m-0.674\u001b[0m \u001b[5m\u001b[7m\u001b[31m 0.007\u001b[0m  0.000  0.000  0.000  0.000  0.000  0.000  0.000  0.000  0.000  0.000  0.000  0.000\n",
      "--- 3:   0.000  0.000 \u001b[5m\u001b[7m\u001b[31m 0.007\u001b[0m \u001b[5m\u001b[7m\u001b[31m-0.554\u001b[0m \u001b[5m\u001b[7m\u001b[31m 0.007\u001b[0m  0.000  0.000  0.000  0.000  0.000  0.000  0.000  0.000  0.000  0.000  0.000\n",
      "--- 4:   0.000  0.000  0.000 \u001b[5m\u001b[7m\u001b[31m 0.007\u001b[0m \u001b[5m\u001b[7m\u001b[31m-0.434\u001b[0m \u001b[5m\u001b[7m\u001b[31m 0.007\u001b[0m  0.000  0.000  0.000  0.000  0.000  0.000  0.000  0.000  0.000  0.000\n",
      "--- 5:   0.000  0.000  0.000  0.000 \u001b[5m\u001b[7m\u001b[31m 0.007\u001b[0m \u001b[5m\u001b[7m\u001b[31m-0.314\u001b[0m \u001b[5m\u001b[7m\u001b[31m 0.007\u001b[0m  0.000  0.000  0.000  0.000  0.000  0.000  0.000  0.000  0.000\n",
      "--- 6:   0.000  0.000  0.000  0.000  0.000 \u001b[5m\u001b[7m\u001b[31m 0.007\u001b[0m \u001b[5m\u001b[7m\u001b[31m-0.194\u001b[0m \u001b[5m\u001b[7m\u001b[31m 0.007\u001b[0m  0.000  0.000  0.000  0.000  0.000  0.000  0.000  0.000\n",
      "--- 7:   0.000  0.000  0.000  0.000  0.000  0.000 \u001b[5m\u001b[7m\u001b[31m 0.007\u001b[0m \u001b[5m\u001b[7m\u001b[31m-0.074\u001b[0m \u001b[5m\u001b[7m\u001b[31m 0.007\u001b[0m  0.000  0.000  0.000  0.000  0.000  0.000  0.000\n",
      "--- 8:   0.000  0.000  0.000  0.000  0.000  0.000  0.000 \u001b[5m\u001b[7m\u001b[31m 0.007\u001b[0m \u001b[5m\u001b[7m\u001b[31m-0.014\u001b[0m \u001b[5m\u001b[7m\u001b[31m 0.007\u001b[0m  0.000  0.000  0.000  0.000  0.000  0.000\n",
      "--- 9:   0.000  0.000  0.000  0.000  0.000  0.000  0.000  0.000 \u001b[5m\u001b[7m\u001b[31m 0.007\u001b[0m \u001b[5m\u001b[7m\u001b[31m-0.014\u001b[0m \u001b[5m\u001b[7m\u001b[31m 0.007\u001b[0m  0.000  0.000  0.000  0.000  0.000\n",
      "--- 10:  0.000  0.000  0.000  0.000  0.000  0.000  0.000  0.000  0.000 \u001b[5m\u001b[7m\u001b[31m 0.007\u001b[0m \u001b[5m\u001b[7m\u001b[31m-0.014\u001b[0m \u001b[5m\u001b[7m\u001b[31m 0.007\u001b[0m  0.000  0.000  0.000  0.000\n",
      "--- 11:  0.000  0.000  0.000  0.000  0.000  0.000  0.000  0.000  0.000  0.000 \u001b[5m\u001b[7m\u001b[31m 0.007\u001b[0m \u001b[5m\u001b[7m\u001b[31m-0.014\u001b[0m \u001b[5m\u001b[7m\u001b[31m 0.007\u001b[0m  0.000  0.000  0.000\n",
      "--- 12:  0.000  0.000  0.000  0.000  0.000  0.000  0.000  0.000  0.000  0.000  0.000 \u001b[5m\u001b[7m\u001b[31m 0.007\u001b[0m \u001b[5m\u001b[7m\u001b[31m-0.014\u001b[0m \u001b[5m\u001b[7m\u001b[31m 0.007\u001b[0m  0.000  0.000\n",
      "--- 13:  0.000  0.000  0.000  0.000  0.000  0.000  0.000  0.000  0.000  0.000  0.000  0.000 \u001b[5m\u001b[7m\u001b[31m 0.007\u001b[0m \u001b[5m\u001b[7m\u001b[31m-0.014\u001b[0m \u001b[5m\u001b[7m\u001b[31m 0.007\u001b[0m  0.000\n",
      "--- 14:  0.000  0.000  0.000  0.000  0.000  0.000  0.000  0.000  0.000  0.000  0.000  0.000  0.000 \u001b[5m\u001b[7m\u001b[31m 0.007\u001b[0m \u001b[5m\u001b[7m\u001b[31m-0.014\u001b[0m \u001b[5m\u001b[7m\u001b[31m 0.007\u001b[0m\n",
      "--- 15:  0.000  0.000  0.000  0.000  0.000  0.000  0.000  0.000  0.000  0.000  0.000  0.000 \u001b[5m\u001b[7m\u001b[31m-0.007\u001b[0m \u001b[5m\u001b[7m\u001b[31m 0.028\u001b[0m \u001b[5m\u001b[7m\u001b[31m-0.035\u001b[0m \u001b[5m\u001b[7m\u001b[31m 0.014\u001b[0m\n",
      "****** Nv: 32 *************************************\n",
      "--- 0:  \u001b[5m\u001b[7m\u001b[31m-1.800\u001b[0m \u001b[5m\u001b[7m\u001b[31m-0.150\u001b[0m \u001b[5m\u001b[7m\u001b[31m 0.120\u001b[0m \u001b[5m\u001b[7m\u001b[31m-0.030\u001b[0m  0.000  0.000  0.000  0.000  0.000  0.000  0.000  0.000  0.000  0.000  0.000  0.000  0.000  0.000  0.000  0.000  0.000  0.000  0.000  0.000  0.000  0.000  0.000  0.000  0.000  0.000  0.000  0.000\n",
      "--- 1:  \u001b[5m\u001b[7m\u001b[31m 0.030\u001b[0m \u001b[5m\u001b[7m\u001b[31m-1.800\u001b[0m \u001b[5m\u001b[7m\u001b[31m 0.030\u001b[0m  0.000  0.000  0.000  0.000  0.000  0.000  0.000  0.000  0.000  0.000  0.000  0.000  0.000  0.000  0.000  0.000  0.000  0.000  0.000  0.000  0.000  0.000  0.000  0.000  0.000  0.000  0.000  0.000  0.000\n",
      "--- 2:   0.000 \u001b[5m\u001b[7m\u001b[31m 0.030\u001b[0m \u001b[5m\u001b[7m\u001b[31m-1.680\u001b[0m \u001b[5m\u001b[7m\u001b[31m 0.030\u001b[0m  0.000  0.000  0.000  0.000  0.000  0.000  0.000  0.000  0.000  0.000  0.000  0.000  0.000  0.000  0.000  0.000  0.000  0.000  0.000  0.000  0.000  0.000  0.000  0.000  0.000  0.000  0.000  0.000\n",
      "--- 3:   0.000  0.000 \u001b[5m\u001b[7m\u001b[31m 0.030\u001b[0m \u001b[5m\u001b[7m\u001b[31m-1.560\u001b[0m \u001b[5m\u001b[7m\u001b[31m 0.030\u001b[0m  0.000  0.000  0.000  0.000  0.000  0.000  0.000  0.000  0.000  0.000  0.000  0.000  0.000  0.000  0.000  0.000  0.000  0.000  0.000  0.000  0.000  0.000  0.000  0.000  0.000  0.000  0.000\n",
      "--- 4:   0.000  0.000  0.000 \u001b[5m\u001b[7m\u001b[31m 0.030\u001b[0m \u001b[5m\u001b[7m\u001b[31m-1.440\u001b[0m \u001b[5m\u001b[7m\u001b[31m 0.030\u001b[0m  0.000  0.000  0.000  0.000  0.000  0.000  0.000  0.000  0.000  0.000  0.000  0.000  0.000  0.000  0.000  0.000  0.000  0.000  0.000  0.000  0.000  0.000  0.000  0.000  0.000  0.000\n",
      "--- 5:   0.000  0.000  0.000  0.000 \u001b[5m\u001b[7m\u001b[31m 0.030\u001b[0m \u001b[5m\u001b[7m\u001b[31m-1.320\u001b[0m \u001b[5m\u001b[7m\u001b[31m 0.030\u001b[0m  0.000  0.000  0.000  0.000  0.000  0.000  0.000  0.000  0.000  0.000  0.000  0.000  0.000  0.000  0.000  0.000  0.000  0.000  0.000  0.000  0.000  0.000  0.000  0.000  0.000\n",
      "--- 6:   0.000  0.000  0.000  0.000  0.000 \u001b[5m\u001b[7m\u001b[31m 0.030\u001b[0m \u001b[5m\u001b[7m\u001b[31m-1.200\u001b[0m \u001b[5m\u001b[7m\u001b[31m 0.030\u001b[0m  0.000  0.000  0.000  0.000  0.000  0.000  0.000  0.000  0.000  0.000  0.000  0.000  0.000  0.000  0.000  0.000  0.000  0.000  0.000  0.000  0.000  0.000  0.000  0.000\n",
      "--- 7:   0.000  0.000  0.000  0.000  0.000  0.000 \u001b[5m\u001b[7m\u001b[31m 0.030\u001b[0m \u001b[5m\u001b[7m\u001b[31m-1.080\u001b[0m \u001b[5m\u001b[7m\u001b[31m 0.030\u001b[0m  0.000  0.000  0.000  0.000  0.000  0.000  0.000  0.000  0.000  0.000  0.000  0.000  0.000  0.000  0.000  0.000  0.000  0.000  0.000  0.000  0.000  0.000  0.000\n",
      "--- 8:   0.000  0.000  0.000  0.000  0.000  0.000  0.000 \u001b[5m\u001b[7m\u001b[31m 0.030\u001b[0m \u001b[5m\u001b[7m\u001b[31m-0.960\u001b[0m \u001b[5m\u001b[7m\u001b[31m 0.030\u001b[0m  0.000  0.000  0.000  0.000  0.000  0.000  0.000  0.000  0.000  0.000  0.000  0.000  0.000  0.000  0.000  0.000  0.000  0.000  0.000  0.000  0.000  0.000\n",
      "--- 9:   0.000  0.000  0.000  0.000  0.000  0.000  0.000  0.000 \u001b[5m\u001b[7m\u001b[31m 0.030\u001b[0m \u001b[5m\u001b[7m\u001b[31m-0.840\u001b[0m \u001b[5m\u001b[7m\u001b[31m 0.030\u001b[0m  0.000  0.000  0.000  0.000  0.000  0.000  0.000  0.000  0.000  0.000  0.000  0.000  0.000  0.000  0.000  0.000  0.000  0.000  0.000  0.000  0.000\n",
      "--- 10:  0.000  0.000  0.000  0.000  0.000  0.000  0.000  0.000  0.000 \u001b[5m\u001b[7m\u001b[31m 0.030\u001b[0m \u001b[5m\u001b[7m\u001b[31m-0.720\u001b[0m \u001b[5m\u001b[7m\u001b[31m 0.030\u001b[0m  0.000  0.000  0.000  0.000  0.000  0.000  0.000  0.000  0.000  0.000  0.000  0.000  0.000  0.000  0.000  0.000  0.000  0.000  0.000  0.000\n",
      "--- 11:  0.000  0.000  0.000  0.000  0.000  0.000  0.000  0.000  0.000  0.000 \u001b[5m\u001b[7m\u001b[31m 0.030\u001b[0m \u001b[5m\u001b[7m\u001b[31m-0.600\u001b[0m \u001b[5m\u001b[7m\u001b[31m 0.030\u001b[0m  0.000  0.000  0.000  0.000  0.000  0.000  0.000  0.000  0.000  0.000  0.000  0.000  0.000  0.000  0.000  0.000  0.000  0.000  0.000\n",
      "--- 12:  0.000  0.000  0.000  0.000  0.000  0.000  0.000  0.000  0.000  0.000  0.000 \u001b[5m\u001b[7m\u001b[31m 0.030\u001b[0m \u001b[5m\u001b[7m\u001b[31m-0.480\u001b[0m \u001b[5m\u001b[7m\u001b[31m 0.030\u001b[0m  0.000  0.000  0.000  0.000  0.000  0.000  0.000  0.000  0.000  0.000  0.000  0.000  0.000  0.000  0.000  0.000  0.000  0.000\n",
      "--- 13:  0.000  0.000  0.000  0.000  0.000  0.000  0.000  0.000  0.000  0.000  0.000  0.000 \u001b[5m\u001b[7m\u001b[31m 0.030\u001b[0m \u001b[5m\u001b[7m\u001b[31m-0.360\u001b[0m \u001b[5m\u001b[7m\u001b[31m 0.030\u001b[0m  0.000  0.000  0.000  0.000  0.000  0.000  0.000  0.000  0.000  0.000  0.000  0.000  0.000  0.000  0.000  0.000  0.000\n",
      "--- 14:  0.000  0.000  0.000  0.000  0.000  0.000  0.000  0.000  0.000  0.000  0.000  0.000  0.000 \u001b[5m\u001b[7m\u001b[31m 0.030\u001b[0m \u001b[5m\u001b[7m\u001b[31m-0.240\u001b[0m \u001b[5m\u001b[7m\u001b[31m 0.030\u001b[0m  0.000  0.000  0.000  0.000  0.000  0.000  0.000  0.000  0.000  0.000  0.000  0.000  0.000  0.000  0.000  0.000\n",
      "--- 15:  0.000  0.000  0.000  0.000  0.000  0.000  0.000  0.000  0.000  0.000  0.000  0.000  0.000  0.000 \u001b[5m\u001b[7m\u001b[31m 0.030\u001b[0m \u001b[5m\u001b[7m\u001b[31m-0.120\u001b[0m \u001b[5m\u001b[7m\u001b[31m 0.030\u001b[0m  0.000  0.000  0.000  0.000  0.000  0.000  0.000  0.000  0.000  0.000  0.000  0.000  0.000  0.000  0.000\n",
      "--- 16:  0.000  0.000  0.000  0.000  0.000  0.000  0.000  0.000  0.000  0.000  0.000  0.000  0.000  0.000  0.000 \u001b[5m\u001b[7m\u001b[31m 0.030\u001b[0m \u001b[5m\u001b[7m\u001b[31m-0.060\u001b[0m \u001b[5m\u001b[7m\u001b[31m 0.030\u001b[0m  0.000  0.000  0.000  0.000  0.000  0.000  0.000  0.000  0.000  0.000  0.000  0.000  0.000  0.000\n",
      "--- 17:  0.000  0.000  0.000  0.000  0.000  0.000  0.000  0.000  0.000  0.000  0.000  0.000  0.000  0.000  0.000  0.000 \u001b[5m\u001b[7m\u001b[31m 0.030\u001b[0m \u001b[5m\u001b[7m\u001b[31m-0.060\u001b[0m \u001b[5m\u001b[7m\u001b[31m 0.030\u001b[0m  0.000  0.000  0.000  0.000  0.000  0.000  0.000  0.000  0.000  0.000  0.000  0.000  0.000\n",
      "--- 18:  0.000  0.000  0.000  0.000  0.000  0.000  0.000  0.000  0.000  0.000  0.000  0.000  0.000  0.000  0.000  0.000  0.000 \u001b[5m\u001b[7m\u001b[31m 0.030\u001b[0m \u001b[5m\u001b[7m\u001b[31m-0.060\u001b[0m \u001b[5m\u001b[7m\u001b[31m 0.030\u001b[0m  0.000  0.000  0.000  0.000  0.000  0.000  0.000  0.000  0.000  0.000  0.000  0.000\n",
      "--- 19:  0.000  0.000  0.000  0.000  0.000  0.000  0.000  0.000  0.000  0.000  0.000  0.000  0.000  0.000  0.000  0.000  0.000  0.000 \u001b[5m\u001b[7m\u001b[31m 0.030\u001b[0m \u001b[5m\u001b[7m\u001b[31m-0.060\u001b[0m \u001b[5m\u001b[7m\u001b[31m 0.030\u001b[0m  0.000  0.000  0.000  0.000  0.000  0.000  0.000  0.000  0.000  0.000  0.000\n",
      "--- 20:  0.000  0.000  0.000  0.000  0.000  0.000  0.000  0.000  0.000  0.000  0.000  0.000  0.000  0.000  0.000  0.000  0.000  0.000  0.000 \u001b[5m\u001b[7m\u001b[31m 0.030\u001b[0m \u001b[5m\u001b[7m\u001b[31m-0.060\u001b[0m \u001b[5m\u001b[7m\u001b[31m 0.030\u001b[0m  0.000  0.000  0.000  0.000  0.000  0.000  0.000  0.000  0.000  0.000\n",
      "--- 21:  0.000  0.000  0.000  0.000  0.000  0.000  0.000  0.000  0.000  0.000  0.000  0.000  0.000  0.000  0.000  0.000  0.000  0.000  0.000  0.000 \u001b[5m\u001b[7m\u001b[31m 0.030\u001b[0m \u001b[5m\u001b[7m\u001b[31m-0.060\u001b[0m \u001b[5m\u001b[7m\u001b[31m 0.030\u001b[0m  0.000  0.000  0.000  0.000  0.000  0.000  0.000  0.000  0.000\n",
      "--- 22:  0.000  0.000  0.000  0.000  0.000  0.000  0.000  0.000  0.000  0.000  0.000  0.000  0.000  0.000  0.000  0.000  0.000  0.000  0.000  0.000  0.000 \u001b[5m\u001b[7m\u001b[31m 0.030\u001b[0m \u001b[5m\u001b[7m\u001b[31m-0.060\u001b[0m \u001b[5m\u001b[7m\u001b[31m 0.030\u001b[0m  0.000  0.000  0.000  0.000  0.000  0.000  0.000  0.000\n",
      "--- 23:  0.000  0.000  0.000  0.000  0.000  0.000  0.000  0.000  0.000  0.000  0.000  0.000  0.000  0.000  0.000  0.000  0.000  0.000  0.000  0.000  0.000  0.000 \u001b[5m\u001b[7m\u001b[31m 0.030\u001b[0m \u001b[5m\u001b[7m\u001b[31m-0.060\u001b[0m \u001b[5m\u001b[7m\u001b[31m 0.030\u001b[0m  0.000  0.000  0.000  0.000  0.000  0.000  0.000\n",
      "--- 24:  0.000  0.000  0.000  0.000  0.000  0.000  0.000  0.000  0.000  0.000  0.000  0.000  0.000  0.000  0.000  0.000  0.000  0.000  0.000  0.000  0.000  0.000  0.000 \u001b[5m\u001b[7m\u001b[31m 0.030\u001b[0m \u001b[5m\u001b[7m\u001b[31m-0.060\u001b[0m \u001b[5m\u001b[7m\u001b[31m 0.030\u001b[0m  0.000  0.000  0.000  0.000  0.000  0.000\n",
      "--- 25:  0.000  0.000  0.000  0.000  0.000  0.000  0.000  0.000  0.000  0.000  0.000  0.000  0.000  0.000  0.000  0.000  0.000  0.000  0.000  0.000  0.000  0.000  0.000  0.000 \u001b[5m\u001b[7m\u001b[31m 0.030\u001b[0m \u001b[5m\u001b[7m\u001b[31m-0.060\u001b[0m \u001b[5m\u001b[7m\u001b[31m 0.030\u001b[0m  0.000  0.000  0.000  0.000  0.000\n",
      "--- 26:  0.000  0.000  0.000  0.000  0.000  0.000  0.000  0.000  0.000  0.000  0.000  0.000  0.000  0.000  0.000  0.000  0.000  0.000  0.000  0.000  0.000  0.000  0.000  0.000  0.000 \u001b[5m\u001b[7m\u001b[31m 0.030\u001b[0m \u001b[5m\u001b[7m\u001b[31m-0.060\u001b[0m \u001b[5m\u001b[7m\u001b[31m 0.030\u001b[0m  0.000  0.000  0.000  0.000\n",
      "--- 27:  0.000  0.000  0.000  0.000  0.000  0.000  0.000  0.000  0.000  0.000  0.000  0.000  0.000  0.000  0.000  0.000  0.000  0.000  0.000  0.000  0.000  0.000  0.000  0.000  0.000  0.000 \u001b[5m\u001b[7m\u001b[31m 0.030\u001b[0m \u001b[5m\u001b[7m\u001b[31m-0.060\u001b[0m \u001b[5m\u001b[7m\u001b[31m 0.030\u001b[0m  0.000  0.000  0.000\n",
      "--- 28:  0.000  0.000  0.000  0.000  0.000  0.000  0.000  0.000  0.000  0.000  0.000  0.000  0.000  0.000  0.000  0.000  0.000  0.000  0.000  0.000  0.000  0.000  0.000  0.000  0.000  0.000  0.000 \u001b[5m\u001b[7m\u001b[31m 0.030\u001b[0m \u001b[5m\u001b[7m\u001b[31m-0.060\u001b[0m \u001b[5m\u001b[7m\u001b[31m 0.030\u001b[0m  0.000  0.000\n",
      "--- 29:  0.000  0.000  0.000  0.000  0.000  0.000  0.000  0.000  0.000  0.000  0.000  0.000  0.000  0.000  0.000  0.000  0.000  0.000  0.000  0.000  0.000  0.000  0.000  0.000  0.000  0.000  0.000  0.000 \u001b[5m\u001b[7m\u001b[31m 0.030\u001b[0m \u001b[5m\u001b[7m\u001b[31m-0.060\u001b[0m \u001b[5m\u001b[7m\u001b[31m 0.030\u001b[0m  0.000\n",
      "--- 30:  0.000  0.000  0.000  0.000  0.000  0.000  0.000  0.000  0.000  0.000  0.000  0.000  0.000  0.000  0.000  0.000  0.000  0.000  0.000  0.000  0.000  0.000  0.000  0.000  0.000  0.000  0.000  0.000  0.000 \u001b[5m\u001b[7m\u001b[31m 0.030\u001b[0m \u001b[5m\u001b[7m\u001b[31m-0.060\u001b[0m \u001b[5m\u001b[7m\u001b[31m 0.030\u001b[0m\n",
      "--- 31:  0.000  0.000  0.000  0.000  0.000  0.000  0.000  0.000  0.000  0.000  0.000  0.000  0.000  0.000  0.000  0.000  0.000  0.000  0.000  0.000  0.000  0.000  0.000  0.000  0.000  0.000  0.000  0.000 \u001b[5m\u001b[7m\u001b[31m-0.030\u001b[0m \u001b[5m\u001b[7m\u001b[31m 0.120\u001b[0m \u001b[5m\u001b[7m\u001b[31m-0.150\u001b[0m \u001b[5m\u001b[7m\u001b[31m 0.060\u001b[0m\n"
     ]
    }
   ],
   "source": [
    "# ---------------------------------------------------------------\n",
    "# --- Function to print matrix subblocks ---\n",
    "# ---------------------------------------------------------------\n",
    "mix.reload_module(mix)\n",
    "def print_submatrix(dd, B):\n",
    "    nx, nv = dd[\"regs\"][\"rx\"], dd[\"regs\"][\"rv\"]\n",
    "    Nx, Nv = 1<<dd[\"regs\"][\"rx\"], 1<<dd[\"regs\"][\"rv\"]\n",
    "    \n",
    "    print(\"****** Nv: {:d} *************************************\".format(Nv))\n",
    "    \n",
    "    ir_x, ic_x = 0, 0 # x[0], diag\n",
    "#     ir_x, ic_x = 0, 1 # V-f: x[0], diag+1\n",
    "#     ir_x, ic_x = 0, 2 # V-f: x[0], diag+2\n",
    "#     ir_x, ic_x = 0, 3 # V-f: x[0], diag+3\n",
    "\n",
    "#     ir_x, ic_x = 1, 0 # V-f: x[1], diag-1\n",
    "#     ir_x, ic_x = 1, 1 # V-f: x[1], diag\n",
    "#     ir_x, ic_x = 1, 2 # V-f: x[1], diag+1\n",
    "#     ir_x, ic_x = 1, 3 # V-f: x[1], diag+2\n",
    "\n",
    "#     ir_x, ic_x = 2, 1 # V-f: x[1], diag-1\n",
    "#     ir_x, ic_x = 2, 2 # V-f: x[1], diag\n",
    "#     ir_x, ic_x = 2, 3 # V-f: x[1], diag+1\n",
    "\n",
    "#     ir_x, ic_x = 3, 2 # V-f: x[1], diag-1\n",
    "#     ir_x, ic_x = 3, 3 # V-f: x[1], diag\n",
    "#     ir_x, ic_x = 3, 4 # V-f: x[1], diag+1\n",
    "\n",
    "#     ir_x, ic_x = Nx-1, Nx-4 # V-f: x[1], diag-3\n",
    "#     ir_x, ic_x = Nx-1, Nx-3 # V-f: x[1], diag-2\n",
    "#     ir_x, ic_x = Nx-1, Nx-2 # V-f: x[1], diag-1\n",
    "#     ir_x, ic_x = Nx-1, Nx-1 # V-f: x[1], diag\n",
    "\n",
    "    \n",
    "    # --------------------------------------------------\n",
    "    Nr_print, Nc_print = Nv, Nv\n",
    "    ir_start, ic_start = Nv * ir_x, Nv * ic_x\n",
    "    \n",
    "    \n",
    "    mix.print_subblock_colored(\n",
    "        B, \n",
    "        ir_start, ic_start,\n",
    "        Nr_print, Nc_print,\n",
    "        ff=[6, 3, \"f\"], \n",
    "        n_in_row = Nc_print, \n",
    "        gap_be = \" \", \n",
    "    )\n",
    "    \n",
    "# -------------------------------------------------------------------------------------------------\n",
    "# -------------------------------------------------------------------------------------------------\n",
    "# print_submatrix(dd_44, Ty_44) \n",
    "# print_submatrix(dd_55, Ty_55) \n",
    "\n",
    "# print_submatrix(cl_33, np.real(A_F_norm)) \n",
    "# print_submatrix(cl_33, np.imag(A_F_norm)) \n",
    "\n",
    "print_submatrix(cl_44, np.real(cl_44[\"A\"])) \n",
    "print_submatrix(cl_55, np.real(cl_55[\"A\"])) \n",
    "\n",
    "# print_submatrix(cl_44, np.imag(cl_44[\"A\"])) \n",
    "# print_submatrix(cl_55, np.imag(cl_55[\"A\"]))"
   ]
  },
  {
   "cell_type": "code",
   "execution_count": null,
   "id": "bac1a70b",
   "metadata": {},
   "outputs": [],
   "source": []
  },
  {
   "cell_type": "code",
   "execution_count": 29,
   "id": "59226a81",
   "metadata": {},
   "outputs": [
    {
     "name": "stdout",
     "output_type": "stream",
     "text": [
      "[1, 0]\n"
     ]
    }
   ],
   "source": [
    "mix.reload_module(qucf_o)\n",
    "row_index = 1\n",
    "column_index = 9\n",
    "anc_column_ints = oo_circ.compute_integers_in_ancillae_from_row_column(row_index, column_index)\n",
    "print(anc_column_ints)"
   ]
  },
  {
   "cell_type": "code",
   "execution_count": 30,
   "id": "a200b62e",
   "metadata": {},
   "outputs": [
    {
     "data": {
      "text/plain": [
       "9"
      ]
     },
     "execution_count": 30,
     "metadata": {},
     "output_type": "execute_result"
    }
   ],
   "source": [
    "mix.reload_module(qucf_o)\n",
    "\n",
    "oo_circ.get_column_index_from_anc_integers(\n",
    "    anc_column_ints,\n",
    "    oo_circ.compute_integers_in_input_registers(row_index),\n",
    ")"
   ]
  },
  {
   "cell_type": "code",
   "execution_count": null,
   "id": "9d1a00da",
   "metadata": {},
   "outputs": [],
   "source": []
  },
  {
   "cell_type": "code",
   "execution_count": 34,
   "id": "72c45de7",
   "metadata": {},
   "outputs": [
    {
     "data": {
      "text/plain": [
       "31"
      ]
     },
     "execution_count": 34,
     "metadata": {},
     "output_type": "execute_result"
    }
   ],
   "source": [
    "oo_circ.get_section_index(anc_column_ints)"
   ]
  },
  {
   "cell_type": "code",
   "execution_count": null,
   "id": "5df37ae6",
   "metadata": {},
   "outputs": [],
   "source": []
  },
  {
   "cell_type": "code",
   "execution_count": 32,
   "id": "a462b3be",
   "metadata": {},
   "outputs": [
    {
     "name": "stdout",
     "output_type": "stream",
     "text": [
      "1.768e-01\n",
      "           4.690e-04\n"
     ]
    }
   ],
   "source": [
    "theta_y = 3.136286110279e+00\n",
    "d_coef = D_F[1,9]\n",
    "print(\"{:0.3e}\".format(d_coef))\n",
    "print(\"{:20.3e}\".format(d_coef * np.cos(theta_y/2.)))"
   ]
  },
  {
   "cell_type": "code",
   "execution_count": null,
   "id": "86bff738",
   "metadata": {},
   "outputs": [],
   "source": [
    "3.141967882428e+00\n",
    "3.136286110279e+00"
   ]
  },
  {
   "cell_type": "code",
   "execution_count": null,
   "id": "6294f2fc",
   "metadata": {},
   "outputs": [],
   "source": []
  },
  {
   "cell_type": "code",
   "execution_count": null,
   "id": "19f125af",
   "metadata": {},
   "outputs": [],
   "source": []
  },
  {
   "cell_type": "code",
   "execution_count": 27,
   "id": "8ac42bdd",
   "metadata": {},
   "outputs": [
    {
     "name": "stdout",
     "output_type": "stream",
     "text": [
      "8.839e-02\n",
      "3.591e-06+1.407e-03j\n",
      "           1.407e-03\n"
     ]
    }
   ],
   "source": [
    "theta_y = 3.109751982373e+00\n",
    "theta_z = -3.136488498004e+00\n",
    "d_coef = D_F[7,7]\n",
    "print(\"{:0.3e}\".format(d_coef))\n",
    "print(\"{:20.3e}\".format(d_coef * np.exp(- 1j * theta_z/2.) * np.cos(theta_y/2.)))\n",
    "print(\"{:20.3e}\".format(d_coef * np.cos(theta_y/2.)))"
   ]
  },
  {
   "cell_type": "code",
   "execution_count": 26,
   "id": "621593e9",
   "metadata": {},
   "outputs": [
    {
     "data": {
      "text/plain": [
       "0.2973045576509045"
      ]
     },
     "execution_count": 26,
     "metadata": {},
     "output_type": "execute_result"
    }
   ],
   "source": [
    "np.sqrt(8.839e-02)"
   ]
  },
  {
   "cell_type": "code",
   "execution_count": 46,
   "id": "78daa2d8",
   "metadata": {},
   "outputs": [
    {
     "name": "stdout",
     "output_type": "stream",
     "text": [
      "2.568157288338e+00\n"
     ]
    }
   ],
   "source": [
    "av = 0.1\n",
    "coef_2 = 3.536e-1\n",
    "theat_y = 2. * np.arccos(av/coef_2)\n",
    "print(\"{:0.12e}\".format(theat_y))"
   ]
  },
  {
   "cell_type": "code",
   "execution_count": 45,
   "id": "a3e1911b",
   "metadata": {},
   "outputs": [
    {
     "data": {
      "text/plain": [
       "0.09999999999999999"
      ]
     },
     "execution_count": 45,
     "metadata": {},
     "output_type": "execute_result"
    }
   ],
   "source": [
    "coef_2*np.cos(theat_y/2.)"
   ]
  },
  {
   "cell_type": "code",
   "execution_count": 47,
   "id": "ce14a653",
   "metadata": {},
   "outputs": [
    {
     "data": {
      "text/plain": [
       "0.28280542986425333"
      ]
     },
     "execution_count": 47,
     "metadata": {},
     "output_type": "execute_result"
    }
   ],
   "source": [
    "np.cos(theat_y/2.)"
   ]
  },
  {
   "cell_type": "code",
   "execution_count": 55,
   "id": "5280c677",
   "metadata": {},
   "outputs": [
    {
     "name": "stdout",
     "output_type": "stream",
     "text": [
      "the same\n"
     ]
    }
   ],
   "source": [
    "xx = np.array([10, 20])\n",
    "yy = np.array([10, 204])\n",
    "if np.all(xx != yy):\n",
    "    print(\"not the same\")\n",
    "else:\n",
    "    print(\"the same\")"
   ]
  },
  {
   "cell_type": "code",
   "execution_count": null,
   "id": "7a2603e8",
   "metadata": {},
   "outputs": [],
   "source": []
  },
  {
   "cell_type": "code",
   "execution_count": 13,
   "id": "975fa927",
   "metadata": {},
   "outputs": [
    {
     "data": {
      "text/plain": [
       "array([[ 5.+0.j,  0.+0.j],\n",
       "       [25.+0.j, 20.+1.j]])"
      ]
     },
     "execution_count": 13,
     "metadata": {},
     "output_type": "execute_result"
    }
   ],
   "source": [
    "xx = np.array([\n",
    "    [10, 0],\n",
    "    [100, 200+10j]\n",
    "], dtype=complex)\n",
    "yy = np.array([\n",
    "    [2,0],\n",
    "    [4,10]\n",
    "], dtype=complex)\n",
    "\n"
   ]
  },
  {
   "cell_type": "code",
   "execution_count": null,
   "id": "e668eccd",
   "metadata": {},
   "outputs": [],
   "source": []
  }
 ],
 "metadata": {
  "kernelspec": {
   "display_name": "Python 3 (ipykernel)",
   "language": "python",
   "name": "python3"
  },
  "language_info": {
   "codemirror_mode": {
    "name": "ipython",
    "version": 3
   },
   "file_extension": ".py",
   "mimetype": "text/x-python",
   "name": "python",
   "nbconvert_exporter": "python",
   "pygments_lexer": "ipython3",
   "version": "3.11.0"
  }
 },
 "nbformat": 4,
 "nbformat_minor": 5
}
