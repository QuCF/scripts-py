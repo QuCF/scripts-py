{
 "cells": [
  {
   "cell_type": "code",
   "execution_count": 1,
   "id": "5d9270db",
   "metadata": {},
   "outputs": [
    {
     "name": "stdout",
     "output_type": "stream",
     "text": [
      "12564\n",
      "/media/work/docs/codes/QuCF/scripts-py\n"
     ]
    }
   ],
   "source": [
    "from IPython.display import display, HTML\n",
    "import scipy.constants as sc\n",
    "from scipy.optimize import fsolve\n",
    "from ipywidgets import interact, widgets\n",
    "%matplotlib notebook\n",
    "\n",
    "import numpy as np\n",
    "import cmath\n",
    "import matplotlib.pyplot as plt\n",
    "import scipy.constants as sc\n",
    "plt.rcParams.update({\n",
    "    \"text.usetex\": True,\n",
    "    'text.latex.preamble': r\"\\usepackage{amsmath} \\boldmath\"\n",
    "})\n",
    "import os\n",
    "import h5py\n",
    "\n",
    "print(os.getpid())\n",
    "%cd ../"
   ]
  },
  {
   "cell_type": "code",
   "execution_count": null,
   "id": "0194e17b",
   "metadata": {},
   "outputs": [],
   "source": []
  },
  {
   "cell_type": "code",
   "execution_count": 2,
   "id": "7e9f6bdc",
   "metadata": {},
   "outputs": [
    {
     "data": {
      "text/html": [
       "<style>.container { width:100% !important; }</style>"
      ],
      "text/plain": [
       "<IPython.core.display.HTML object>"
      ]
     },
     "metadata": {},
     "output_type": "display_data"
    }
   ],
   "source": [
    "# --- Launch to change cells' width ---\n",
    "from IPython.display import display, HTML\n",
    "display(HTML(\"<style>.container { width:100% !important; }</style>\"))"
   ]
  },
  {
   "cell_type": "code",
   "execution_count": null,
   "id": "accaa9ab",
   "metadata": {},
   "outputs": [],
   "source": []
  },
  {
   "cell_type": "code",
   "execution_count": 3,
   "id": "2abd630c",
   "metadata": {},
   "outputs": [],
   "source": [
    "import pylib.mix as mix\n",
    "import pylib.qucf_read as qucf_r\n",
    "import pylib.qucf_oracle as qucf_o\n",
    "import pylib.qucf_matrix_D as qucf_m\n",
    "import kin1d1d as kin\n",
    "path_ = \"../simulations/KIN1D1D/\"\n",
    "file_name_oracle_ = \"circuit_OH\"\n",
    "path_test_ = \"../simulations/test-simplified/\"\n",
    "path_cl_ = \"../results/KIN1D1D-results/\"\n",
    "path_save_ = \"../results/KIN1D1D-results/figs/\"\n",
    "file_name_oracle_ = \"circuit_OH\""
   ]
  },
  {
   "cell_type": "code",
   "execution_count": null,
   "id": "4fce5375",
   "metadata": {},
   "outputs": [],
   "source": []
  },
  {
   "cell_type": "code",
   "execution_count": 4,
   "id": "813d50ed",
   "metadata": {},
   "outputs": [
    {
     "name": "stdout",
     "output_type": "stream",
     "text": [
      "\n",
      "Reading the matrix from: flat_44_OUTPUT.hdf5\n",
      "from the path: ../simulations/KIN1D1D/\n",
      "date of the simulation:  06-06-2023 08:57:47\n",
      "matrix name:  U_BE\n",
      "N = 512\n",
      "\n",
      "Reading the matrix from: flat_45_OUTPUT.hdf5\n",
      "from the path: ../simulations/KIN1D1D/\n",
      "date of the simulation:  06-23-2023 15:42:09\n",
      "matrix name:  U_BE\n",
      "N = 1024\n",
      "\n",
      "Reading the matrix from: flat_54_OUTPUT.hdf5\n",
      "from the path: ../simulations/KIN1D1D/\n",
      "date of the simulation:  06-23-2023 15:48:52\n",
      "matrix name:  U_BE\n",
      "N = 1024\n",
      "\n",
      "Reading the matrix from: flat_55_OUTPUT.hdf5\n",
      "from the path: ../simulations/KIN1D1D/\n",
      "date of the simulation:  06-23-2023 15:52:48\n",
      "matrix name:  U_BE\n",
      "N = 2048\n",
      "\n",
      "Reading the matrix from: flat_64_OUTPUT.hdf5\n",
      "from the path: ../simulations/KIN1D1D/\n",
      "date of the simulation:  07-31-2023 16:30:41\n",
      "matrix name:  U_BE\n",
      "N = 2048\n"
     ]
    }
   ],
   "source": [
    "# ---------------------------------------------------------------\n",
    "# --- Read the matrix ---\n",
    "# ---------------------------------------------------------------\n",
    "mix.reload_module(qucf_r)\n",
    "mix.reload_module(kin)\n",
    "\n",
    "\n",
    "print()\n",
    "dd_44 = qucf_r.read_matrix(path_, \"flat_44_OUTPUT.hdf5\") #  nv = 4, nx = 4 \n",
    "\n",
    "print()\n",
    "dd_45 = qucf_r.read_matrix(path_, \"flat_45_OUTPUT.hdf5\") #  nv = 4, nx = 5 \n",
    "\n",
    "print()\n",
    "dd_54 = qucf_r.read_matrix(path_, \"flat_54_OUTPUT.hdf5\") #  nx = 5, nv = 4\n",
    "\n",
    "print()\n",
    "dd_55 = qucf_r.read_matrix(path_, \"flat_55_OUTPUT.hdf5\") #  nx = 5, nv = 5\n",
    "\n",
    "\n",
    "\n",
    "\n",
    "print()\n",
    "dd_64 = qucf_r.read_matrix(path_, \"flat_64_OUTPUT.hdf5\") #  nx = 6, nv = 4\n",
    "\n",
    "# print()\n",
    "# dd_65 = qucf_r.read_matrix(path_, \"flat_65_OUTPUT.hdf5\") #  nx = 6, nv = 5\n",
    "\n",
    "# print()\n",
    "# dd_66 = qucf_r.read_matrix(path_, \"flat_66_OUTPUT.hdf5\") #  nx = 6, nv = 6"
   ]
  },
  {
   "cell_type": "code",
   "execution_count": null,
   "id": "a626e103",
   "metadata": {},
   "outputs": [],
   "source": []
  },
  {
   "cell_type": "code",
   "execution_count": 9,
   "id": "12a70c6e",
   "metadata": {},
   "outputs": [],
   "source": [
    "# ---------------------------------------------------------------\n",
    "# --- Initialize matrices D_F for various sizes ---\n",
    "# ---------------------------------------------------------------\n",
    "mix.reload_module(kin)\n",
    "mix.reload_module(qucf_m)\n",
    "\n",
    "grid_44 = qucf_m.SectionsGrid__(kin.init_matrix_and_circuit(dd_44))\n",
    "grid_45 = qucf_m.SectionsGrid__(kin.init_matrix_and_circuit(dd_45))\n",
    "grid_54 = qucf_m.SectionsGrid__(kin.init_matrix_and_circuit(dd_54))"
   ]
  },
  {
   "cell_type": "code",
   "execution_count": null,
   "id": "a8384c6b",
   "metadata": {},
   "outputs": [],
   "source": []
  },
  {
   "cell_type": "code",
   "execution_count": 10,
   "id": "0dc024eb",
   "metadata": {},
   "outputs": [
    {
     "name": "stdout",
     "output_type": "stream",
     "text": [
      "All grids have the same number of sizes.\n",
      "The correct number of grids is provided.\n",
      "Grids have similiar structure.\n"
     ]
    }
   ],
   "source": [
    "# ---------------------------------------------------------------\n",
    "# --- Create an extrapolation template ---\n",
    "# ---------------------------------------------------------------\n",
    "mix.reload_module(kin)\n",
    "mix.reload_module(qucf_m)\n",
    "\n",
    "oo_extr = qucf_m.Extrapolation__([grid_44, grid_45, grid_54])\n",
    "oo_extr.create_extrapolation_template()"
   ]
  },
  {
   "cell_type": "code",
   "execution_count": null,
   "id": "c5e7bf3a",
   "metadata": {},
   "outputs": [],
   "source": []
  },
  {
   "cell_type": "code",
   "execution_count": 14,
   "id": "d4427681",
   "metadata": {},
   "outputs": [
    {
     "name": "stdout",
     "output_type": "stream",
     "text": [
      "the same within precision  1e-06\n"
     ]
    }
   ],
   "source": [
    "# ---------------------------------------------------------------\n",
    "# --- Construct a large matrix ---\n",
    "# ---------------------------------------------------------------\n",
    "mix.reload_module(kin)\n",
    "mix.reload_module(qucf_m)\n",
    "mix.reload_module(qucf_o)\n",
    "\n",
    "def compare_matrix(A_init, nx, nv):\n",
    "    Nx = 1 << nx\n",
    "    Nv = 1 << nv\n",
    "    N = Nx * Nv\n",
    "    A_final = A_init[0:N,0:N]\n",
    "    return A_final\n",
    "\n",
    "nx_large, nv_large = 6, 6\n",
    "\n",
    "A_to_compare = compare_matrix(dd_66[\"A\"], nx_large, nv_large)\n",
    "\n",
    "circ_large = kin.init_circuit_of_defined_size(nx_large, nv_large, 3, 3)\n",
    "D_large = oo_extr.reconstruct_matrix(circ_large)\n",
    "qucf_o.compare_matrices(D_large, A_to_compare)"
   ]
  },
  {
   "cell_type": "code",
   "execution_count": null,
   "id": "2df76f03",
   "metadata": {},
   "outputs": [],
   "source": []
  },
  {
   "cell_type": "code",
   "execution_count": 18,
   "id": "28781899",
   "metadata": {},
   "outputs": [
    {
     "name": "stdout",
     "output_type": "stream",
     "text": [
      "****** Nx, Nv: 64, 16 *************************************\n",
      "--- 0:  \u001b[5m\u001b[7m\u001b[31m 0.062\u001b[0m \u001b[5m\u001b[7m\u001b[31m 0.044\u001b[0m \u001b[5m\u001b[7m\u001b[31m 0.044\u001b[0m \u001b[5m\u001b[7m\u001b[31m 0.031\u001b[0m  0.000  0.000  0.000  0.000  0.000  0.000  0.000  0.000  0.000  0.000  0.000  0.000\n",
      "--- 1:  \u001b[5m\u001b[7m\u001b[31m 0.044\u001b[0m \u001b[5m\u001b[7m\u001b[31m 0.088\u001b[0m \u001b[5m\u001b[7m\u001b[31m 0.031\u001b[0m  0.000  0.000  0.000  0.000  0.000  0.000  0.000  0.000  0.000  0.000  0.000  0.000  0.000\n",
      "--- 2:   0.000 \u001b[5m\u001b[7m\u001b[31m 0.044\u001b[0m \u001b[5m\u001b[7m\u001b[31m 0.062\u001b[0m \u001b[5m\u001b[7m\u001b[31m 0.031\u001b[0m  0.000  0.000  0.000  0.000  0.000  0.000  0.000  0.000  0.000  0.000  0.000  0.000\n",
      "--- 3:   0.000  0.000 \u001b[5m\u001b[7m\u001b[31m 0.031\u001b[0m \u001b[5m\u001b[7m\u001b[31m 0.062\u001b[0m \u001b[5m\u001b[7m\u001b[31m 0.044\u001b[0m  0.000  0.000  0.000  0.000  0.000  0.000  0.000  0.000  0.000  0.000  0.000\n",
      "--- 4:   0.000  0.000  0.000 \u001b[5m\u001b[7m\u001b[31m 0.031\u001b[0m \u001b[5m\u001b[7m\u001b[31m 0.088\u001b[0m \u001b[5m\u001b[7m\u001b[31m 0.044\u001b[0m  0.000  0.000  0.000  0.000  0.000  0.000  0.000  0.000  0.000  0.000\n",
      "--- 5:   0.000  0.000  0.000  0.000 \u001b[5m\u001b[7m\u001b[31m 0.044\u001b[0m \u001b[5m\u001b[7m\u001b[31m 0.088\u001b[0m \u001b[5m\u001b[7m\u001b[31m 0.044\u001b[0m  0.000  0.000  0.000  0.000  0.000  0.000  0.000  0.000  0.000\n",
      "--- 6:   0.000  0.000  0.000  0.000  0.000 \u001b[5m\u001b[7m\u001b[31m 0.044\u001b[0m \u001b[5m\u001b[7m\u001b[31m 0.088\u001b[0m \u001b[5m\u001b[7m\u001b[31m 0.044\u001b[0m  0.000  0.000  0.000  0.000  0.000  0.000  0.000  0.000\n",
      "--- 7:   0.000  0.000  0.000  0.000  0.000  0.000 \u001b[5m\u001b[7m\u001b[31m 0.044\u001b[0m \u001b[5m\u001b[7m\u001b[31m 0.088\u001b[0m \u001b[5m\u001b[7m\u001b[31m 0.044\u001b[0m  0.000  0.000  0.000  0.000  0.000  0.000  0.000\n",
      "--- 8:   0.000  0.000  0.000  0.000  0.000  0.000  0.000 \u001b[5m\u001b[7m\u001b[31m 0.088\u001b[0m \u001b[5m\u001b[7m\u001b[31m 0.177\u001b[0m \u001b[5m\u001b[7m\u001b[31m 0.088\u001b[0m  0.000  0.000  0.000  0.000  0.000  0.000\n",
      "--- 9:   0.000  0.000  0.000  0.000  0.000  0.000  0.000  0.000 \u001b[5m\u001b[7m\u001b[31m 0.088\u001b[0m \u001b[5m\u001b[7m\u001b[31m 0.177\u001b[0m \u001b[5m\u001b[7m\u001b[31m 0.088\u001b[0m  0.000  0.000  0.000  0.000  0.000\n",
      "--- 10:  0.000  0.000  0.000  0.000  0.000  0.000  0.000  0.000  0.000 \u001b[5m\u001b[7m\u001b[31m 0.088\u001b[0m \u001b[5m\u001b[7m\u001b[31m 0.177\u001b[0m \u001b[5m\u001b[7m\u001b[31m 0.088\u001b[0m  0.000  0.000  0.000  0.000\n",
      "--- 11:  0.000  0.000  0.000  0.000  0.000  0.000  0.000  0.000  0.000  0.000 \u001b[5m\u001b[7m\u001b[31m 0.088\u001b[0m \u001b[5m\u001b[7m\u001b[31m 0.177\u001b[0m \u001b[5m\u001b[7m\u001b[31m 0.062\u001b[0m  0.000  0.000  0.000\n",
      "--- 12:  0.000  0.000  0.000  0.000  0.000  0.000  0.000  0.000  0.000  0.000  0.000 \u001b[5m\u001b[7m\u001b[31m 0.088\u001b[0m \u001b[5m\u001b[7m\u001b[31m 0.125\u001b[0m \u001b[5m\u001b[7m\u001b[31m 0.085\u001b[0m  0.000  0.000\n",
      "--- 13:  0.000  0.000  0.000  0.000  0.000  0.000  0.000  0.000  0.000  0.000  0.000  0.000 \u001b[5m\u001b[7m\u001b[31m 0.062\u001b[0m \u001b[5m\u001b[7m\u001b[31m 0.110\u001b[0m \u001b[5m\u001b[7m\u001b[31m 0.088\u001b[0m  0.000\n",
      "--- 14:  0.000  0.000  0.000  0.000  0.000  0.000  0.000  0.000  0.000  0.000  0.000  0.000  0.000 \u001b[5m\u001b[7m\u001b[31m 0.025\u001b[0m \u001b[5m\u001b[7m\u001b[31m 0.177\u001b[0m \u001b[5m\u001b[7m\u001b[31m 0.125\u001b[0m\n",
      "--- 15:  0.000  0.000  0.000  0.000  0.000  0.000  0.000  0.000  0.000  0.000  0.000  0.000 \u001b[5m\u001b[7m\u001b[31m 0.062\u001b[0m \u001b[5m\u001b[7m\u001b[31m-0.042\u001b[0m \u001b[5m\u001b[7m\u001b[31m 0.088\u001b[0m \u001b[5m\u001b[7m\u001b[31m 0.088\u001b[0m\n",
      "****** Nx, Nv: 64, 16 *************************************\n",
      "--- 0:  \u001b[5m\u001b[7m\u001b[31m 0.062\u001b[0m \u001b[5m\u001b[7m\u001b[31m 0.044\u001b[0m \u001b[5m\u001b[7m\u001b[31m 0.044\u001b[0m \u001b[5m\u001b[7m\u001b[31m 0.031\u001b[0m  0.000  0.000  0.000  0.000  0.000  0.000  0.000  0.000  0.000  0.000  0.000  0.000\n",
      "--- 1:  \u001b[5m\u001b[7m\u001b[31m 0.044\u001b[0m \u001b[5m\u001b[7m\u001b[31m 0.088\u001b[0m \u001b[5m\u001b[7m\u001b[31m 0.031\u001b[0m  0.000  0.000  0.000  0.000  0.000  0.000  0.000  0.000  0.000  0.000  0.000  0.000  0.000\n",
      "--- 2:   0.000 \u001b[5m\u001b[7m\u001b[31m 0.044\u001b[0m \u001b[5m\u001b[7m\u001b[31m 0.062\u001b[0m \u001b[5m\u001b[7m\u001b[31m 0.031\u001b[0m  0.000  0.000  0.000  0.000  0.000  0.000  0.000  0.000  0.000  0.000  0.000  0.000\n",
      "--- 3:   0.000  0.000 \u001b[5m\u001b[7m\u001b[31m 0.031\u001b[0m \u001b[5m\u001b[7m\u001b[31m 0.062\u001b[0m \u001b[5m\u001b[7m\u001b[31m 0.044\u001b[0m  0.000  0.000  0.000  0.000  0.000  0.000  0.000  0.000  0.000  0.000  0.000\n",
      "--- 4:   0.000  0.000  0.000 \u001b[5m\u001b[7m\u001b[31m 0.031\u001b[0m \u001b[5m\u001b[7m\u001b[31m 0.088\u001b[0m \u001b[5m\u001b[7m\u001b[31m 0.044\u001b[0m  0.000  0.000  0.000  0.000  0.000  0.000  0.000  0.000  0.000  0.000\n",
      "--- 5:   0.000  0.000  0.000  0.000 \u001b[5m\u001b[7m\u001b[31m 0.044\u001b[0m \u001b[5m\u001b[7m\u001b[31m 0.088\u001b[0m \u001b[5m\u001b[7m\u001b[31m 0.044\u001b[0m  0.000  0.000  0.000  0.000  0.000  0.000  0.000  0.000  0.000\n",
      "--- 6:   0.000  0.000  0.000  0.000  0.000 \u001b[5m\u001b[7m\u001b[31m 0.044\u001b[0m \u001b[5m\u001b[7m\u001b[31m 0.088\u001b[0m \u001b[5m\u001b[7m\u001b[31m 0.044\u001b[0m  0.000  0.000  0.000  0.000  0.000  0.000  0.000  0.000\n",
      "--- 7:   0.000  0.000  0.000  0.000  0.000  0.000 \u001b[5m\u001b[7m\u001b[31m 0.044\u001b[0m \u001b[5m\u001b[7m\u001b[31m 0.088\u001b[0m \u001b[5m\u001b[7m\u001b[31m 0.044\u001b[0m  0.000  0.000  0.000  0.000  0.000  0.000  0.000\n",
      "--- 8:   0.000  0.000  0.000  0.000  0.000  0.000  0.000 \u001b[5m\u001b[7m\u001b[31m 0.088\u001b[0m \u001b[5m\u001b[7m\u001b[31m 0.177\u001b[0m \u001b[5m\u001b[7m\u001b[31m 0.088\u001b[0m  0.000  0.000  0.000  0.000  0.000  0.000\n",
      "--- 9:   0.000  0.000  0.000  0.000  0.000  0.000  0.000  0.000 \u001b[5m\u001b[7m\u001b[31m 0.088\u001b[0m \u001b[5m\u001b[7m\u001b[31m 0.177\u001b[0m \u001b[5m\u001b[7m\u001b[31m 0.088\u001b[0m  0.000  0.000  0.000  0.000  0.000\n",
      "--- 10:  0.000  0.000  0.000  0.000  0.000  0.000  0.000  0.000  0.000 \u001b[5m\u001b[7m\u001b[31m 0.088\u001b[0m \u001b[5m\u001b[7m\u001b[31m 0.177\u001b[0m \u001b[5m\u001b[7m\u001b[31m 0.088\u001b[0m  0.000  0.000  0.000  0.000\n",
      "--- 11:  0.000  0.000  0.000  0.000  0.000  0.000  0.000  0.000  0.000  0.000 \u001b[5m\u001b[7m\u001b[31m 0.088\u001b[0m \u001b[5m\u001b[7m\u001b[31m 0.177\u001b[0m \u001b[5m\u001b[7m\u001b[31m 0.062\u001b[0m  0.000  0.000  0.000\n",
      "--- 12:  0.000  0.000  0.000  0.000  0.000  0.000  0.000  0.000  0.000  0.000  0.000 \u001b[5m\u001b[7m\u001b[31m 0.088\u001b[0m \u001b[5m\u001b[7m\u001b[31m 0.125\u001b[0m \u001b[5m\u001b[7m\u001b[31m 0.085\u001b[0m  0.000  0.000\n",
      "--- 13:  0.000  0.000  0.000  0.000  0.000  0.000  0.000  0.000  0.000  0.000  0.000  0.000 \u001b[5m\u001b[7m\u001b[31m 0.062\u001b[0m \u001b[5m\u001b[7m\u001b[31m 0.110\u001b[0m \u001b[5m\u001b[7m\u001b[31m 0.088\u001b[0m  0.000\n",
      "--- 14:  0.000  0.000  0.000  0.000  0.000  0.000  0.000  0.000  0.000  0.000  0.000  0.000  0.000 \u001b[5m\u001b[7m\u001b[31m 0.025\u001b[0m \u001b[5m\u001b[7m\u001b[31m 0.177\u001b[0m \u001b[5m\u001b[7m\u001b[31m 0.125\u001b[0m\n",
      "--- 15:  0.000  0.000  0.000  0.000  0.000  0.000  0.000  0.000  0.000  0.000  0.000  0.000 \u001b[5m\u001b[7m\u001b[31m 0.062\u001b[0m \u001b[5m\u001b[7m\u001b[31m-0.042\u001b[0m \u001b[5m\u001b[7m\u001b[31m 0.088\u001b[0m \u001b[5m\u001b[7m\u001b[31m 0.088\u001b[0m\n"
     ]
    }
   ],
   "source": [
    "# ---------------------------------------------------------------\n",
    "# --- Function to print matrix subblocks ---\n",
    "# ---------------------------------------------------------------\n",
    "mix.reload_module(mix)\n",
    "def print_submatrix(nx, nv, B):\n",
    "    Nx = 1 << nx\n",
    "    Nv = 1 << nv\n",
    "    \n",
    "    print(\"****** Nx, Nv: {:d}, {:d} *************************************\".format(Nx, Nv))\n",
    "    \n",
    "    ir_x, ic_x = 0, 0 # x[0], diag\n",
    "#     ir_x, ic_x = 0, 1 # V-f: x[0], diag+1\n",
    "#     ir_x, ic_x = 0, 2 # V-f: x[0], diag+2\n",
    "#     ir_x, ic_x = 0, 3 # V-f: x[0], diag+3\n",
    "\n",
    "#     ir_x, ic_x = 1, 0 # V-f: x[1], diag-1\n",
    "#     ir_x, ic_x = 1, 1 # V-f: x[1], diag\n",
    "#     ir_x, ic_x = 1, 2 # V-f: x[1], diag+1\n",
    "#     ir_x, ic_x = 1, 3 # V-f: x[1], diag+2\n",
    "\n",
    "#     ir_x, ic_x = 2, 1 # V-f: x[1], diag-1\n",
    "#     ir_x, ic_x = 2, 2 # V-f: x[1], diag\n",
    "#     ir_x, ic_x = 2, 3 # V-f: x[1], diag+1\n",
    "\n",
    "#     ir_x, ic_x = 3, 2 # V-f: x[1], diag-1\n",
    "#     ir_x, ic_x = 3, 3 # V-f: x[1], diag\n",
    "#     ir_x, ic_x = 3, 4 # V-f: x[1], diag+1\n",
    "\n",
    "#     ir_x, ic_x = Nx-1, Nx-4 # V-f: x[1], diag-3\n",
    "#     ir_x, ic_x = Nx-1, Nx-3 # V-f: x[1], diag-2\n",
    "#     ir_x, ic_x = Nx-1, Nx-2 # V-f: x[1], diag-1\n",
    "#     ir_x, ic_x = Nx-1, Nx-1 # V-f: x[1], diag\n",
    "\n",
    "    # --------------------------------------------------\n",
    "    Nr_print, Nc_print = Nv, Nv\n",
    "    ir_start, ic_start = Nv * ir_x, Nv * ic_x\n",
    "    \n",
    "    mix.print_subblock_colored(\n",
    "        B, \n",
    "        ir_start, ic_start,\n",
    "        Nr_print, Nc_print,\n",
    "        ff=[6, 3, \"f\"], \n",
    "        n_in_row = Nc_print, \n",
    "        gap_be = \" \", \n",
    "    )\n",
    "    \n",
    "# -------------------------------------------------------------------------------------------------\n",
    "# -------------------------------------------------------------------------------------------------\n",
    "print_submatrix(nx_large, nv_large, D_large.real)  \n",
    "print_submatrix(nx_large, nv_large, A_to_compare.real)"
   ]
  },
  {
   "cell_type": "code",
   "execution_count": null,
   "id": "0732f4b8",
   "metadata": {},
   "outputs": [],
   "source": []
  },
  {
   "cell_type": "code",
   "execution_count": null,
   "id": "0c0285eb",
   "metadata": {},
   "outputs": [],
   "source": []
  }
 ],
 "metadata": {
  "kernelspec": {
   "display_name": "Python 3 (ipykernel)",
   "language": "python",
   "name": "python3"
  },
  "language_info": {
   "codemirror_mode": {
    "name": "ipython",
    "version": 3
   },
   "file_extension": ".py",
   "mimetype": "text/x-python",
   "name": "python",
   "nbconvert_exporter": "python",
   "pygments_lexer": "ipython3",
   "version": "3.11.0"
  }
 },
 "nbformat": 4,
 "nbformat_minor": 5
}
