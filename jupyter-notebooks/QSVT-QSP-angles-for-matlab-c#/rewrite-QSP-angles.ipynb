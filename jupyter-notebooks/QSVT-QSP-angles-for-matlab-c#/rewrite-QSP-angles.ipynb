{
 "cells": [
  {
   "cell_type": "code",
   "execution_count": 1,
   "id": "c6b968f2",
   "metadata": {},
   "outputs": [
    {
     "name": "stdout",
     "output_type": "stream",
     "text": [
      "28062\n",
      "/media/work/docs/codes/QuCF/scripts-py\n"
     ]
    }
   ],
   "source": [
    "%matplotlib widget\n",
    "import numpy as np\n",
    "import matplotlib.pyplot as plt\n",
    "import scipy.constants as sc\n",
    "import os\n",
    "import h5py\n",
    "\n",
    "print(os.getpid())\n",
    "%cd ../../"
   ]
  },
  {
   "cell_type": "code",
   "execution_count": 2,
   "id": "37069d34",
   "metadata": {},
   "outputs": [],
   "source": [
    "import pylib.mix as mix\n",
    "import pylib.qsvt_angles as qsvt_a\n",
    "path_root_ = \"./jupyter-notebooks/QSVT-QSP-angles-for-matlab-c#/Hamiltonian/QSP/\""
   ]
  },
  {
   "cell_type": "code",
   "execution_count": null,
   "id": "498abcfe",
   "metadata": {},
   "outputs": [],
   "source": []
  },
  {
   "cell_type": "code",
   "execution_count": 32,
   "id": "b06e44ef",
   "metadata": {},
   "outputs": [],
   "source": [
    "# *** CHOOSE the .txt file with angles to read ***\n",
    "old_filename = path_root_ + \"/angles_t6452m2_eps12.angles\"\n",
    "new_filename = path_root_ + \"/QSP_t6452m2_eps12.hdf5\""
   ]
  },
  {
   "cell_type": "code",
   "execution_count": null,
   "id": "4e2188c9",
   "metadata": {},
   "outputs": [],
   "source": []
  },
  {
   "cell_type": "code",
   "execution_count": 34,
   "id": "e8dfd153",
   "metadata": {},
   "outputs": [
    {
     "name": "stdout",
     "output_type": "stream",
     "text": [
      "read angles from:\n",
      " ./jupyter-notebooks/QSVT-QSP-angles-for-matlab-c#/Hamiltonian/QSP//angles_t6452m2_eps12.angles\n",
      "\n",
      "function type: \t\tQSP-ham\n",
      "rescaling factor: \t1.000\n",
      "parity: \t\t-1\n",
      "parameter: \t\t6.452e-02\n",
      "error: \t\t\t1.000e-12\n",
      "N-angles: \t\t15\n",
      "\n",
      "write angles to:\n",
      " ./jupyter-notebooks/QSVT-QSP-angles-for-matlab-c#/Hamiltonian/QSP//QSP_t6452m2_eps12.hdf5\n"
     ]
    }
   ],
   "source": [
    "# ---------------------------------------------------------------------\n",
    "# --- Rewrite angles from the .txt to the .hdf5 file ---\n",
    "# ---------------------------------------------------------------------\n",
    "mix.reload_module(mix)\n",
    "\n",
    "function_type_res = \"QSP-ham\"\n",
    "rescaling_factor_res = 1.\n",
    "parity_res = -1\n",
    "\n",
    "# --- read the .angles (text) file ---\n",
    "print(\"read angles from:\\n \" + old_filename)\n",
    "with open(old_filename) as f:\n",
    "    param_res = float(f.readline()[:-1]) \n",
    "    eps_res   = float(f.readline()[:-1]) \n",
    "    Na        = int(f.readline()[:-1]) \n",
    "    angles = np.zeros(Na)\n",
    "    for ii in range(Na):\n",
    "        angles[ii] = float(f.readline())\n",
    "        \n",
    "print()\n",
    "print(\"function type: \\t\\t{:s}\".format(function_type_res))    \n",
    "print(\"rescaling factor: \\t{:0.3f}\".format(rescaling_factor_res))\n",
    "print(\"parity: \\t\\t{:d}\".format(parity_res))\n",
    "print(\"parameter: \\t\\t{:0.3e}\".format(param_res))\n",
    "print(\"error: \\t\\t\\t{:0.3e}\".format(eps_res))\n",
    "print(\"N-angles: \\t\\t{:d}\".format(Na))\n",
    "print()       \n",
    "\n",
    "# --- write the .hdf5 file ---\n",
    "print(\"write angles to:\\n \" + new_filename)\n",
    "with h5py.File(new_filename, \"w\") as f:\n",
    "    grp = f.create_group(\"basic\")\n",
    "    \n",
    "    grp.create_dataset('polynomial_type',  data=function_type_res)\n",
    "    grp.create_dataset('rescaling_factor', data=float(rescaling_factor_res))\n",
    "    grp.create_dataset('parity',           data=parity_res)\n",
    "    grp.create_dataset('eps',              data=eps_res)\n",
    "    grp.create_dataset('par',              data=param_res)\n",
    "\n",
    "    grp = f.create_group(\"angles\")\n",
    "    grp.create_dataset('QSP-ham',  data = angles)"
   ]
  },
  {
   "cell_type": "code",
   "execution_count": null,
   "id": "02fc5b10",
   "metadata": {},
   "outputs": [],
   "source": []
  },
  {
   "cell_type": "code",
   "execution_count": 9,
   "id": "2d36447b",
   "metadata": {},
   "outputs": [
    {
     "name": "stdout",
     "output_type": "stream",
     "text": [
      "Start calculating...\n",
      "Chosen tau = 1\n",
      "Chosen eps = 1E-12\n",
      "polyA = { Denominator = 140737488355328\n",
      "  Numerator =\n",
      "             70z^-12 + 37022z^-10 + 13260770z^-8 + 2946809100z^-6 + 348555947371z^-4 + 16171227872573z^-2 + 107692000501368z^0 + 16171227872573z^2 + 348555947371z^4 + 2946809100z^6 + 13260770z^8 + 37022z^10 + 70z^12\n",
      "  Parity = 0 }\n",
      "polyB = { Denominator = 140737488355328\n",
      "  Numerator =\n",
      "             2z^-13 + 1686z^-11 + 738766z^-9 + 211433562z^-7 + 35150275647z^-5 + 2753297303324z^-3 + 61931614186970z^-1 + -61931614186970z^1 + -2753297303324z^3 + -35150275647z^5 + -211433562z^7 + -738766z^9 + -1686z^11 + -2z^13\n",
      "  Parity = 1 }\n",
      "yes, every exponent is even\n",
      "Initially Found 2 roots out of 26\n",
      "26 to refine, log2(err)=7\n",
      "26 to refine, log2(err)=6\n",
      "26 to refine, log2(err)=5\n",
      "26 to refine, log2(err)=2\n",
      "26 to refine, log2(err)=0\n",
      "26 to refine, log2(err)=-1\n",
      "24 to refine, log2(err)=2\n",
      "24 to refine, log2(err)=1\n",
      "24 to refine, log2(err)=1\n",
      "23 to refine, log2(err)=2\n",
      "23 to refine, log2(err)=3\n",
      "18 to refine, log2(err)=4\n",
      "12 to refine, log2(err)=5\n",
      "10 to refine, log2(err)=6\n",
      "10 to refine, log2(err)=6\n",
      "10 to refine, log2(err)=3\n",
      "10 to refine, log2(err)=-5\n",
      "7 to refine, log2(err)=-10\n",
      "6 to refine, log2(err)=-12\n",
      "3 to refine, log2(err)=-20\n",
      "0 to refine, log2(err)=-48\n",
      "0 to refine, log2(err)=-64\n",
      "alphaSqrt/2 = (+.709662431668432381976221681640617e-6,+.3769583836401356467756345560610e-37)\n",
      "\n",
      "Resulting angles: \n",
      "3.141592633564984   3.1415919326966657   3.1415750518324965   3.141204374342005   3.13380762639673   3.0012327055115295   1.3780623788547297   -1.4766634479960876   -2.6207986321603234   -0.2770744837435396   2.309027208655494   0.9715590176768542   -1.8073038282135379   -0.986061244002764   1.792801601887628   0.4553334109089882   -2.1307682814900453   0.21295586692673826   1.357091051090974   -1.4976347757598432   0.1255355508969565   -0.007039369988244298   0.00035737795703047774   -1.3299533461139796E-05   3.581330708162028E-06   2.880462389879074E-06   -2.9004871989728702E-06   \n",
      "\n",
      "File created\n",
      "\n",
      "Elapsed Time is 0 s\n"
     ]
    },
    {
     "data": {
      "text/plain": [
       "CompletedProcess(args='/media/work/docs/codes/progs/Q#F#/test-qsp/bin/Debug/netcoreapp3.1/qsp 1.0 1e-12 ./jupyter-notebooks/QSVT-QSP-angles-for-matlab-c#/Hamiltonian/QSP/ angles_t1_eps12.angles', returncode=0)"
      ]
     },
     "execution_count": 9,
     "metadata": {},
     "output_type": "execute_result"
    }
   ],
   "source": [
    "import subprocess\n",
    "\n",
    "line_cmd = \"\"\n",
    "\n",
    "# line_cmd = \"cd ./jupyter-notebooks/QSVT-QSP-angles-for-matlab-c#/Hamiltonian/QSP/ | pwd\"\n",
    "# line_cmd += \"cd ./jupyter-notebooks/QSVT-QSP-angles-for-matlab-c#/Hamiltonian/QSP/\" + \" | \"\n",
    "line_cmd += \"/media/work/docs/codes/progs/Q#F#/test-qsp/bin/Debug/netcoreapp3.1/qsp 1.0 1e-12 ./jupyter-notebooks/QSVT-QSP-angles-for-matlab-c#/Hamiltonian/QSP/ angles_t1_eps12.angles\"\n",
    "\n",
    "\n",
    "subprocess.run(line_cmd, shell = True, executable=\"/bin/bash\")\n",
    "# subprocess.run(\"pwd\", shell = True, executable=\"/bin/bash\")"
   ]
  },
  {
   "cell_type": "code",
   "execution_count": null,
   "id": "eb499b6b",
   "metadata": {},
   "outputs": [],
   "source": []
  }
 ],
 "metadata": {
  "kernelspec": {
   "display_name": "Python 3 (ipykernel)",
   "language": "python",
   "name": "python3"
  },
  "language_info": {
   "codemirror_mode": {
    "name": "ipython",
    "version": 3
   },
   "file_extension": ".py",
   "mimetype": "text/x-python",
   "name": "python",
   "nbconvert_exporter": "python",
   "pygments_lexer": "ipython3",
   "version": "3.11.0"
  }
 },
 "nbformat": 4,
 "nbformat_minor": 5
}
