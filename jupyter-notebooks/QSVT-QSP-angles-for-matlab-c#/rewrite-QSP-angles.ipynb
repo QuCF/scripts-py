{
 "cells": [
  {
   "cell_type": "code",
   "execution_count": 1,
   "id": "c6b968f2",
   "metadata": {},
   "outputs": [
    {
     "name": "stdout",
     "output_type": "stream",
     "text": [
      "10131\n",
      "/media/work/docs/codes/QuCF/scripts-py\n"
     ]
    }
   ],
   "source": [
    "%matplotlib widget\n",
    "import numpy as np\n",
    "import matplotlib.pyplot as plt\n",
    "import scipy.constants as sc\n",
    "import os\n",
    "import h5py\n",
    "\n",
    "print(os.getpid())\n",
    "%cd ../../"
   ]
  },
  {
   "cell_type": "code",
   "execution_count": 2,
   "id": "37069d34",
   "metadata": {},
   "outputs": [],
   "source": [
    "import pylib.mix as mix\n",
    "import pylib.qsvt_angles as qsvt_a\n",
    "path_root_ = \"./jupyter-notebooks/QSVT-QSP-angles-for-matlab-c#/Hamiltonian/QSP/\""
   ]
  },
  {
   "cell_type": "code",
   "execution_count": null,
   "id": "498abcfe",
   "metadata": {},
   "outputs": [],
   "source": []
  },
  {
   "cell_type": "code",
   "execution_count": 32,
   "id": "b06e44ef",
   "metadata": {},
   "outputs": [],
   "source": [
    "# *** CHOOSE the .txt file with angles to read ***\n",
    "old_filename = path_root_ + \"/angles_t6452m2_eps12.angles\"\n",
    "new_filename = path_root_ + \"/QSP_t6452m2_eps12.hdf5\""
   ]
  },
  {
   "cell_type": "code",
   "execution_count": null,
   "id": "4e2188c9",
   "metadata": {},
   "outputs": [],
   "source": []
  },
  {
   "cell_type": "code",
   "execution_count": 34,
   "id": "e8dfd153",
   "metadata": {},
   "outputs": [
    {
     "name": "stdout",
     "output_type": "stream",
     "text": [
      "read angles from:\n",
      " ./jupyter-notebooks/QSVT-QSP-angles-for-matlab-c#/Hamiltonian/QSP//angles_t6452m2_eps12.angles\n",
      "\n",
      "function type: \t\tQSP-ham\n",
      "rescaling factor: \t1.000\n",
      "parity: \t\t-1\n",
      "parameter: \t\t6.452e-02\n",
      "error: \t\t\t1.000e-12\n",
      "N-angles: \t\t15\n",
      "\n",
      "write angles to:\n",
      " ./jupyter-notebooks/QSVT-QSP-angles-for-matlab-c#/Hamiltonian/QSP//QSP_t6452m2_eps12.hdf5\n"
     ]
    }
   ],
   "source": [
    "# ---------------------------------------------------------------------\n",
    "# --- Rewrite angles from the .txt to the .hdf5 file ---\n",
    "# ---------------------------------------------------------------------\n",
    "mix.reload_module(mix)\n",
    "\n",
    "function_type_res = \"QSP-ham\"\n",
    "rescaling_factor_res = 1.\n",
    "parity_res = -1\n",
    "\n",
    "# --- read the .angles (text) file ---\n",
    "print(\"read angles from:\\n \" + old_filename)\n",
    "with open(old_filename) as f:\n",
    "    param_res = float(f.readline()[:-1]) \n",
    "    eps_res   = float(f.readline()[:-1]) \n",
    "    Na        = int(f.readline()[:-1]) \n",
    "    angles = np.zeros(Na)\n",
    "    for ii in range(Na):\n",
    "        angles[ii] = float(f.readline())\n",
    "        \n",
    "print()\n",
    "print(\"function type: \\t\\t{:s}\".format(function_type_res))    \n",
    "print(\"rescaling factor: \\t{:0.3f}\".format(rescaling_factor_res))\n",
    "print(\"parity: \\t\\t{:d}\".format(parity_res))\n",
    "print(\"parameter: \\t\\t{:0.3e}\".format(param_res))\n",
    "print(\"error: \\t\\t\\t{:0.3e}\".format(eps_res))\n",
    "print(\"N-angles: \\t\\t{:d}\".format(Na))\n",
    "print()       \n",
    "\n",
    "# --- write the .hdf5 file ---\n",
    "print(\"write angles to:\\n \" + new_filename)\n",
    "with h5py.File(new_filename, \"w\") as f:\n",
    "    grp = f.create_group(\"basic\")\n",
    "    \n",
    "    grp.create_dataset('polynomial_type',  data=function_type_res)\n",
    "    grp.create_dataset('rescaling_factor', data=float(rescaling_factor_res))\n",
    "    grp.create_dataset('parity',           data=parity_res)\n",
    "    grp.create_dataset('eps',              data=eps_res)\n",
    "    grp.create_dataset('par',              data=param_res)\n",
    "\n",
    "    grp = f.create_group(\"angles\")\n",
    "    grp.create_dataset('QSP-ham',  data = angles)"
   ]
  },
  {
   "cell_type": "code",
   "execution_count": null,
   "id": "02fc5b10",
   "metadata": {},
   "outputs": [],
   "source": []
  }
 ],
 "metadata": {
  "kernelspec": {
   "display_name": "Python 3 (ipykernel)",
   "language": "python",
   "name": "python3"
  },
  "language_info": {
   "codemirror_mode": {
    "name": "ipython",
    "version": 3
   },
   "file_extension": ".py",
   "mimetype": "text/x-python",
   "name": "python",
   "nbconvert_exporter": "python",
   "pygments_lexer": "ipython3",
   "version": "3.11.0"
  }
 },
 "nbformat": 4,
 "nbformat_minor": 5
}
