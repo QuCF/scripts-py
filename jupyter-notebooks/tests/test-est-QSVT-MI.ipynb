{
 "cells": [
  {
   "cell_type": "code",
   "execution_count": 1,
   "id": "4a0526dc",
   "metadata": {},
   "outputs": [
    {
     "name": "stdout",
     "output_type": "stream",
     "text": [
      "31257\n",
      "/media/work/docs/codes/QuCF/scripts-py\n"
     ]
    }
   ],
   "source": [
    "import os\n",
    "if os.name != 'posix':\n",
    "    %matplotlib ipympl\n",
    "else:\n",
    "    %matplotlib notebook\n",
    "import scipy.constants as sc\n",
    "from scipy.optimize import fsolve\n",
    "\n",
    "import numpy as np\n",
    "import cmath\n",
    "import matplotlib.pyplot as plt\n",
    "import scipy.constants as sc\n",
    "plt.rcParams.update({\n",
    "    \"text.usetex\": True,\n",
    "    'text.latex.preamble': r\"\\usepackage{amsmath} \\boldmath\"\n",
    "})\n",
    "import os\n",
    "import h5py\n",
    "\n",
    "print(os.getpid())\n",
    "%cd ../../\n",
    "\n",
    "colors_ = [\"blue\", \"red\", \"green\", \"gray\", \"black\"]\n",
    "\n",
    "import pylib.mix as mix\n",
    "import pylib.measurement as mse"
   ]
  },
  {
   "cell_type": "code",
   "execution_count": 2,
   "id": "e1a14eb9",
   "metadata": {},
   "outputs": [],
   "source": [
    "for i in range(30):\n",
    "    plt.close()"
   ]
  },
  {
   "cell_type": "code",
   "execution_count": null,
   "id": "d870c2f4",
   "metadata": {},
   "outputs": [],
   "source": []
  },
  {
   "cell_type": "code",
   "execution_count": 21,
   "id": "f7b821fa",
   "metadata": {},
   "outputs": [
    {
     "name": "stdout",
     "output_type": "stream",
     "text": [
      "\n",
      "Normalization factor: 8.000e+01\n",
      "\n",
      "*** Normalized Hamiltonian ***\n",
      "--- 0 ---\n",
      "        0.013         0.000\n",
      "--- 1 ---\n",
      "        0.000         1.000\n",
      "\n",
      "cond. number: 80.0\n",
      "\n",
      "--- The angles for the BE oracle ---\n",
      "ay_A00  3.116592002502e+00\n",
      "ay_A11  0.000000000000e+00\n"
     ]
    }
   ],
   "source": [
    "# ------------------------------------------------------------------\n",
    "# --- Create a test matrix ---\n",
    "# ------------------------------------------------------------------\n",
    "from numpy import linalg as LA\n",
    "\n",
    "# --- Original matrix ---\n",
    "N = 2\n",
    "A_orig = np.zeros((N,N))\n",
    "\n",
    "A_orig[0,0] = 1.0\n",
    "A_orig[1,1] = 80.0\n",
    "\n",
    "# --- Normalized matrix ---\n",
    "nonsparsity = 1  \n",
    "rows_sum = np.zeros(N)\n",
    "for ir in range(N):\n",
    "    rows_sum[ir] = np.sqrt(np.sum(np.abs(A_orig[ir,:])**2))\n",
    "coef_norm_H = np.max(rows_sum)\n",
    "\n",
    "final_norm_of_H_ = nonsparsity\n",
    "if coef_norm_H > 1:\n",
    "    final_norm_of_H_ *= coef_norm_H\n",
    "    \n",
    "A = A_orig/final_norm_of_H_\n",
    "print(\"\\nNormalization factor: {:0.3e}\".format(final_norm_of_H_))\n",
    "print()\n",
    "print(\"*** Normalized Hamiltonian ***\")\n",
    "mix.print_matrix(A)\n",
    "print()\n",
    "\n",
    "\n",
    "# --- Condition number ---\n",
    "evals, evecs = LA.eig(A)\n",
    "kappa_ = np.max(np.abs(evals)) / np.min(np.abs(evals))\n",
    "print(\"cond. number: {:0.1f}\".format(kappa_))\n",
    "print()\n",
    "\n",
    "# --- Compute angles for the block encoding oracle ---\n",
    "coef_OF = nonsparsity \n",
    "ay_A00, _ = mix.calc_angles_from_a_value(A[0,0] * coef_OF)\n",
    "ay_A11, _ = mix.calc_angles_from_a_value(A[1,1] * coef_OF)\n",
    "\n",
    "print(\"--- The angles for the BE oracle ---\")\n",
    "print(\"ay_A00  {:0.12e}\".format(ay_A00)) \n",
    "print(\"ay_A11  {:0.12e}\".format(ay_A11))"
   ]
  },
  {
   "cell_type": "code",
   "execution_count": null,
   "id": "0e086c9b",
   "metadata": {},
   "outputs": [],
   "source": []
  },
  {
   "cell_type": "code",
   "execution_count": 27,
   "id": "df2bfd73",
   "metadata": {},
   "outputs": [
    {
     "name": "stdout",
     "output_type": "stream",
     "text": [
      "--- init: [1.0, 0.0] ---\n",
      "    1.250e-01     0.000e+00 \n",
      "\n",
      "--- init: [0.0, 1.0] ---\n",
      "    0.000e+00     1.563e-03 \n"
     ]
    }
   ],
   "source": [
    "# -------------------------------------------------\n",
    "# --- Matrix inversion ---\n",
    "# -------------------------------------------------\n",
    "from numpy.linalg import inv\n",
    "\n",
    "def calc_state(init_state):\n",
    "    res_state = A_inv.dot(init_state) * 0.125/kappa_\n",
    "    mix.print_array(\n",
    "        res_state, \n",
    "        ff=[13, 3, \"e\"]\n",
    "    )\n",
    "    return \n",
    "\n",
    "\n",
    "A_inv = inv(A)\n",
    "\n",
    "print(\"--- init: [1.0, 0.0] ---\")\n",
    "calc_state([1.0, 0.0])\n",
    "\n",
    "print()\n",
    "print(\"--- init: [0.0, 1.0] ---\")\n",
    "calc_state([0.0, 1.0])"
   ]
  },
  {
   "cell_type": "code",
   "execution_count": 12,
   "id": "44e478d4",
   "metadata": {},
   "outputs": [
    {
     "data": {
      "text/plain": [
       "array([[10.,  0.],\n",
       "       [ 0.,  1.]])"
      ]
     },
     "execution_count": 12,
     "metadata": {},
     "output_type": "execute_result"
    }
   ],
   "source": [
    "A_inv"
   ]
  },
  {
   "cell_type": "code",
   "execution_count": null,
   "id": "4cd8ea69",
   "metadata": {},
   "outputs": [],
   "source": []
  },
  {
   "cell_type": "code",
   "execution_count": null,
   "id": "4f5857a5",
   "metadata": {},
   "outputs": [],
   "source": []
  }
 ],
 "metadata": {
  "kernelspec": {
   "display_name": "Python 3 (ipykernel)",
   "language": "python",
   "name": "python3"
  },
  "language_info": {
   "codemirror_mode": {
    "name": "ipython",
    "version": 3
   },
   "file_extension": ".py",
   "mimetype": "text/x-python",
   "name": "python",
   "nbconvert_exporter": "python",
   "pygments_lexer": "ipython3",
   "version": "3.11.0"
  }
 },
 "nbformat": 4,
 "nbformat_minor": 5
}
