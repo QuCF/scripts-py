{
 "cells": [
  {
   "cell_type": "code",
   "execution_count": 1,
   "id": "cede7452",
   "metadata": {},
   "outputs": [
    {
     "name": "stdout",
     "output_type": "stream",
     "text": [
      "8112\n",
      "/media/work/docs/codes/QuCF/scripts-py\n"
     ]
    }
   ],
   "source": [
    "# if os.name != 'posix':\n",
    "#     %matplotlib ipympl\n",
    "# else:\n",
    "#     %matplotlib notebook\n",
    "import scipy.constants as sc\n",
    "from scipy.optimize import fsolve\n",
    "\n",
    "import numpy as np\n",
    "import cmath\n",
    "import matplotlib.pyplot as plt\n",
    "# plt.rcParams.update({\n",
    "#     \"text.usetex\": True,\n",
    "#     'text.latex.preamble': r\"\\usepackage{amsmath} \\boldmath\"\n",
    "# })\n",
    "import os\n",
    "import h5py\n",
    "\n",
    "print(os.getpid())\n",
    "%cd ../../\n",
    "\n",
    "import pylib.mix as mix\n",
    "import pylib.measurement as mse"
   ]
  },
  {
   "cell_type": "code",
   "execution_count": 2,
   "id": "04c1dfd9",
   "metadata": {},
   "outputs": [],
   "source": [
    "# --- Launch to change cells' width ---\n",
    "from IPython.display import display, HTML\n",
    "# display(HTML(\"<style>.container { width:100% !important; }</style>\"))\n",
    "\n",
    "colors_ = [\"blue\", \"red\", \"green\", \"gray\", \"black\"]\n",
    "\n",
    "from matplotlib import ticker\n",
    "cmap_two_signs_= 'coolwarm'\n",
    "cmap_two_signs_= 'Blues'\n",
    "def fmt_(x, pos):\n",
    "    a, b = '{:.2e}'.format(x).split('e')\n",
    "    b = int(b)\n",
    "    return r'${} \\times 10^{{{}}}$'.format(a, b)\n",
    "\n",
    "for i in range(30):\n",
    "    plt.close()"
   ]
  },
  {
   "cell_type": "code",
   "execution_count": null,
   "id": "0215f478",
   "metadata": {},
   "outputs": [],
   "source": []
  },
  {
   "cell_type": "code",
   "execution_count": 78,
   "id": "bf0739ca",
   "metadata": {},
   "outputs": [],
   "source": [
    "# --- Paths ---\n",
    "path_data_ = \"../QuCF/tests/test_QETU_Gauss/\"\n",
    "pr_name_ = \"qetu\"\n",
    "\n",
    "# --- Global parameters ---\n",
    "nx_ = 10\n",
    "Nx_ = 1 << nx_\n",
    "\n",
    "# for QETU:\n",
    "x_min_ = 0.0\n",
    "x_max_ = np.pi\n",
    "\n",
    "# # for QSVT:\n",
    "# x_min_ = -1.0\n",
    "# x_max_ = 1.0\n",
    "\n",
    "t_ = 2.0"
   ]
  },
  {
   "cell_type": "code",
   "execution_count": null,
   "id": "aea062d3",
   "metadata": {},
   "outputs": [],
   "source": []
  },
  {
   "cell_type": "code",
   "execution_count": 79,
   "id": "f24af2cb",
   "metadata": {},
   "outputs": [
    {
     "name": "stdout",
     "output_type": "stream",
     "text": [
      "Reading the file ../QuCF/tests/test_QETU_Gauss//qetu_OUTPUT.hdf5...\n",
      "Name of the simulation is qetu\n",
      "Simulation has been performed  01-26-2024 12:18:53\n",
      "\n",
      "QC prob.: 4.418e-02\n"
     ]
    },
    {
     "data": {
      "image/png": "[encoded data removed]",
      "text/plain": [
       "<Figure size 640x480 with 1 Axes>"
      ]
     },
     "metadata": {},
     "output_type": "display_data"
    }
   ],
   "source": [
    "# -----------------------------------------------------------\n",
    "# --- Read results from QuCF simulations ---\n",
    "# -----------------------------------------------------------\n",
    "mix.reload_module(mse)\n",
    "\n",
    "\n",
    "om = mse.MeasOracle__(True)\n",
    "\n",
    "om.path_  = path_data_\n",
    "om.pname_ = pr_name_\n",
    "om.open()\n",
    "om.set_zero_ancillae_work_states(0)\n",
    "qc_data_full = om.get_var_x({}, \"rx\")\n",
    "\n",
    "print()\n",
    "print(\"QC prob.: {:0.3e}\".format(np.sum( np.abs(qc_data_full)**2 ) ))\n",
    "\n",
    "# --- x-grid ---\n",
    "x = np.linspace(x_min_, x_max_, Nx_)\n",
    "\n",
    "# --- reference data ---\n",
    "\n",
    "# ref_data = np.exp(-1.j * t_ * x)\n",
    "\n",
    "\n",
    "# --- for QETU ---\n",
    "om.read_qsvt()\n",
    "y    = np.cos(t_ * x / 2.)\n",
    "par1 = om.dd_[\"qetu_data\"][\"par\"]\n",
    "\n",
    "# # --- for QSVT ---\n",
    "# om.read_qsvt()\n",
    "# y    = np.sin(x)\n",
    "# par1 = om.dd_[\"qetu_data\"][\"par\"]\n",
    "\n",
    "\n",
    "ref_data = np.exp(- np.arcsin(y)**2 / (2 * par1**2))\n",
    "# ref_data /= np.sqrt( np.sum( np.abs(ref_data)**2 ) )\n",
    "\n",
    "# --- QuCF data ---\n",
    "qc_data = -np.array(qc_data_full.real)\n",
    "qc_data *= 2**(nx_/2.)\n",
    "# qc_data /= np.sqrt( np.sum( np.abs(qc_data)**2 ) )\n",
    "\n",
    "\n",
    "# --- Plotting ---\n",
    "fig = plt.figure()\n",
    "ax = fig.add_subplot(111)\n",
    "ax.plot(\n",
    "    x, ref_data.real, \n",
    "    color='b', linewidth = 2, linestyle='-',  \n",
    "    label = \"ref\"\n",
    ")\n",
    "ax.plot(\n",
    "    x, qc_data,\n",
    "    color='r', linewidth = 2, linestyle='--',  \n",
    "    label = \"QC\"\n",
    ")\n",
    "plt.xlabel('$i$')\n",
    "plt.ylabel(\"$Re$\")\n",
    "ax.legend()\n",
    "plt.grid(True)\n",
    "plt.show()"
   ]
  },
  {
   "cell_type": "code",
   "execution_count": null,
   "id": "af64f5e9",
   "metadata": {},
   "outputs": [],
   "source": []
  },
  {
   "cell_type": "code",
   "execution_count": null,
   "id": "da68b8cb",
   "metadata": {},
   "outputs": [],
   "source": [
    "par1*2/pi,   prob-QETU,      par1/Lx      prob-QSVT\n",
    "0.05:        4.418e-02  0.025             6.940e-02\n",
    "0.1:         8.854e-02, 0.05              1.391e-01\n",
    "0.2:         1.771e-01, 0.1               2.781e-01\n",
    "0.4:         3.533e-01, 0.2               5.417e-01"
   ]
  },
  {
   "cell_type": "code",
   "execution_count": null,
   "id": "334a3d01",
   "metadata": {},
   "outputs": [],
   "source": []
  },
  {
   "cell_type": "code",
   "execution_count": null,
   "id": "94eb75bf",
   "metadata": {},
   "outputs": [],
   "source": []
  },
  {
   "cell_type": "code",
   "execution_count": null,
   "id": "90121916",
   "metadata": {},
   "outputs": [],
   "source": []
  },
  {
   "cell_type": "code",
   "execution_count": 11,
   "id": "58ed567c",
   "metadata": {},
   "outputs": [
    {
     "data": {
      "text/plain": [
       "32.0"
      ]
     },
     "execution_count": 11,
     "metadata": {},
     "output_type": "execute_result"
    }
   ],
   "source": [
    "np.sqrt( np.sum( np.abs(ref_data)**2 ) )"
   ]
  },
  {
   "cell_type": "code",
   "execution_count": 63,
   "id": "55df5f53",
   "metadata": {},
   "outputs": [
    {
     "data": {
      "text/plain": [
       "0.2"
      ]
     },
     "execution_count": 63,
     "metadata": {},
     "output_type": "execute_result"
    }
   ],
   "source": [
    "par1 / (x_max_ - x_min_)"
   ]
  },
  {
   "cell_type": "code",
   "execution_count": null,
   "id": "87503c7d",
   "metadata": {},
   "outputs": [],
   "source": []
  }
 ],
 "metadata": {
  "kernelspec": {
   "display_name": "Python 3 (ipykernel)",
   "language": "python",
   "name": "python3"
  },
  "language_info": {
   "codemirror_mode": {
    "name": "ipython",
    "version": 3
   },
   "file_extension": ".py",
   "mimetype": "text/x-python",
   "name": "python",
   "nbconvert_exporter": "python",
   "pygments_lexer": "ipython3",
   "version": "3.11.0"
  }
 },
 "nbformat": 4,
 "nbformat_minor": 5
}
