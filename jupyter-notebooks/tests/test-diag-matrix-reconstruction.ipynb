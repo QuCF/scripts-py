{
 "cells": [
  {
   "cell_type": "code",
   "execution_count": 1,
   "id": "0d36d763",
   "metadata": {},
   "outputs": [
    {
     "name": "stdout",
     "output_type": "stream",
     "text": [
      "8720\n",
      "/media/work/docs/codes/QuCF/scripts-py\n"
     ]
    }
   ],
   "source": [
    "from IPython.display import display, HTML\n",
    "import scipy.constants as sc\n",
    "from scipy.optimize import fsolve\n",
    "from ipywidgets import interact, widgets\n",
    "%matplotlib notebook\n",
    "\n",
    "import numpy as np\n",
    "import cmath\n",
    "import matplotlib.pyplot as plt\n",
    "import scipy.constants as sc\n",
    "plt.rcParams.update({\n",
    "    \"text.usetex\": True,\n",
    "    'text.latex.preamble': r\"\\usepackage{amsmath} \\boldmath\"\n",
    "})\n",
    "import os\n",
    "import h5py\n",
    "\n",
    "print(os.getpid())\n",
    "%cd ../"
   ]
  },
  {
   "cell_type": "code",
   "execution_count": 2,
   "id": "39109cc8",
   "metadata": {},
   "outputs": [
    {
     "data": {
      "text/html": [
       "<style>.container { width:100% !important; }</style>"
      ],
      "text/plain": [
       "<IPython.core.display.HTML object>"
      ]
     },
     "metadata": {},
     "output_type": "display_data"
    }
   ],
   "source": [
    "# --- Launch to change cells' width ---\n",
    "from IPython.display import display, HTML\n",
    "display(HTML(\"<style>.container { width:100% !important; }</style>\"))"
   ]
  },
  {
   "cell_type": "code",
   "execution_count": 3,
   "id": "22e6a4c4",
   "metadata": {},
   "outputs": [],
   "source": [
    "import subprocess\n",
    "import pylib.mix as mix\n",
    "import pylib.qucf_read as qucf_r\n",
    "import pylib.qucf_oracle as qucf_o\n",
    "import pylib.qucf_matrix_D as qucf_m"
   ]
  },
  {
   "cell_type": "code",
   "execution_count": null,
   "id": "7205c730",
   "metadata": {},
   "outputs": [],
   "source": []
  },
  {
   "cell_type": "code",
   "execution_count": 4,
   "id": "2b0cc400",
   "metadata": {},
   "outputs": [],
   "source": [
    "# --------------------------------------------------------------\n",
    "# --- A helper class to create a diagonal matrix ---\n",
    "# --------------------------------------------------------------\n",
    "mix.reload_module(mix)\n",
    "mix.reload_module(qucf_o)\n",
    "\n",
    "class DiagMatrix__:\n",
    "    nz_ = None\n",
    "    ny_ = None\n",
    "    nx_ = None\n",
    "    \n",
    "    Nz_ = None\n",
    "    Ny_ = None\n",
    "    Nx_ = None\n",
    "    N_ = None\n",
    "    \n",
    "    A_ = None\n",
    "    \n",
    "    circ_ = None\n",
    "    \n",
    "    \n",
    "    def __init__(self, nz, ny, nx):\n",
    "        self.nz_ = nz\n",
    "        self.ny_ = ny\n",
    "        self.nx_ = nx      \n",
    "        self.Nz_ = 1<<self.nz_\n",
    "        self.Ny_ = 1<<self.ny_\n",
    "        self.Nx_ = 1<<self.nx_  \n",
    "        self.N_ = self.Nz_ * self.Ny_ * self.Nx_\n",
    "        \n",
    "        # initialize the matrix:\n",
    "        self.A_ = np.zeros((self.N_, self.N_))\n",
    "        \n",
    "        # create the circuit:\n",
    "        self.circ_ = qucf_o.Circuit__()\n",
    "        anc = qucf_o.Regs__()\n",
    "        inp = qucf_o.Regs__()\n",
    "        \n",
    "        anc.add_reg(\"azr\", 1, True)\n",
    "        anc.add_reg(\"ayr\", 1, True)\n",
    "        anc.add_reg(\"axr\", 1, True)\n",
    "        \n",
    "        inp.add_reg(\"rz\", self.nz_, False)\n",
    "        inp.add_reg(\"ry\", self.ny_, False)\n",
    "        inp.add_reg(\"rx\", self.nx_, False)\n",
    "        \n",
    "        self.circ_.set_regs(inp, anc)\n",
    "        self.circ_.compute_N_registers()\n",
    "        \n",
    "        # set the values of the matrix:\n",
    "        self.create()\n",
    "        return\n",
    "    \n",
    "    \n",
    "    def get_A(self):\n",
    "        return self.A_\n",
    "    \n",
    "    \n",
    "    def get_data(self):\n",
    "        sizes = [self.Nz_, self.Ny_, self.Nx_]\n",
    "        return [self.circ_, self.A_, sizes]\n",
    "    \n",
    "    \n",
    "    def set_v(self, v, iz, iy, ix):\n",
    "        ir = iz * self.Ny_*self.Nx_ + iy*self.Nx_ + ix\n",
    "        self.A_[ir,ir] = v\n",
    "        return\n",
    "    \n",
    "    \n",
    "    def create(self):\n",
    "        Nz, Ny, Nx = self.Nz_, self.Ny_, self.Nx_\n",
    "        \n",
    "        # Set-z-1\n",
    "        for iz in range(Nz//2):\n",
    "            for iy in range(Ny//4):\n",
    "                ix, v = 0, 0.3\n",
    "                self.set_v(v, iz, iy, ix)\n",
    "                for ix in range(1,Nx):\n",
    "                    v = 0.4\n",
    "                    self.set_v(v, iz, iy, ix)\n",
    "\n",
    "            for iy in range(Ny//4,Ny//2):\n",
    "                ix, v = 0, 0.42\n",
    "                self.set_v(v, iz, iy, ix)\n",
    "                for ix in range(1,Nx-1):\n",
    "                    v = 0.46\n",
    "                    self.set_v(v, iz, iy, ix)\n",
    "                ix, v = Nx-1, 0.21\n",
    "                self.set_v(v, iz, iy, ix)\n",
    "\n",
    "            for iy in range(Ny//2, 3*Ny//4):\n",
    "                ix, v = 0, 0.6\n",
    "                self.set_v(v, iz, iy, ix)\n",
    "                ix, v = 1, 0.48\n",
    "                self.set_v(v, iz, iy, ix)\n",
    "                for ix in range(2,Nx):\n",
    "                    v = 0.422\n",
    "                    self.set_v(v, iz, iy, ix)\n",
    "\n",
    "            for iy in range(3*Ny//4,Ny):\n",
    "                for ix in range(Nx):\n",
    "                    v = 0.1\n",
    "                    self.set_v(v, iz, iy, ix)\n",
    "\n",
    "        # Set-z-2    \n",
    "        for iz in range(Nz//2, Nz):\n",
    "            xx = 0\n",
    "\n",
    "            for iy in range(3*Ny//4):\n",
    "                for ix in range(Nx//2):\n",
    "                    v = 0.1\n",
    "                    self.set_v(v, iz, iy, ix)\n",
    "                for ix in range(Nx//2,Nx):\n",
    "                    v = 0.2\n",
    "                    self.set_v(v, iz, iy, ix)\n",
    "\n",
    "            for iy in range(3*Ny//4,Ny):\n",
    "                for ix in range(Nx-1):\n",
    "                    v = 0.8\n",
    "                    self.set_v(v, iz, iy, ix)\n",
    "                ix, v = Nx-1, 0.02\n",
    "                self.set_v(v, iz, iy, ix)\n",
    "        return\n",
    "        "
   ]
  },
  {
   "cell_type": "code",
   "execution_count": null,
   "id": "f4f73f43",
   "metadata": {},
   "outputs": [],
   "source": []
  },
  {
   "cell_type": "code",
   "execution_count": 21,
   "id": "80072b15",
   "metadata": {},
   "outputs": [],
   "source": [
    "# --------------------------------------------------------------\n",
    "# --- Chose the case ---\n",
    "# --------------------------------------------------------------\n",
    "mix.reload_module(mix)\n",
    "\n",
    "D1 = DiagMatrix__(3, 3, 2)\n",
    "D2 = DiagMatrix__(4, 3, 2)\n",
    "D3 = DiagMatrix__(3, 4, 2)\n",
    "D4 = DiagMatrix__(3, 3, 3)\n",
    "\n",
    "nz_large, ny_large, nx_large = 5, 5, 4\n",
    "D_ref = DiagMatrix__(nz_large, ny_large, nx_large)"
   ]
  },
  {
   "cell_type": "code",
   "execution_count": null,
   "id": "76077e65",
   "metadata": {},
   "outputs": [],
   "source": []
  },
  {
   "cell_type": "code",
   "execution_count": 22,
   "id": "31e3f78c",
   "metadata": {},
   "outputs": [],
   "source": [
    "# ---------------------------------------------------------------\n",
    "# --- Initialize matrices D_F for various sizes ---\n",
    "# ---------------------------------------------------------------\n",
    "mix.reload_module(qucf_m)\n",
    "\n",
    "grid_332 = qucf_m.SectionsGrid__(D1.get_data())\n",
    "grid_432 = qucf_m.SectionsGrid__(D2.get_data())\n",
    "grid_342 = qucf_m.SectionsGrid__(D3.get_data())\n",
    "grid_333 = qucf_m.SectionsGrid__(D4.get_data())"
   ]
  },
  {
   "cell_type": "code",
   "execution_count": null,
   "id": "a642cff6",
   "metadata": {},
   "outputs": [],
   "source": []
  },
  {
   "cell_type": "code",
   "execution_count": 23,
   "id": "2663e127",
   "metadata": {},
   "outputs": [
    {
     "name": "stdout",
     "output_type": "stream",
     "text": [
      "All grids have the same number of sizes.\n",
      "The correct number of grids is provided.\n",
      "Grids have similiar structure.\n"
     ]
    }
   ],
   "source": [
    "# ---------------------------------------------------------------\n",
    "# --- Create an extrapolation template ---\n",
    "# ---------------------------------------------------------------\n",
    "mix.reload_module(qucf_m)\n",
    "\n",
    "oo_extr = qucf_m.Extrapolation__([grid_332, grid_432, grid_342, grid_333])\n",
    "oo_extr.create_extrapolation_template()"
   ]
  },
  {
   "cell_type": "code",
   "execution_count": null,
   "id": "24be7752",
   "metadata": {},
   "outputs": [],
   "source": []
  },
  {
   "cell_type": "code",
   "execution_count": 25,
   "id": "02ee1d1d",
   "metadata": {},
   "outputs": [],
   "source": [
    "# ---------------------------------------------------------------\n",
    "# --- Construct a large matrix ---\n",
    "# ---------------------------------------------------------------\n",
    "mix.reload_module(qucf_m)\n",
    "mix.reload_module(qucf_o)\n",
    "\n",
    "def create_circ_large(nz, ny, nx):\n",
    "    circ = qucf_o.Circuit__()\n",
    "    anc = qucf_o.Regs__()\n",
    "    inp = qucf_o.Regs__()\n",
    "\n",
    "    anc.add_reg(\"azr\", 1, True)\n",
    "    anc.add_reg(\"ayr\", 1, True)\n",
    "    anc.add_reg(\"axr\", 1, True)\n",
    "\n",
    "    inp.add_reg(\"rz\", nz, False)\n",
    "    inp.add_reg(\"ry\", ny, False)\n",
    "    inp.add_reg(\"rx\", nx, False)\n",
    "\n",
    "    circ.set_regs(inp, anc)\n",
    "    circ.compute_N_registers()\n",
    "    return circ\n",
    "# -----------------------------------------\n",
    "circ_large = create_circ_large(nz_large, ny_large, nx_large)\n",
    "A_large = oo_extr.reconstruct_matrix(circ_large)"
   ]
  },
  {
   "cell_type": "code",
   "execution_count": null,
   "id": "c4792739",
   "metadata": {},
   "outputs": [],
   "source": []
  },
  {
   "cell_type": "code",
   "execution_count": 28,
   "id": "3ca82c34",
   "metadata": {},
   "outputs": [
    {
     "name": "stdout",
     "output_type": "stream",
     "text": [
      "the same within precision  1e-06\n"
     ]
    }
   ],
   "source": [
    "# ----------------------------------------------------------------------\n",
    "# --- Compare the reconstructed and calculated (if available) matrix ---\n",
    "# ----------------------------------------------------------------------\n",
    "mix.reload_module(qucf_o)\n",
    "qucf_o.compare_matrices(A_large, D_ref.get_A())"
   ]
  },
  {
   "cell_type": "code",
   "execution_count": null,
   "id": "26a2edd8",
   "metadata": {},
   "outputs": [],
   "source": []
  }
 ],
 "metadata": {
  "kernelspec": {
   "display_name": "Python 3 (ipykernel)",
   "language": "python",
   "name": "python3"
  },
  "language_info": {
   "codemirror_mode": {
    "name": "ipython",
    "version": 3
   },
   "file_extension": ".py",
   "mimetype": "text/x-python",
   "name": "python",
   "nbconvert_exporter": "python",
   "pygments_lexer": "ipython3",
   "version": "3.11.0"
  }
 },
 "nbformat": 4,
 "nbformat_minor": 5
}
