{
 "cells": [
  {
   "cell_type": "code",
   "execution_count": 1,
   "id": "a2c175fe",
   "metadata": {},
   "outputs": [
    {
     "name": "stdout",
     "output_type": "stream",
     "text": [
      "15267\n",
      "/media/work/docs/codes/QuCF/scripts-py\n"
     ]
    }
   ],
   "source": [
    "# if os.name != 'posix':\n",
    "#     %matplotlib ipympl\n",
    "# else:\n",
    "#     %matplotlib notebook\n",
    "\n",
    "import numpy as np\n",
    "import cmath\n",
    "import matplotlib.pyplot as plt\n",
    "import scipy.constants as sc\n",
    "# plt.rcParams.update({\n",
    "#     \"text.usetex\": True,\n",
    "#     'text.latex.preamble': r\"\\usepackage{amsmath} \\boldmath\"\n",
    "# })\n",
    "import os\n",
    "import h5py\n",
    "\n",
    "print(os.getpid())\n",
    "%cd ../../\n",
    "\n",
    "import pylib.mix as mix\n",
    "import pylib.measurement as mse"
   ]
  },
  {
   "cell_type": "code",
   "execution_count": 18,
   "id": "f638cd7f",
   "metadata": {},
   "outputs": [],
   "source": [
    "from qiskit import QuantumCircuit, QuantumRegister\n",
    "from qiskit.quantum_info.operators import Operator\n",
    "from qiskit.compiler import transpile\n",
    "from scipy.linalg import expm\n",
    "\n",
    "# --- Create a diagonal matrix with x-coordinates on the main diagonal ---\n",
    "nq_ = 5;\n",
    "t_ = 2.0;\n",
    "N_ = 1 << nq_\n",
    "x_min, x_max = 0.0, np.pi\n",
    "# x_min, x_max = -1.0, 1.0\n",
    "x = np.linspace(x_min, x_max, N_)\n",
    "A = np.diag(x)\n",
    "\n",
    "\n",
    "# # --- Create the quantum circuit ---\n",
    "# Uexp = expm(-1.j*t_*A)\n",
    "\n",
    "# q = QuantumRegister(nq_, \"r\")\n",
    "# qc = QuantumCircuit(q)\n",
    "\n",
    "# tqs = []\n",
    "# for ii in range(nq_):\n",
    "#     tqs.append(q[ii])\n",
    "\n",
    "# circU = Operator( Uexp )\n",
    "# qc.unitary(circU, tqs, label=\"exp\")\n",
    "# qc.draw(output='mpl')\n",
    "\n",
    "# # --- Transpile the circuit ---\n",
    "# new_qc = transpile(qc, basis_gates = ['rz', 'rx', 'cx'], optimization_level = 3)\n",
    "# print(\"nq, circuit depth: {:d}, {:d}\".format(nq_, new_qc.depth()))\n",
    "# # new_qc.draw()"
   ]
  },
  {
   "cell_type": "code",
   "execution_count": null,
   "id": "fd1522c7",
   "metadata": {},
   "outputs": [],
   "source": []
  },
  {
   "cell_type": "code",
   "execution_count": 19,
   "id": "f58fded8",
   "metadata": {},
   "outputs": [
    {
     "name": "stdout",
     "output_type": "stream",
     "text": [
      "---------------------------------------------------------------\n",
      "--- Decomposition of a Hermitian into Pauli tensor products ---\n",
      "nq:  5\n",
      "Total number of possible combinations of (I,Z) Pauli matrices 32\n",
      "n. of Pauli products:  6\n",
      "---------------------------------------------------------------\n"
     ]
    }
   ],
   "source": [
    "# ----------------------------------------------------------------------------\n",
    "# --- Decompose the diagonal matrix into a tensor product of Z-Pauli gates ---\n",
    "# ----------------------------------------------------------------------------\n",
    "mix.reload_module(mix)\n",
    "\n",
    "import itertools as it\n",
    "A_dec = mix.hermitian_to_Z_pauli(A, flag_filter = True, small_coef = 1e-14, flag_print_details=True)\n",
    "# A_dec = mix.hermitian_to_pauli(A, flag_filter = True, small_coef = 1e-14, flag_print_details=True)"
   ]
  },
  {
   "cell_type": "code",
   "execution_count": null,
   "id": "6fcdc8c1",
   "metadata": {},
   "outputs": [],
   "source": []
  },
  {
   "cell_type": "code",
   "execution_count": 20,
   "id": "432e229c",
   "metadata": {},
   "outputs": [
    {
     "name": "stdout",
     "output_type": "stream",
     "text": [
      "     ┌─────────────┐ \n",
      "q_0: ┤ Rz(-3.2429) ├─\n",
      "     ├─────────────┤ \n",
      "q_1: ┤ Rz(-1.6215) ├─\n",
      "     ├─────────────┴┐\n",
      "q_2: ┤ Rz(-0.81073) ├\n",
      "     ├──────────────┤\n",
      "q_3: ┤ Rz(-0.40537) ├\n",
      "     ├──────────────┤\n",
      "q_4: ┤ Rz(-0.20268) ├\n",
      "     └──────────────┘\n",
      "\n",
      "-1.000, 1.000\n",
      "-0.980, 0.980\n",
      "-0.919, 0.919\n",
      "-0.821, 0.821\n",
      "-0.689, 0.689\n",
      "-0.529, 0.529\n",
      "-0.347, 0.347\n",
      "-0.151, 0.151\n",
      "0.051, -0.051\n",
      "0.251, -0.251\n",
      "0.440, -0.440\n",
      "0.612, -0.612\n",
      "0.759, -0.759\n",
      "0.874, -0.874\n",
      "0.954, -0.954\n",
      "0.995, -0.995\n",
      "0.995, -0.995\n",
      "0.954, -0.954\n",
      "0.874, -0.874\n",
      "0.759, -0.759\n",
      "0.612, -0.612\n",
      "0.440, -0.440\n",
      "0.251, -0.251\n",
      "0.051, -0.051\n",
      "-0.151, 0.151\n",
      "-0.347, 0.347\n",
      "-0.529, 0.529\n",
      "-0.689, 0.689\n",
      "-0.821, 0.821\n",
      "-0.919, 0.919\n",
      "-0.980, 0.980\n",
      "-1.000, 1.000\n",
      "max. abs. diff: 2.000e+00\n"
     ]
    }
   ],
   "source": [
    "# -------------------------------------------------\n",
    "# --- Form a circuit to model exp(-1j*t_*A_dec) ---\n",
    "# -------------------------------------------------\n",
    "import pylib.QC as QC\n",
    "\n",
    "# --- Construction of the circuit ---\n",
    "qc_dec = QC.Circuit(nq_)\n",
    "qc_dec.form_from_pauli(A_dec, t_, sel_error_order = 2)\n",
    "print(qc_dec.form_qiskit_circuit().draw(fold = 160)); print(\"\")\n",
    "Ures = qc_dec.get_matrix()\n",
    "\n",
    "# --- Recheck the construction ---\n",
    "max_abs_err = 0.0\n",
    "for id_x in range(N_):\n",
    "    init_state = np.zeros(N_)\n",
    "    init_state[id_x] = 1\n",
    "\n",
    "    res_U = Ures.dot(init_state)[0,id_x]\n",
    "    res_dir_exp = np.exp(-1.j*t_*x[id_x]) \n",
    "    print(\"{:0.3f}, {:0.3f}\".format(res_U.real, res_dir_exp.real))\n",
    "\n",
    "    abs_err = np.abs(res_U - res_dir_exp)\n",
    "    if abs_err > max_abs_err:\n",
    "        max_abs_err = abs_err\n",
    "\n",
    "print(\"max. abs. diff: {:0.3e}\".format(max_abs_err))"
   ]
  },
  {
   "cell_type": "code",
   "execution_count": null,
   "id": "4cf89a75",
   "metadata": {},
   "outputs": [],
   "source": []
  },
  {
   "cell_type": "code",
   "execution_count": 10,
   "id": "0517ecc1",
   "metadata": {},
   "outputs": [
    {
     "name": "stdout",
     "output_type": "stream",
     "text": [
      "1.5707963267948966\n",
      "-0.05067084925144827\n",
      "-0.10134169850289654\n",
      "-0.2026833970057932\n",
      "-0.4053667940115862\n",
      "-0.8107335880231725\n"
     ]
    }
   ],
   "source": [
    "for ii in range(len(A_dec)):\n",
    "    print(A_dec[ii][0])"
   ]
  },
  {
   "cell_type": "code",
   "execution_count": 8,
   "id": "713fb7f6",
   "metadata": {},
   "outputs": [
    {
     "data": {
      "text/plain": [
       "1.5707963267948966"
      ]
     },
     "execution_count": 8,
     "metadata": {},
     "output_type": "execute_result"
    }
   ],
   "source": [
    "np.pi/2."
   ]
  },
  {
   "cell_type": "code",
   "execution_count": 18,
   "id": "ccd9fb3c",
   "metadata": {},
   "outputs": [
    {
     "data": {
      "text/plain": [
       "<pylib.QC.Circuit at 0x7f0bafdff810>"
      ]
     },
     "execution_count": 18,
     "metadata": {},
     "output_type": "execute_result"
    }
   ],
   "source": [
    "qc_dec"
   ]
  },
  {
   "cell_type": "code",
   "execution_count": null,
   "id": "a9bc4ba5",
   "metadata": {},
   "outputs": [],
   "source": []
  },
  {
   "cell_type": "code",
   "execution_count": null,
   "id": "f6c27986",
   "metadata": {},
   "outputs": [],
   "source": []
  },
  {
   "cell_type": "code",
   "execution_count": null,
   "id": "4f3cd3fd",
   "metadata": {},
   "outputs": [],
   "source": []
  },
  {
   "cell_type": "code",
   "execution_count": null,
   "id": "073687b9",
   "metadata": {},
   "outputs": [],
   "source": []
  },
  {
   "cell_type": "code",
   "execution_count": null,
   "id": "307e613a",
   "metadata": {},
   "outputs": [],
   "source": []
  },
  {
   "cell_type": "code",
   "execution_count": null,
   "id": "197889e0",
   "metadata": {},
   "outputs": [],
   "source": []
  },
  {
   "cell_type": "code",
   "execution_count": null,
   "id": "a5a727e7",
   "metadata": {},
   "outputs": [],
   "source": []
  },
  {
   "cell_type": "code",
   "execution_count": null,
   "id": "b85e5bea",
   "metadata": {},
   "outputs": [],
   "source": []
  },
  {
   "cell_type": "code",
   "execution_count": null,
   "id": "59ee851f",
   "metadata": {},
   "outputs": [],
   "source": []
  },
  {
   "cell_type": "code",
   "execution_count": null,
   "id": "f67eb941",
   "metadata": {},
   "outputs": [],
   "source": []
  },
  {
   "cell_type": "code",
   "execution_count": null,
   "id": "80c2be44",
   "metadata": {},
   "outputs": [],
   "source": []
  },
  {
   "cell_type": "code",
   "execution_count": null,
   "id": "bb424461",
   "metadata": {},
   "outputs": [],
   "source": []
  },
  {
   "cell_type": "code",
   "execution_count": null,
   "id": "cfff83cd",
   "metadata": {},
   "outputs": [],
   "source": []
  },
  {
   "cell_type": "code",
   "execution_count": null,
   "id": "35d47d9f",
   "metadata": {},
   "outputs": [],
   "source": []
  },
  {
   "cell_type": "code",
   "execution_count": null,
   "id": "45977dca",
   "metadata": {},
   "outputs": [],
   "source": []
  },
  {
   "cell_type": "code",
   "execution_count": null,
   "id": "737341aa",
   "metadata": {},
   "outputs": [],
   "source": []
  },
  {
   "cell_type": "code",
   "execution_count": null,
   "id": "7aa2b2e1",
   "metadata": {},
   "outputs": [],
   "source": []
  },
  {
   "cell_type": "code",
   "execution_count": null,
   "id": "92aa7d77",
   "metadata": {},
   "outputs": [],
   "source": []
  },
  {
   "cell_type": "code",
   "execution_count": null,
   "id": "8c7444a9",
   "metadata": {},
   "outputs": [],
   "source": []
  },
  {
   "cell_type": "code",
   "execution_count": null,
   "id": "b3796073",
   "metadata": {},
   "outputs": [],
   "source": []
  },
  {
   "cell_type": "code",
   "execution_count": null,
   "id": "19e6e5ab",
   "metadata": {},
   "outputs": [],
   "source": []
  },
  {
   "cell_type": "code",
   "execution_count": null,
   "id": "dbaf282d",
   "metadata": {},
   "outputs": [],
   "source": []
  },
  {
   "cell_type": "code",
   "execution_count": null,
   "id": "7cf747d1",
   "metadata": {},
   "outputs": [],
   "source": []
  },
  {
   "cell_type": "code",
   "execution_count": null,
   "id": "920caf9e",
   "metadata": {},
   "outputs": [],
   "source": []
  }
 ],
 "metadata": {
  "kernelspec": {
   "display_name": "Python 3 (ipykernel)",
   "language": "python",
   "name": "python3"
  },
  "language_info": {
   "codemirror_mode": {
    "name": "ipython",
    "version": 3
   },
   "file_extension": ".py",
   "mimetype": "text/x-python",
   "name": "python",
   "nbconvert_exporter": "python",
   "pygments_lexer": "ipython3",
   "version": "3.11.0"
  }
 },
 "nbformat": 4,
 "nbformat_minor": 5
}
