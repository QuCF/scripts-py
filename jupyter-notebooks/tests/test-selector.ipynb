{
 "cells": [
  {
   "cell_type": "code",
   "execution_count": 1,
   "id": "66b77e61",
   "metadata": {},
   "outputs": [
    {
     "name": "stdout",
     "output_type": "stream",
     "text": [
      "20407\n",
      "/media/work/docs/codes/QuCF/scripts-py\n"
     ]
    }
   ],
   "source": [
    "import os\n",
    "if os.name != 'posix':\n",
    "    %matplotlib ipympl\n",
    "else:\n",
    "    %matplotlib notebook\n",
    "import scipy.constants as sc\n",
    "from scipy.optimize import fsolve\n",
    "\n",
    "import numpy as np\n",
    "import cmath\n",
    "import matplotlib.pyplot as plt\n",
    "import scipy.constants as sc\n",
    "plt.rcParams.update({\n",
    "    \"text.usetex\": True,\n",
    "    'text.latex.preamble': r\"\\usepackage{amsmath} \\boldmath\"\n",
    "})\n",
    "import os\n",
    "import h5py\n",
    "\n",
    "print(os.getpid())\n",
    "%cd ../../\n",
    "\n",
    "import pylib.mix as mix\n",
    "import pylib.measurement as mse"
   ]
  },
  {
   "cell_type": "code",
   "execution_count": 2,
   "id": "edf7338e",
   "metadata": {},
   "outputs": [
    {
     "data": {
      "text/html": [
       "<style>.container { width:100% !important; }</style>"
      ],
      "text/plain": [
       "<IPython.core.display.HTML object>"
      ]
     },
     "metadata": {},
     "output_type": "display_data"
    }
   ],
   "source": [
    "# --- Launch to change cells' width ---\n",
    "from IPython.display import display, HTML\n",
    "display(HTML(\"<style>.container { width:100% !important; }</style>\"))\n",
    "\n",
    "colors_ = [\"blue\", \"red\", \"green\", \"gray\", \"black\"]\n",
    "\n",
    "from matplotlib import ticker\n",
    "cmap_two_signs_= 'coolwarm'\n",
    "cmap_two_signs_= 'Blues'\n",
    "# cmap_two_signs_= 'Greys'\n",
    "# cmap_two_signs_= 'Pastel1'\n",
    "# cmap_two_signs_= 'flag'\n",
    "# cmap_two_signs_= 'nipy_spectral'\n",
    "# cmap_two_signs_= 'jet'\n",
    "# cmap_two_signs_= 'seismic'\n",
    "def fmt_(x, pos):\n",
    "    a, b = '{:.2e}'.format(x).split('e')\n",
    "    b = int(b)\n",
    "    return r'${} \\times 10^{{{}}}$'.format(a, b)"
   ]
  },
  {
   "cell_type": "code",
   "execution_count": 3,
   "id": "2184f2a9",
   "metadata": {},
   "outputs": [],
   "source": [
    "for i in range(10):\n",
    "    plt.close()"
   ]
  },
  {
   "cell_type": "code",
   "execution_count": null,
   "id": "988ef104",
   "metadata": {},
   "outputs": [],
   "source": []
  },
  {
   "cell_type": "code",
   "execution_count": 33,
   "id": "3c78c6d7",
   "metadata": {},
   "outputs": [
    {
     "name": "stdout",
     "output_type": "stream",
     "text": [
      "\n",
      "ns \t2\n",
      "aa \t1.200000000000e+00\n",
      "\n",
      "--- Results ---\n",
      "j = 1: res =            8.253e-01|0> +            5.646e-01|1>\n",
      "j = 2: res =            3.624e-01|0> +            9.320e-01|1>\n",
      "j = 3: res =           -2.272e-01|0> +            9.738e-01|1>\n"
     ]
    }
   ],
   "source": [
    "# -----------------------------------------------------------------\n",
    "# --- Selector ---\n",
    "# -----------------------------------------------------------------\n",
    "mix.reload_module(mix)\n",
    "\n",
    "ns = 2\n",
    "aa = 1.2\n",
    "\n",
    "print()\n",
    "print(\"ns \\t{:d}\".format(ns))\n",
    "print(\"aa \\t{:0.12e}\".format(aa))\n",
    "\n",
    "Ry = np.matrix([\n",
    "    [np.cos(aa/2.), -np.sin(aa/2.)],\n",
    "    [np.sin(aa/2.),  np.cos(aa/2.)]\n",
    "])\n",
    "\n",
    "print(\"\\n--- Results ---\")\n",
    "U = np.eye(2)\n",
    "for ii in range(1, 1<<ns):\n",
    "    U   = Ry.dot(U)\n",
    "    res = U.dot([1,0])\n",
    "    print(\"j = {:d}: res = {:20.3e}|0> + {:20.3e}|1>\".format(ii, res[0,0], res[0,1]))"
   ]
  },
  {
   "cell_type": "code",
   "execution_count": null,
   "id": "f4d7c894",
   "metadata": {},
   "outputs": [],
   "source": []
  },
  {
   "cell_type": "code",
   "execution_count": 29,
   "id": "3a531383",
   "metadata": {},
   "outputs": [
    {
     "data": {
      "text/plain": [
       "matrix([[0.825+0.j   , 0.   -0.565j]])"
      ]
     },
     "execution_count": 29,
     "metadata": {},
     "output_type": "execute_result"
    }
   ],
   "source": [
    "res"
   ]
  },
  {
   "cell_type": "code",
   "execution_count": 28,
   "id": "5304ae00",
   "metadata": {},
   "outputs": [
    {
     "data": {
      "text/plain": [
       "-0.5646424733950353j"
      ]
     },
     "execution_count": 28,
     "metadata": {},
     "output_type": "execute_result"
    }
   ],
   "source": [
    "res[0,1]"
   ]
  },
  {
   "cell_type": "code",
   "execution_count": null,
   "id": "62e72434",
   "metadata": {},
   "outputs": [],
   "source": []
  },
  {
   "cell_type": "code",
   "execution_count": 14,
   "id": "12240a35",
   "metadata": {},
   "outputs": [
    {
     "data": {
      "text/plain": [
       "matrix([[0.825+0.j   , 0.   -0.565j],\n",
       "        [0.   -0.565j, 0.825+0.j   ]])"
      ]
     },
     "execution_count": 14,
     "metadata": {},
     "output_type": "execute_result"
    }
   ],
   "source": [
    "Ry"
   ]
  },
  {
   "cell_type": "code",
   "execution_count": 9,
   "id": "c86915be",
   "metadata": {},
   "outputs": [
    {
     "data": {
      "text/plain": [
       "matrix([[0.999-0.1j , 1.998-0.05j]])"
      ]
     },
     "execution_count": 9,
     "metadata": {},
     "output_type": "execute_result"
    }
   ],
   "source": [
    "Ry.dot([1,2])"
   ]
  },
  {
   "cell_type": "code",
   "execution_count": 15,
   "id": "95c1b0ff",
   "metadata": {},
   "outputs": [
    {
     "data": {
      "text/plain": [
       "array([[1., 0.],\n",
       "       [0., 1.]])"
      ]
     },
     "execution_count": 15,
     "metadata": {},
     "output_type": "execute_result"
    }
   ],
   "source": [
    "np.eye(2)"
   ]
  },
  {
   "cell_type": "code",
   "execution_count": 17,
   "id": "9e183e09",
   "metadata": {},
   "outputs": [
    {
     "data": {
      "text/plain": [
       "matrix([[0.362+0.j   , 0.   -0.932j],\n",
       "        [0.   -0.932j, 0.362+0.j   ]])"
      ]
     },
     "execution_count": 17,
     "metadata": {},
     "output_type": "execute_result"
    }
   ],
   "source": [
    "Ry.dot(Ry)"
   ]
  },
  {
   "cell_type": "code",
   "execution_count": null,
   "id": "f857fb36",
   "metadata": {},
   "outputs": [],
   "source": []
  }
 ],
 "metadata": {
  "kernelspec": {
   "display_name": "Python 3 (ipykernel)",
   "language": "python",
   "name": "python3"
  },
  "language_info": {
   "codemirror_mode": {
    "name": "ipython",
    "version": 3
   },
   "file_extension": ".py",
   "mimetype": "text/x-python",
   "name": "python",
   "nbconvert_exporter": "python",
   "pygments_lexer": "ipython3",
   "version": "3.11.0"
  }
 },
 "nbformat": 4,
 "nbformat_minor": 5
}
