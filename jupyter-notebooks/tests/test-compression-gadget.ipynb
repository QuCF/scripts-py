{
 "cells": [
  {
   "cell_type": "code",
   "execution_count": 1,
   "id": "6b00330a",
   "metadata": {},
   "outputs": [
    {
     "name": "stdout",
     "output_type": "stream",
     "text": [
      "6557\n",
      "/media/work/docs/codes/QuCF/scripts-py\n"
     ]
    }
   ],
   "source": [
    "import os\n",
    "if os.name != 'posix':\n",
    "    %matplotlib ipympl\n",
    "else:\n",
    "    %matplotlib notebook\n",
    "import scipy.constants as sc\n",
    "from scipy.optimize import fsolve\n",
    "\n",
    "import numpy as np\n",
    "import cmath\n",
    "import matplotlib.pyplot as plt\n",
    "import scipy.constants as sc\n",
    "plt.rcParams.update({\n",
    "    \"text.usetex\": True,\n",
    "    'text.latex.preamble': r\"\\usepackage{amsmath} \\boldmath\"\n",
    "})\n",
    "import os\n",
    "import h5py\n",
    "\n",
    "print(os.getpid())\n",
    "%cd ../../\n",
    "\n",
    "import pylib.mix as mix\n",
    "import pylib.measurement as mse"
   ]
  },
  {
   "cell_type": "code",
   "execution_count": null,
   "id": "5c042882",
   "metadata": {},
   "outputs": [],
   "source": []
  },
  {
   "cell_type": "code",
   "execution_count": 2,
   "id": "884c413d",
   "metadata": {},
   "outputs": [
    {
     "data": {
      "text/html": [
       "<style>.container { width:100% !important; }</style>"
      ],
      "text/plain": [
       "<IPython.core.display.HTML object>"
      ]
     },
     "metadata": {},
     "output_type": "display_data"
    }
   ],
   "source": [
    "# --- Launch to change cells' width ---\n",
    "from IPython.display import display, HTML\n",
    "display(HTML(\"<style>.container { width:100% !important; }</style>\"))\n",
    "\n",
    "colors_ = [\"blue\", \"red\", \"green\", \"gray\", \"black\"]\n",
    "\n",
    "from matplotlib import ticker\n",
    "cmap_two_signs_= 'coolwarm'\n",
    "cmap_two_signs_= 'Blues'\n",
    "# cmap_two_signs_= 'Greys'\n",
    "# cmap_two_signs_= 'Pastel1'\n",
    "# cmap_two_signs_= 'flag'\n",
    "# cmap_two_signs_= 'nipy_spectral'\n",
    "# cmap_two_signs_= 'jet'\n",
    "# cmap_two_signs_= 'seismic'\n",
    "def fmt_(x, pos):\n",
    "    a, b = '{:.2e}'.format(x).split('e')\n",
    "    b = int(b)\n",
    "    return r'${} \\times 10^{{{}}}$'.format(a, b)"
   ]
  },
  {
   "cell_type": "code",
   "execution_count": null,
   "id": "89bec59e",
   "metadata": {},
   "outputs": [],
   "source": []
  },
  {
   "cell_type": "code",
   "execution_count": 3,
   "id": "04826a24",
   "metadata": {},
   "outputs": [],
   "source": [
    "for i in range(10):\n",
    "    plt.close()"
   ]
  },
  {
   "cell_type": "code",
   "execution_count": null,
   "id": "94cc5e77",
   "metadata": {},
   "outputs": [],
   "source": []
  },
  {
   "cell_type": "code",
   "execution_count": 38,
   "id": "b369b7e7",
   "metadata": {
    "scrolled": false
   },
   "outputs": [
    {
     "name": "stdout",
     "output_type": "stream",
     "text": [
      "\n",
      "nc \t\t9\n",
      "N_mult \t\t200\n",
      "ay_one \t6.400000000000e-01\n",
      "\n",
      "\n",
      "Write angles to:\n",
      " ../QuCF/tests/compression-gadget/RC_TEST.hdf5\n",
      "\n",
      "Reference results from Rc-gadget\n"
     ]
    }
   ],
   "source": [
    "# ---------------------------------------------------------\n",
    "# --- Compute angles for the compression gadget ---\n",
    "# ---------------------------------------------------------\n",
    "mix.reload_module(mix)\n",
    "\n",
    "N_mult = 200\n",
    "nc = mix.compute_nc_for_compression_gadget(N_mult)\n",
    "ay_one = 0.64\n",
    "\n",
    "flag_print_all = False\n",
    "\n",
    "print()\n",
    "print(\"nc \\t\\t{:d}\".format(nc))\n",
    "print(\"N_mult \\t\\t{:d}\".format(N_mult))\n",
    "print(\"ay_one \\t{:0.12e}\".format(ay_one))\n",
    "\n",
    "# # --- Results ---\n",
    "# print(\"\\nReference results\")\n",
    "# c1 = np.cos(ay_one/2.)\n",
    "# ress = np.zeros(N_mult)\n",
    "# ress[0] = c1\n",
    "# for ii in range(1, N_mult):\n",
    "#     ress[ii] = ress[ii-1] * c1\n",
    "    \n",
    "# if flag_print_all:\n",
    "#     for ii in range(N_mult):    \n",
    "#         print(\"i = {:d}, res = {:0.3e}\".format(ii+1, ress[ii]))\n",
    "    \n",
    "# --- Compute angles for the Rc-gadget:\n",
    "ay = np.linspace(np.pi/6., np.pi/3., N_mult)\n",
    "az = np.linspace(np.pi/8., np.pi/4., N_mult)\n",
    "\n",
    "filename_angles = \"../QuCF/tests/compression-gadget/RC_TEST.hdf5\"\n",
    "print(\"\\n\\nWrite angles to:\\n \" + filename_angles)\n",
    "with h5py.File(filename_angles, \"w\") as f:\n",
    "    grp = f.create_group(\"angles\")   \n",
    "    grp.create_dataset('ay', data=ay)\n",
    "    grp.create_dataset('az', data=az)\n",
    "del filename_angles\n",
    "    \n",
    "    \n",
    "# --- Results from Rc-gadget ---\n",
    "print(\"\\nReference results from Rc-gadget\")\n",
    "ress = np.zeros(N_mult, dtype=complex)\n",
    "ress[0] = np.cos(ay[0]/2.) * np.exp(-1j*az[0]/2.)\n",
    "for ii in range(1, N_mult):\n",
    "    ress[ii] = ress[ii-1] * np.cos(ay[ii]/2.) * np.exp(-1j*az[ii]/2.)\n",
    "    \n",
    "if flag_print_all:\n",
    "    for ii in range(N_mult):    \n",
    "        print(\"i = {:d}, res = {:20.3e}\".format(ii+1, ress[ii]))"
   ]
  },
  {
   "cell_type": "code",
   "execution_count": null,
   "id": "b444cd0c",
   "metadata": {},
   "outputs": [],
   "source": []
  },
  {
   "cell_type": "code",
   "execution_count": 39,
   "id": "30e53805",
   "metadata": {},
   "outputs": [
    {
     "name": "stdout",
     "output_type": "stream",
     "text": [
      "Reading the file ../QuCF/tests/compression-gadget//compression_OUTPUT.hdf5...\n",
      "Name of the simulation is compression\n",
      "Simulation has been performed  11-27-2023 10:09:34\n",
      "\n",
      "maximum absolute error: 2.114e-15\n"
     ]
    }
   ],
   "source": [
    "# ----------------------------------------------------------\n",
    "# --- Read results from the QC simulations ---\n",
    "# ----------------------------------------------------------\n",
    "mix.reload_module(mse)\n",
    "\n",
    "\n",
    "om = mse.MeasOracle__(True)\n",
    "\n",
    "om.path_ = \"../QuCF/tests/compression-gadget/\"\n",
    "om.pname_ = \"compression\"\n",
    "om.open()\n",
    "\n",
    "dd_gadget = om.read_gadget(\"G1\", 0)\n",
    "\n",
    "if flag_print_all:\n",
    "    for ii in range(dd_gadget[\"N-mult\"]):\n",
    "        print(\"i = {:d}, QC-res, CL-res =   {:20.3e},   {:20.3e}\".format(ii+1, dd_gadget[\"ampls\"][ii][0], ress[ii]))\n",
    "\n",
    "print()\n",
    "max_abs_err = np.abs(dd_gadget[\"ampls\"][ii][0] - ress[ii])\n",
    "for ii in range(dd_gadget[\"N-mult\"]):\n",
    "    temp = np.abs(dd_gadget[\"ampls\"][ii][0] - ress[ii])\n",
    "    if temp > max_abs_err:\n",
    "        max_abs_err = temp\n",
    "    if flag_print_all:\n",
    "        print(\"i = {:d}, abs-diff = {:0.3e}\".format(ii+1, temp))\n",
    "del temp\n",
    "    \n",
    "print(\"maximum absolute error: {:0.3e}\".format(max_abs_err))"
   ]
  },
  {
   "cell_type": "code",
   "execution_count": null,
   "id": "d6d11484",
   "metadata": {},
   "outputs": [],
   "source": []
  },
  {
   "cell_type": "code",
   "execution_count": 87,
   "id": "d35b03d4",
   "metadata": {},
   "outputs": [
    {
     "data": {
      "text/plain": [
       "array([0.949-5.812e-17j])"
      ]
     },
     "execution_count": 87,
     "metadata": {},
     "output_type": "execute_result"
    }
   ],
   "source": [
    "dd_gadget[\"ampls\"][0]"
   ]
  },
  {
   "cell_type": "code",
   "execution_count": null,
   "id": "4bdc7fdb",
   "metadata": {},
   "outputs": [],
   "source": []
  },
  {
   "cell_type": "code",
   "execution_count": 81,
   "id": "c08ad307",
   "metadata": {},
   "outputs": [
    {
     "data": {
      "text/plain": [
       "array([[0, 0, 0, 1, 1, 1, 0],\n",
       "       [1, 0, 1, 0, 0, 0, 0]], dtype=int16)"
      ]
     },
     "execution_count": 81,
     "metadata": {},
     "output_type": "execute_result"
    }
   ],
   "source": [
    "dd_gadget[\"states\"][0]"
   ]
  },
  {
   "cell_type": "code",
   "execution_count": null,
   "id": "1108d18f",
   "metadata": {},
   "outputs": [],
   "source": []
  },
  {
   "cell_type": "code",
   "execution_count": 83,
   "id": "ff448d11",
   "metadata": {},
   "outputs": [
    {
     "data": {
      "text/plain": [
       "{'ae': 0, 'rc': 1, 'j': 6}"
      ]
     },
     "execution_count": 83,
     "metadata": {},
     "output_type": "execute_result"
    }
   ],
   "source": [
    "om.dd_[\"reg-shifts\"]"
   ]
  },
  {
   "cell_type": "code",
   "execution_count": null,
   "id": "9085390c",
   "metadata": {},
   "outputs": [],
   "source": []
  },
  {
   "cell_type": "code",
   "execution_count": null,
   "id": "99139dfe",
   "metadata": {},
   "outputs": [],
   "source": []
  },
  {
   "cell_type": "code",
   "execution_count": null,
   "id": "7cde2415",
   "metadata": {},
   "outputs": [],
   "source": []
  },
  {
   "cell_type": "code",
   "execution_count": null,
   "id": "c64bdadd",
   "metadata": {},
   "outputs": [],
   "source": []
  },
  {
   "cell_type": "code",
   "execution_count": null,
   "id": "c71bc252",
   "metadata": {},
   "outputs": [],
   "source": []
  },
  {
   "cell_type": "code",
   "execution_count": null,
   "id": "67a94b75",
   "metadata": {},
   "outputs": [],
   "source": []
  },
  {
   "cell_type": "code",
   "execution_count": null,
   "id": "c769a273",
   "metadata": {},
   "outputs": [],
   "source": [
    "# # ---------------------------------------------------------\n",
    "# # --- Compute angles for the compression gadget ---\n",
    "# # ---------------------------------------------------------\n",
    "# mix.reload_module(mix)\n",
    "\n",
    "# a_max  = 0.2\n",
    "# N_mult = 4\n",
    "# nc = mix.compute_nc_for_compression_gadget(N_mult)\n",
    "\n",
    "# ay_one = 0.64\n",
    "\n",
    "# alpha_s_0 = - a_max\n",
    "# alpha_s_1 = a_max * N_mult/(N_mult - 1)\n",
    "# print()\n",
    "# print(\"nc \\t\\t{:d}\".format(nc))\n",
    "# print(\"N_mult \\t\\t{:d}\".format(N_mult))\n",
    "# print(\"alpha_s_0 \\t{:0.12e}\".format(alpha_s_0))\n",
    "# print(\"alpha_s_1 \\t{:0.12e}\".format(alpha_s_1))\n",
    "\n",
    "# # --- compute angles for the Rc-gadget:\n",
    "# ay = np.linspace(np.pi/6., np.pi/3., N_mult)\n",
    "# az = np.linspace(np.pi/8., np.pi/4., N_mult)\n",
    "\n",
    "# filename_angles = \"../QuCF/tests/compression-gadget/RC_TEST.hdf5\"\n",
    "# print(\"write angles to:\\n \" + filename_angles)\n",
    "# with h5py.File(filename_angles, \"w\") as f:\n",
    "#     grp = f.create_group(\"angles\")   \n",
    "#     grp.create_dataset('ay', data=ay)\n",
    "#     grp.create_dataset('az', data=az)\n",
    "# del ay, az, filename_angles\n",
    "\n",
    "# # ---\n",
    "# d_alpha_s = dx = (2. * alpha_s_1) / N_mult"
   ]
  },
  {
   "cell_type": "code",
   "execution_count": null,
   "id": "8ec252bd",
   "metadata": {},
   "outputs": [],
   "source": []
  },
  {
   "cell_type": "code",
   "execution_count": null,
   "id": "363c7f65",
   "metadata": {},
   "outputs": [],
   "source": []
  },
  {
   "cell_type": "code",
   "execution_count": null,
   "id": "0d153995",
   "metadata": {},
   "outputs": [],
   "source": []
  },
  {
   "cell_type": "code",
   "execution_count": null,
   "id": "5b4c20e9",
   "metadata": {},
   "outputs": [],
   "source": []
  },
  {
   "cell_type": "code",
   "execution_count": null,
   "id": "58a8b797",
   "metadata": {},
   "outputs": [],
   "source": []
  },
  {
   "cell_type": "code",
   "execution_count": null,
   "id": "0384b51e",
   "metadata": {},
   "outputs": [],
   "source": []
  },
  {
   "cell_type": "code",
   "execution_count": null,
   "id": "f7cc0069",
   "metadata": {},
   "outputs": [],
   "source": []
  },
  {
   "cell_type": "code",
   "execution_count": null,
   "id": "824641f0",
   "metadata": {},
   "outputs": [],
   "source": []
  },
  {
   "cell_type": "code",
   "execution_count": null,
   "id": "b03cb2b9",
   "metadata": {},
   "outputs": [],
   "source": []
  }
 ],
 "metadata": {
  "kernelspec": {
   "display_name": "Python 3 (ipykernel)",
   "language": "python",
   "name": "python3"
  },
  "language_info": {
   "codemirror_mode": {
    "name": "ipython",
    "version": 3
   },
   "file_extension": ".py",
   "mimetype": "text/x-python",
   "name": "python",
   "nbconvert_exporter": "python",
   "pygments_lexer": "ipython3",
   "version": "3.11.0"
  }
 },
 "nbformat": 4,
 "nbformat_minor": 5
}
