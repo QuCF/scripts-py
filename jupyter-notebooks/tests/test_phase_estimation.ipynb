{
 "cells": [
  {
   "cell_type": "code",
   "execution_count": null,
   "metadata": {},
   "outputs": [],
   "source": [
    "%matplotlib widget\n",
    "import numpy as np\n",
    "import matplotlib.pyplot as plt\n",
    "import os\n",
    "print(os.getpid())\n",
    "%cd ../../\n",
    "\n",
    "import pylib.mix as mix\n",
    "import pylib.measurement as mse\n",
    "reload = mix.reload_module\n",
    "\n",
    "path_qucf_ = \"../QuCF/tests/test_phase_estimation/\""
   ]
  },
  {
   "cell_type": "code",
   "execution_count": null,
   "metadata": {},
   "outputs": [],
   "source": []
  },
  {
   "cell_type": "code",
   "execution_count": null,
   "metadata": {},
   "outputs": [],
   "source": [
    "# -----------------------------------------------\n",
    "# --- Helper functions ---\n",
    "# -----------------------------------------------\n",
    "def plot_probabilities_of_meas_phases(om, eigphase_ref):\n",
    "    probs_meas = om.probs_\n",
    "    N_y_points = 1 << int(om.constants_[\"ny\"])\n",
    "    int_ys = np.array(range(N_y_points))\n",
    "\n",
    "    qucf_eig_phases = 2.*np.pi * int_ys / N_y_points\n",
    "\n",
    "    fig = plt.figure()\n",
    "    ax = fig.add_subplot(111)\n",
    "    ax.plot(\n",
    "        qucf_eig_phases, \n",
    "        probs_meas, \n",
    "        color='b', marker=\"o\", linestyle = ':', label = \"outcomes\"\n",
    "    )\n",
    "    ax.axvline(x=eigphase_ref, linestyle = ':', color='r', linewidth = 2, label=\"sought eigenphase\")\n",
    "    plt.xlabel(\"outcome phases\")\n",
    "    plt.title(\"probability distribution of measurement outcomes\")\n",
    "    ax.legend()\n",
    "    plt.grid(True)\n",
    "    plt.show()\n",
    "    return\n",
    "# -----------------------------------------------\n",
    "def get_ref_eigenphase_case_1(om):\n",
    "    th = om.constants_[\"th\"]\n",
    "\n",
    "    A = mix.Ry(th)\n",
    "    eig_vals, eig_vecs = np.linalg.eig(A)\n",
    "\n",
    "    print(\"eigenvectors\")\n",
    "    mix.print_matrix(1j * np.transpose(eig_vecs))\n",
    "    print()\n",
    "\n",
    "    eig_phases = np.angle(eig_vals)\n",
    "    print(\"eigphases: \", eig_phases)\n",
    "    eigphase_ref = eig_phases[0]\n",
    "\n",
    "    return eigphase_ref\n",
    "# -----------------------------------------------\n",
    "def get_ref_eigenphase_case_3(om):\n",
    "    th1 = om.constants_[\"th1_\"]\n",
    "    th2 = om.constants_[\"th2_\"]\n",
    "    th3 = om.constants_[\"th3_\"]\n",
    "\n",
    "    A = np.kron(mix.Rz(th3), np.kron(mix.Rz(th2), mix.Rz(th1)))\n",
    "    eig_vals, eig_vecs = np.linalg.eig(A)\n",
    "\n",
    "    print(\"eigenvectors: \")\n",
    "    mix.print_matrix(np.transpose(eig_vecs))\n",
    "    print()\n",
    "\n",
    "    eig_phases = np.angle(eig_vals)\n",
    "    print(\"eigphases: \")\n",
    "    mix.print_array(eig_phases, n_in_row = 8)\n",
    "\n",
    "    eigphase_ref = 2.*np.pi + eig_phases[-1]\n",
    "    return eigphase_ref\n",
    "# -----------------------------------------------"
   ]
  },
  {
   "cell_type": "code",
   "execution_count": null,
   "metadata": {},
   "outputs": [],
   "source": []
  },
  {
   "cell_type": "code",
   "execution_count": null,
   "metadata": {},
   "outputs": [],
   "source": [
    "# ----------------------------------------------------------------------\n",
    "# --- 1-QUBIT GATE: Read results from the C++ sim. of the PE circuit ---\n",
    "# ----------------------------------------------------------------------\n",
    "reload(mse)\n",
    "\n",
    "om1 = mse.MeasOracle__(True)\n",
    "om1.path_ = path_qucf_\n",
    "om1.pname_ = \"PE1\"\n",
    "om1.open()\n",
    "\n",
    "eigphase_ref1_ = get_ref_eigenphase_case_1(om1)\n",
    "print()\n",
    "plot_probabilities_of_meas_phases(om1, eigphase_ref1_)"
   ]
  },
  {
   "cell_type": "code",
   "execution_count": null,
   "metadata": {},
   "outputs": [],
   "source": []
  },
  {
   "cell_type": "code",
   "execution_count": null,
   "metadata": {},
   "outputs": [],
   "source": [
    "# ----------------------------------------------------------------------\n",
    "# --- 3-QUBIT GATE: Read results from the C++ sim. of the PE circuit ---\n",
    "# ----------------------------------------------------------------------\n",
    "reload(mse)\n",
    "\n",
    "om3 = mse.MeasOracle__()\n",
    "om3.path_ = path_qucf_\n",
    "om3.pname_ = \"PE3\"\n",
    "om3.open()\n",
    "\n",
    "# eigphase_ref3_ = om3.constants_[\"sought_eigphase\"]\n",
    "eigphase_ref3_ = get_ref_eigenphase_case_3(om3)\n",
    "print()\n",
    "plot_probabilities_of_meas_phases(om3, eigphase_ref3_)"
   ]
  },
  {
   "cell_type": "code",
   "execution_count": null,
   "metadata": {},
   "outputs": [],
   "source": []
  }
 ],
 "metadata": {
  "kernelspec": {
   "display_name": "env",
   "language": "python",
   "name": "python3"
  },
  "language_info": {
   "codemirror_mode": {
    "name": "ipython",
    "version": 3
   },
   "file_extension": ".py",
   "mimetype": "text/x-python",
   "name": "python",
   "nbconvert_exporter": "python",
   "pygments_lexer": "ipython3",
   "version": "3.11.0"
  }
 },
 "nbformat": 4,
 "nbformat_minor": 4
}
