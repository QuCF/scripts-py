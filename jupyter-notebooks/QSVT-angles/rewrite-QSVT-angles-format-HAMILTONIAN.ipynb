{
 "cells": [
  {
   "cell_type": "code",
   "execution_count": 1,
   "id": "c6b968f2",
   "metadata": {},
   "outputs": [
    {
     "name": "stdout",
     "output_type": "stream",
     "text": [
      "34044\n",
      "/media/work/docs/codes/QuCF/scripts-py\n"
     ]
    }
   ],
   "source": [
    "from IPython.display import display, HTML\n",
    "import scipy.constants as sc\n",
    "from scipy.optimize import fsolve\n",
    "from ipywidgets import interact, widgets\n",
    "%matplotlib notebook\n",
    "\n",
    "import numpy as np\n",
    "import cmath\n",
    "import matplotlib.pyplot as plt\n",
    "import scipy.constants as sc\n",
    "plt.rcParams.update({\n",
    "    \"text.usetex\": True,\n",
    "    'text.latex.preamble': r\"\\usepackage{amsmath} \\boldmath\"\n",
    "})\n",
    "import os\n",
    "import h5py\n",
    "\n",
    "print(os.getpid())\n",
    "%cd ../../"
   ]
  },
  {
   "cell_type": "code",
   "execution_count": 2,
   "id": "37069d34",
   "metadata": {},
   "outputs": [],
   "source": [
    "import pylib.mix as mix\n",
    "import pylib.qsvt_angles as qsvt_a\n",
    "\n",
    "F_x_gauss = lambda x, param, coef_norm: coef_norm * x * np.exp(-x**2/(2*param**2)) \n",
    "\n",
    "path_root_ = \"/media/work/docs/codes/QuCF/scripts-py/jupyter-notebooks/QSVT-angles/Hamiltonian/\""
   ]
  },
  {
   "cell_type": "code",
   "execution_count": null,
   "id": "498abcfe",
   "metadata": {},
   "outputs": [],
   "source": []
  },
  {
   "cell_type": "code",
   "execution_count": 3,
   "id": "b06e44ef",
   "metadata": {},
   "outputs": [],
   "source": [
    "# *** CHOOSE the .txt file with angles to read ***\n",
    "filename_angels_even = path_root_ + \"/eps12/angles_even_param2000_eps12.angles\"\n",
    "filename_angels_odd  = path_root_ + \"/eps12/angles_odd_param2000_eps12.angles\"\n",
    "\n",
    "final_new_filename = path_root_ + \"/hamiltonian_t2_eps12.hdf5\""
   ]
  },
  {
   "cell_type": "code",
   "execution_count": null,
   "id": "4e2188c9",
   "metadata": {},
   "outputs": [],
   "source": []
  },
  {
   "cell_type": "code",
   "execution_count": 4,
   "id": "e8dfd153",
   "metadata": {},
   "outputs": [
    {
     "name": "stdout",
     "output_type": "stream",
     "text": [
      "read angles from:\n",
      " /media/work/docs/codes/QuCF/scripts-py/jupyter-notebooks/QSVT-angles/Hamiltonian//eps12/angles_even_param2000_eps12.angles\n",
      "read angles from:\n",
      " /media/work/docs/codes/QuCF/scripts-py/jupyter-notebooks/QSVT-angles/Hamiltonian//eps12/angles_odd_param2000_eps12.angles\n",
      "\n",
      "function type: \t\thamiltonian-sim\n",
      "rescaling factor: \t1.000\n",
      "parity: \t\t-1\n",
      "parameter: \t\t2.000e+00\n",
      "error: \t\t\t1.000e-12\n",
      "N-angles-even: \t\t31\n",
      "N-angles-odd: \t\t32\n",
      "\n",
      "write angles to:\n",
      " /media/work/docs/codes/QuCF/scripts-py/jupyter-notebooks/QSVT-angles/Hamiltonian//hamiltonian_t2_eps12.hdf5\n"
     ]
    }
   ],
   "source": [
    "# ---------------------------------------------------------------------\n",
    "# --- Write angles computed in .matlab to an .hdf5 file ---\n",
    "# ---------------------------------------------------------------------\n",
    "function_type_res = \"hamiltonian-sim\"\n",
    "rescaling_factor_res = 1\n",
    "parity_res = -1\n",
    "\n",
    "# --- read the .angles (text) file ---\n",
    "print(\"read angles from:\\n \" + filename_angels_even)\n",
    "with open(filename_angels_even) as f:\n",
    "    param_res = float(f.readline()[:-1]) \n",
    "    eps_res   = float(f.readline()[:-1]) \n",
    "    Na_even   = int(f.readline()[:-1]) \n",
    "    angles_even = np.zeros(Na_even)\n",
    "    for ii in range(Na_even):\n",
    "        angles_even[ii] = float(f.readline())\n",
    "        \n",
    "        \n",
    "print(\"read angles from:\\n \" + filename_angels_odd)\n",
    "with open(filename_angels_odd) as f: \n",
    "    param_res = float(f.readline()[:-1]) \n",
    "    eps_res   = float(f.readline()[:-1]) \n",
    "    Na_odd    = int(f.readline()[:-1]) \n",
    "    angles_odd = np.zeros(Na_odd)\n",
    "    for ii in range(Na_odd):\n",
    "        angles_odd[ii] = float(f.readline())\n",
    "        \n",
    "print()\n",
    "print(\"function type: \\t\\t{:s}\".format(function_type_res))    \n",
    "print(\"rescaling factor: \\t{:0.3f}\".format(rescaling_factor_res))\n",
    "print(\"parity: \\t\\t{:d}\".format(parity_res))\n",
    "print(\"parameter: \\t\\t{:0.3e}\".format(param_res))\n",
    "print(\"error: \\t\\t\\t{:0.3e}\".format(eps_res))\n",
    "print(\"N-angles-even: \\t\\t{:d}\".format(Na_even))\n",
    "print(\"N-angles-odd: \\t\\t{:d}\".format(Na_odd))\n",
    "print()       \n",
    "\n",
    "# --- write the .hdf5 file ---\n",
    "print(\"write angles to:\\n \" + final_new_filename)\n",
    "with h5py.File(final_new_filename, \"w\") as f:\n",
    "    grp = f.create_group(\"basic\")\n",
    "    \n",
    "    grp.create_dataset('polynomial_type',  data=function_type_res)\n",
    "    grp.create_dataset('rescaling_factor', data=rescaling_factor_res)\n",
    "    grp.create_dataset('parity',           data=parity_res)\n",
    "    grp.create_dataset('eps',              data=eps_res)\n",
    "    grp.create_dataset('par',              data=param_res)\n",
    "#     grp.create_dataset('nt',               data=nt)\n",
    "    \n",
    "    grp = f.create_group(\"angles\")\n",
    "    if parity_res == 1:\n",
    "        grp.create_dataset('odd', data=angles_res)\n",
    "    if parity_res == 0:\n",
    "        grp.create_dataset('even', data=angles_res)\n",
    "    if parity_res == -1:\n",
    "        grp.create_dataset('odd',  data = angles_odd)\n",
    "        grp.create_dataset('even', data = angles_even)"
   ]
  },
  {
   "cell_type": "code",
   "execution_count": null,
   "id": "02fc5b10",
   "metadata": {},
   "outputs": [],
   "source": []
  }
 ],
 "metadata": {
  "kernelspec": {
   "display_name": "Python 3 (ipykernel)",
   "language": "python",
   "name": "python3"
  },
  "language_info": {
   "codemirror_mode": {
    "name": "ipython",
    "version": 3
   },
   "file_extension": ".py",
   "mimetype": "text/x-python",
   "name": "python",
   "nbconvert_exporter": "python",
   "pygments_lexer": "ipython3",
   "version": "3.11.0"
  }
 },
 "nbformat": 4,
 "nbformat_minor": 5
}
