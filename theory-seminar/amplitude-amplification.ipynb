{
 "cells": [
  {
   "cell_type": "code",
   "execution_count": 1,
   "metadata": {},
   "outputs": [
    {
     "data": {
      "text/html": [
       "        <script type=\"text/javascript\">\n",
       "        window.PlotlyConfig = {MathJaxConfig: 'local'};\n",
       "        if (window.MathJax) {MathJax.Hub.Config({SVG: {font: \"STIX-Web\"}});}\n",
       "        if (typeof require !== 'undefined') {\n",
       "        require.undef(\"plotly\");\n",
       "        requirejs.config({\n",
       "            paths: {\n",
       "                'plotly': ['https://cdn.plot.ly/plotly-2.9.0.min']\n",
       "            }\n",
       "        });\n",
       "        require(['plotly'], function(Plotly) {\n",
       "            window._Plotly = Plotly;\n",
       "        });\n",
       "        }\n",
       "        </script>\n",
       "        "
      ]
     },
     "metadata": {},
     "output_type": "display_data"
    },
    {
     "name": "stdout",
     "output_type": "stream",
     "text": [
      "/media/work/docs/codes/QuCF/scripts-py\n"
     ]
    }
   ],
   "source": [
    "%matplotlib notebook\n",
    "from plotly.offline import init_notebook_mode\n",
    "init_notebook_mode(connected=True)\n",
    "from IPython.core.display import display, HTML\n",
    "import numpy as np\n",
    "import matplotlib.pyplot as plt\n",
    "\n",
    "import os\n",
    "import qiskit\n",
    "\n",
    "import importlib as imp\n",
    "%cd ../\n",
    "\n",
    "import pylib.circuit_lib as lib"
   ]
  },
  {
   "cell_type": "code",
   "execution_count": 3,
   "metadata": {},
   "outputs": [],
   "source": []
  },
  {
   "cell_type": "code",
   "execution_count": 9,
   "metadata": {},
   "outputs": [
    {
     "name": "stdout",
     "output_type": "stream",
     "text": [
      "   ┌─────────────┐\n",
      "a: ┤ Ry(0.40272) ├\n",
      "   └─────────────┘\n",
      "        0.980+0.000j |0>   \n",
      "        0.200+0.000j |1>   \n",
      "\n",
      "prob. of GS: 4.000e-02\n",
      "prob. of BS: 9.600e-01\n",
      "BS + GS: 1.000e+00\n",
      "optimal number of amplification operators:  3.9005079130473574\n"
     ]
    },
    {
     "data": {
      "text/plain": [
       "(0.04000000000000001, 0.9600080400000001)"
      ]
     },
     "execution_count": 9,
     "metadata": {},
     "output_type": "execute_result"
    }
   ],
   "source": [
    "# -------------------------------------------\n",
    "# --- Create initial circuit (operator A) ---\n",
    "# -------------------------------------------\n",
    "a = qiskit.QuantumRegister(1, \"a\")\n",
    "qc = qiskit.QuantumCircuit(a,name=\"A\")\n",
    "\n",
    "coef_v = 0.2\n",
    "qc.ry(2*np.arcsin(coef_v), a)\n",
    "\n",
    "# # set |1> as a good state:\n",
    "# qc.x(a)\n",
    "\n",
    "# store the circuit as a gate:\n",
    "gA = qc.to_gate()\n",
    "\n",
    "print(qc.draw(fold = 110))\n",
    "\n",
    "str_wv, pp, qq = lib.Wavefunction_adv(qc, column=True, systems=[1], width=10)\n",
    "print(str_wv)\n",
    "lib.analysis_prob(pp, qq)"
   ]
  },
  {
   "cell_type": "code",
   "execution_count": null,
   "metadata": {},
   "outputs": [],
   "source": []
  },
  {
   "cell_type": "code",
   "execution_count": 10,
   "metadata": {},
   "outputs": [
    {
     "name": "stdout",
     "output_type": "stream",
     "text": [
      "   ┌───┐┌──────┐┌───┐┌───┐┌───┐┌───┐\n",
      "a: ┤ Z ├┤ A_dg ├┤ X ├┤ Z ├┤ X ├┤ A ├\n",
      "   └───┘└──────┘└───┘└───┘└───┘└───┘\n"
     ]
    }
   ],
   "source": [
    "# -----------------------------------------\n",
    "# --- Amplitude amplification circuit ---\n",
    "# -----------------------------------------\n",
    "\n",
    "# Q = - A R_0 A^{-1} R_good;\n",
    "# |good> = |1>\n",
    "\n",
    "a = qiskit.QuantumRegister(1, \"a\")\n",
    "\n",
    "qc = qiskit.QuantumCircuit(a,name=\"AA\")\n",
    "\n",
    "# sign change of good state (state |1>)\n",
    "qc.z(a)\n",
    "\n",
    "# inverse creation gate\n",
    "gAi = gA.inverse()\n",
    "qc.append(gAi, a)\n",
    "\n",
    "# sign change of zero state \n",
    "qc.x(a)\n",
    "qc.z(a)\n",
    "qc.x(a)\n",
    "\n",
    "# the creation gate again:\n",
    "qc.append(gA, a)\n",
    "\n",
    "print(qc.draw())\n",
    "\n",
    "gAA = qc.to_gate()"
   ]
  },
  {
   "cell_type": "code",
   "execution_count": null,
   "metadata": {},
   "outputs": [],
   "source": []
  },
  {
   "cell_type": "code",
   "execution_count": 12,
   "metadata": {
    "scrolled": false
   },
   "outputs": [
    {
     "name": "stdout",
     "output_type": "stream",
     "text": [
      "--- before amplification ---\n",
      "   ┌───┐\n",
      "a: ┤ A ├\n",
      "   └───┘\n",
      "        0.980+0.000j |0>   \n",
      "        0.200+0.000j |1>   \n",
      "\n",
      "prob. of GS: 4.000e-02\n",
      "prob. of BS: 9.600e-01\n",
      "BS + GS: 1.000e+00\n",
      "optimal number of amplification operators:  3.9005079130473574\n",
      "\n",
      "\n",
      "--- after the 1-st amplification ---\n",
      "   ┌───┐┌────┐\n",
      "a: ┤ A ├┤ AA ├\n",
      "   └───┘└────┘\n",
      "       -0.823+0.000j |0>   \n",
      "       -0.568+0.000j |1>   \n",
      "\n",
      "prob. of GS: 3.226e-01\n",
      "prob. of BS: 6.774e-01\n",
      "BS + GS: 1.000e+00\n",
      "optimal number of amplification operators:  1.3001693043491194\n",
      "\n",
      "\n",
      "--- after the 2-nd amplification ---\n",
      "   ┌───┐┌────┐┌────┐\n",
      "a: ┤ A ├┤ AA ├┤ AA ├\n",
      "   └───┘└────┘└────┘\n",
      "        0.535+0.000j |0>   \n",
      "        0.845+0.000j |1>   \n",
      "\n",
      "prob. of GS: 7.142e-01\n",
      "prob. of BS: 2.858e-01\n",
      "BS + GS: 1.000e+00\n",
      "optimal number of amplification operators:  0.7801015826094715\n",
      "\n",
      "\n",
      "--- after the 3-rd amplification ---\n",
      "   ┌───┐┌────┐┌────┐┌────┐\n",
      "a: ┤ A ├┤ AA ├┤ AA ├┤ AA ├\n",
      "   └───┘└────┘└────┘└────┘\n",
      "       -0.161+0.000j |0>   \n",
      "       -0.987+0.000j |1>   \n",
      "\n",
      "prob. of GS: 9.742e-01\n",
      "prob. of BS: 2.579e-02\n",
      "BS + GS: 1.000e+00\n",
      "optimal number of amplification operators:  0.5572173854686172\n",
      "\n",
      "\n",
      "--- after the 4-th amplification ---\n",
      "   ┌───┐┌────┐┌────┐┌────┐┌────┐\n",
      "a: ┤ A ├┤ AA ├┤ AA ├┤ AA ├┤ AA ├\n",
      "   └───┘└────┘└────┘└────┘└────┘\n",
      "       -0.239+0.000j |0>   \n",
      "        0.971+0.000j |1>   \n",
      "\n",
      "prob. of GS: 9.428e-01\n",
      "prob. of BS: 5.716e-02\n",
      "BS + GS: 1.000e+00\n",
      "optimal number of amplification operators:  0.5908009703839017\n",
      "\n",
      "\n",
      "--- after the 5-th amplification ---\n",
      "   ┌───┐┌────┐┌────┐┌────┐┌────┐┌────┐\n",
      "a: ┤ A ├┤ AA ├┤ AA ├┤ AA ├┤ AA ├┤ AA ├\n",
      "   └───┘└────┘└────┘└────┘└────┘└────┘\n",
      "        0.601+0.000j |0>   \n",
      "       -0.800+0.000j |1>   \n",
      "\n",
      "prob. of GS: 6.394e-01\n",
      "prob. of BS: 3.606e-01\n",
      "BS + GS: 1.000e+00\n",
      "optimal number of amplification operators:  0.8475561043096345\n",
      "\n",
      "\n",
      "--- after the 6-th amplification ---\n",
      "   ┌───┐┌────┐┌────┐┌────┐┌────┐┌────┐┌────┐\n",
      "a: ┤ A ├┤ AA ├┤ AA ├┤ AA ├┤ AA ├┤ AA ├┤ AA ├\n",
      "   └───┘└────┘└────┘└────┘└────┘└────┘└────┘\n",
      "       -0.866+0.000j |0>   \n",
      "        0.500+0.000j |1>   \n",
      "\n",
      "prob. of GS: 2.503e-01\n",
      "prob. of BS: 7.497e-01\n",
      "BS + GS: 1.000e+00\n",
      "optimal number of amplification operators:  1.499008164967751\n"
     ]
    },
    {
     "data": {
      "text/plain": [
       "(0.25030009, 0.7496962225)"
      ]
     },
     "execution_count": 12,
     "metadata": {},
     "output_type": "execute_result"
    }
   ],
   "source": [
    "# ---------------------------------------\n",
    "# --- The whole circuit ---\n",
    "# ---------------------------------------\n",
    "a = qiskit.QuantumRegister(1, \"a\")\n",
    "\n",
    "qc = qiskit.QuantumCircuit(a,name=\"AA\")\n",
    "qc.append(gA, a)\n",
    "\n",
    "print(\"--- before amplification ---\")\n",
    "print(qc.draw(fold = 110))\n",
    "str_wv, pp, qq = lib.Wavefunction_adv(qc, column=True, systems=[1], width=10)\n",
    "print(str_wv)\n",
    "lib.analysis_prob(pp, qq)\n",
    "\n",
    "# # -------------------------------------------------------------------------------\n",
    "# # --- Several amplifications at one ---\n",
    "# na = 8 # number of amplitifications\n",
    "\n",
    "# print(\"\\n\\n--- after the {:d}-th amplifications ---\".format(na))\n",
    "# for ii in range(na):\n",
    "#     qc.append(gAA, a)\n",
    "# print(qc.draw(fold = 110))\n",
    "# str_wv, pp, qq = lib.Wavefunction_adv(qc, column=True, systems=[1], width=10)\n",
    "# print(str_wv)\n",
    "# lib.analysis_prob(pp, qq)\n",
    "\n",
    "\n",
    "# -------------------------------------------------------------------------------\n",
    "# --- Amplificaitions: one by one ---\n",
    "print(\"\\n\\n--- after the 1-st amplification ---\")\n",
    "qc.append(gAA, a)\n",
    "print(qc.draw(fold = 110))\n",
    "str_wv, pp, qq = lib.Wavefunction_adv(qc, column=True, systems=[1], width=10)\n",
    "print(str_wv)\n",
    "lib.analysis_prob(pp, qq)\n",
    "\n",
    "print(\"\\n\\n--- after the 2-nd amplification ---\")\n",
    "qc.append(gAA, a)\n",
    "print(qc.draw(fold = 110))\n",
    "str_wv, pp, qq = lib.Wavefunction_adv(qc, column=True, systems=[1], width=10)\n",
    "print(str_wv)\n",
    "lib.analysis_prob(pp, qq)\n",
    "\n",
    "print(\"\\n\\n--- after the 3-rd amplification ---\")\n",
    "qc.append(gAA, a)\n",
    "print(qc.draw(fold = 110))\n",
    "str_wv, pp, qq = lib.Wavefunction_adv(qc, column=True, systems=[1], width=10)\n",
    "print(str_wv)\n",
    "lib.analysis_prob(pp, qq)\n",
    "\n",
    "print(\"\\n\\n--- after the 4-th amplification ---\")\n",
    "qc.append(gAA, a)\n",
    "print(qc.draw(fold = 110))\n",
    "str_wv, pp, qq = lib.Wavefunction_adv(qc, column=True, systems=[1], width=10)\n",
    "print(str_wv)\n",
    "lib.analysis_prob(pp, qq)\n",
    "\n",
    "print(\"\\n\\n--- after the 5-th amplification ---\")\n",
    "qc.append(gAA, a)\n",
    "print(qc.draw(fold = 110))\n",
    "str_wv, pp, qq = lib.Wavefunction_adv(qc, column=True, systems=[1], width=10)\n",
    "print(str_wv)\n",
    "lib.analysis_prob(pp, qq)\n",
    "\n",
    "print(\"\\n\\n--- after the 6-th amplification ---\")\n",
    "qc.append(gAA, a)\n",
    "print(qc.draw(fold = 110))\n",
    "str_wv, pp, qq = lib.Wavefunction_adv(qc, column=True, systems=[1], width=10)\n",
    "print(str_wv)\n",
    "lib.analysis_prob(pp, qq)"
   ]
  },
  {
   "cell_type": "code",
   "execution_count": null,
   "metadata": {},
   "outputs": [],
   "source": []
  }
 ],
 "metadata": {
  "kernelspec": {
   "display_name": "Python 3",
   "language": "python",
   "name": "python3"
  },
  "language_info": {
   "codemirror_mode": {
    "name": "ipython",
    "version": 3
   },
   "file_extension": ".py",
   "mimetype": "text/x-python",
   "name": "python",
   "nbconvert_exporter": "python",
   "pygments_lexer": "ipython3",
   "version": "3.6.9"
  }
 },
 "nbformat": 4,
 "nbformat_minor": 4
}
