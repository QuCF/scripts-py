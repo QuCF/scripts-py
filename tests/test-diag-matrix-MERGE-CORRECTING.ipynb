{
 "cells": [
  {
   "cell_type": "code",
   "execution_count": 1,
   "id": "17d744b5",
   "metadata": {},
   "outputs": [
    {
     "name": "stdout",
     "output_type": "stream",
     "text": [
      "12107\n",
      "/media/work/docs/codes/QuCF/scripts-py\n"
     ]
    }
   ],
   "source": [
    "from IPython.display import display, HTML\n",
    "import scipy.constants as sc\n",
    "from scipy.optimize import fsolve\n",
    "from ipywidgets import interact, widgets\n",
    "%matplotlib notebook\n",
    "\n",
    "import numpy as np\n",
    "import cmath\n",
    "import matplotlib.pyplot as plt\n",
    "import scipy.constants as sc\n",
    "plt.rcParams.update({\n",
    "    \"text.usetex\": True,\n",
    "    'text.latex.preamble': r\"\\usepackage{amsmath} \\boldmath\"\n",
    "})\n",
    "import os\n",
    "import h5py\n",
    "\n",
    "print(os.getpid())\n",
    "%cd ../"
   ]
  },
  {
   "cell_type": "code",
   "execution_count": null,
   "id": "0487ac22",
   "metadata": {},
   "outputs": [],
   "source": []
  },
  {
   "cell_type": "code",
   "execution_count": 2,
   "id": "ff8f9f4d",
   "metadata": {},
   "outputs": [
    {
     "data": {
      "text/html": [
       "<style>.container { width:100% !important; }</style>"
      ],
      "text/plain": [
       "<IPython.core.display.HTML object>"
      ]
     },
     "metadata": {},
     "output_type": "display_data"
    }
   ],
   "source": [
    "# --- Launch to change cells' width ---\n",
    "from IPython.display import display, HTML\n",
    "display(HTML(\"<style>.container { width:100% !important; }</style>\"))"
   ]
  },
  {
   "cell_type": "code",
   "execution_count": null,
   "id": "6865ef4f",
   "metadata": {},
   "outputs": [],
   "source": []
  },
  {
   "cell_type": "code",
   "execution_count": 3,
   "id": "091547cd",
   "metadata": {},
   "outputs": [],
   "source": [
    "import subprocess\n",
    "import pylib.mix as mix\n",
    "import pylib.qucf_read as qucf_r\n",
    "import pylib.qucf_oracle as qucf_o\n",
    "path_ = \"/media/work/docs/codes/QuCF/simulations/tests/test-diag-matrix-MERGE-CORRECTING/\"\n",
    "oracle_name = \"diag-matrix\"\n",
    "file_name_oracle_ = \"circuit_OH\""
   ]
  },
  {
   "cell_type": "code",
   "execution_count": null,
   "id": "c2625695",
   "metadata": {},
   "outputs": [],
   "source": []
  },
  {
   "cell_type": "code",
   "execution_count": 4,
   "id": "70b25303",
   "metadata": {},
   "outputs": [],
   "source": [
    "# ---------------------------------------------------------------\n",
    "# --- Read the matrix ---\n",
    "# ---------------------------------------------------------------\n",
    "mix.reload_module(qucf_r)\n",
    "\n",
    "nr = 4\n",
    "N = 1 << nr\n",
    "D = np.identity(N)"
   ]
  },
  {
   "cell_type": "code",
   "execution_count": null,
   "id": "2c5d9759",
   "metadata": {},
   "outputs": [],
   "source": []
  },
  {
   "cell_type": "code",
   "execution_count": 41,
   "id": "b57cafe1",
   "metadata": {},
   "outputs": [
    {
     "name": "stdout",
     "output_type": "stream",
     "text": [
      "amin.(excl. zero) value in D: \t\t1.000e+00\n",
      "amax. value in A: \t\t\t5.283e-01\n",
      "amin.(excl. zero) value in A: \t\t9.643e-03\n",
      "\n",
      "amax. value in A-norm: \t\t\t5.283e-01\n",
      "amin. (excl. zero)  value in A-norm: \t9.643e-03\n",
      "Adding a register 'ar'...\n",
      "Adding a register 'r'...\n"
     ]
    }
   ],
   "source": [
    "# --------------------------------------------------------------\n",
    "# --- Chose the case ---\n",
    "# --------------------------------------------------------------\n",
    "mix.reload_module(mix)\n",
    "mix.reload_module(qucf_o)\n",
    "A = np.zeros((N,N), dtype=complex)\n",
    "\n",
    "# a = 1.\n",
    "# b = 2.j\n",
    "# c = 3.+ 6.j\n",
    "# d = 4. + 8.j\n",
    "\n",
    "# a =  6.868e-01\n",
    "# b = 0.000e+00+1.742e-01j\n",
    "# c = 6.657e-01+2.766e-01j\n",
    "# d = 3.839e-01+8.899e-01j\n",
    "\n",
    "# a = 4.100e-02+8.477e-01j\n",
    "# b = 6.547e-01+9.038e-01j\n",
    "# c = 1.351e-01+7.960e-01j\n",
    "# d = 7.140e-01+6.091e-01j\n",
    "\n",
    "# a = np.random.rand(1)[0]\n",
    "# b = 1j * np.random.rand(1)[0]\n",
    "# c, d = np.random.rand(2) + 1j * np.random.rand(2)\n",
    "\n",
    "# a, b, c, d = np.random.rand(4)\n",
    "\n",
    "# a, b, c, d = np.random.rand(4) * 1j\n",
    "\n",
    "# a, b, c, d = np.random.rand(4) + np.random.rand(4) * 1j\n",
    "\n",
    "# print()\n",
    "# print(\"a = {:10.3e}\".format(a))\n",
    "# print(\"b = {:10.3e}\".format(b))\n",
    "# print(\"c = {:10.3e}\".format(c))\n",
    "# print(\"d = {:10.3e}\".format(d))\n",
    "\n",
    "\n",
    "# # Option 1:\n",
    "# A[0,0] = a\n",
    "# A[1,1] = A[2,2] = b\n",
    "# for ii in range(3, 13):\n",
    "#     A[ii, ii] = c\n",
    "# A[13,13] = d\n",
    "# A[14,14] = A[15,15] = c\n",
    "\n",
    "# # Option 2:\n",
    "# A[0,0] = A[1,1] = a\n",
    "# A[2,2] = b\n",
    "# for ii in range(3, 13):\n",
    "#     A[ii, ii] = a\n",
    "# A[13,13] = A[14,14] = A[15,15] = b\n",
    "\n",
    "\n",
    "# Option 3: random matrix:\n",
    "i_end = 0\n",
    "while i_end < N:\n",
    "    i_start = i_end\n",
    "    if i_start == N-1:\n",
    "        i_end = N\n",
    "    else:\n",
    "        i_end = np.random.randint(i_start+1, N)\n",
    "    \n",
    "    i_chose = np.random.randint(3)\n",
    "    if i_chose == 0:\n",
    "        v1 = np.random.rand(1)[0]\n",
    "    if i_chose == 1:\n",
    "        v1 = np.random.rand(1)[0]*1j\n",
    "    if i_chose == 2:\n",
    "        v1 = np.random.rand(1)[0] + np.random.rand(1)[0]*1j\n",
    "    for ii in range(i_start, i_end):\n",
    "        A[ii, ii] = v1\n",
    "del i_end, i_start, v1\n",
    "\n",
    "\n",
    "# ---\n",
    "B = qucf_o.normalize_matrix_A(A, D)\n",
    "\n",
    "# Define the circuit structure (problem-specific part):\n",
    "oo_circ = qucf_o.Circuit__()\n",
    "anc = qucf_o.Regs__()\n",
    "inp = qucf_o.Regs__()\n",
    "anc.add_reg(\"ar\", 1, True)\n",
    "inp.add_reg(\"r\",  nr, False)\n",
    "oo_circ.set_regs(inp, anc)\n",
    "oo_circ.compute_N_registers()"
   ]
  },
  {
   "cell_type": "code",
   "execution_count": null,
   "id": "edcbd20e",
   "metadata": {},
   "outputs": [],
   "source": []
  },
  {
   "cell_type": "code",
   "execution_count": 42,
   "id": "523b45b8",
   "metadata": {},
   "outputs": [
    {
     "name": "stdout",
     "output_type": "stream",
     "text": [
      "--- Reconstruction using original groups ---\n",
      "Matrix size: 16\n",
      "Max. abs. diff-real: 0.000e+00\n",
      "Max. abs. diff-imag: 0.000e+00\n",
      "N = 16\n",
      "Number of groups: 3\n",
      "\n",
      "--- After the merging ---\n",
      "N = 16\n",
      "Number of groups: 3\n",
      "\n",
      "--- After adding the correcting groups ---\n",
      "N = 16\n",
      "Number of groups: 6\n",
      "\n",
      "--- Reconstruction using corrected groups ---\n",
      "Matrix size: 16\n",
      "Max. abs. diff-real: 2.717e-13\n",
      "Max. abs. diff-imag: 1.507e-13\n",
      "N = 16\n",
      "Number of groups: 6\n",
      "\n",
      "--- Circuit construction ---\n",
      "N-input-registers = 1 with [4] qubits\n",
      "N-ancilla-registers = 1 with [1] qubits\n",
      "Total number of input qubits: 4\n",
      "Matrix size that can be encoded: 16\n",
      "N-gates: 10\n",
      "N-gates (assuming Rc as a single gate): 5\n"
     ]
    }
   ],
   "source": [
    "# -----------------------------------------------\n",
    "# --- Computation of oracle angles ---\n",
    "# -----------------------------------------------\n",
    "mix.reload_module(mix)\n",
    "mix.reload_module(qucf_o)\n",
    "\n",
    "# Rearrange angles:\n",
    "grid_sections = qucf_o.create_grid_of_sections(oo_circ, B)\n",
    "\n",
    "# -- Create sections of sets (sets = groups):\n",
    "sys_gates_ = qucf_o.SystemGates__(\n",
    "    oo_circ, \n",
    "    qucf_o.create_groups(oo_circ, grid_sections)            # Option 1\n",
    "#     qucf_o.create_groups_neighbor(oo_circ, grid_sections)   # Option 2\n",
    ")\n",
    "\n",
    "# Recreate the matrix using the ORIGINAL groups\n",
    "print(\"--- Reconstruction using original groups ---\")\n",
    "qucf_o.compare_matrices(oo_circ, sys_gates_.reconstruct_matrix_using_GROUPS(), B)\n",
    "sys_gates_.count_groups()\n",
    "\n",
    "# # split groups:\n",
    "# sys_gates_.n_split_ = 1\n",
    "# sys_gates_.split_groups()\n",
    "\n",
    "# Sort groups:\n",
    "sys_gates_.sort_groups()\n",
    "\n",
    "# Extend the gates:\n",
    "sys_gates_.set_rows_limit_for_non_extension(1)\n",
    "sys_gates_.extend_sorted_groups(B)\n",
    "\n",
    "# merge groups:\n",
    "sys_gates_.merge_groups()\n",
    "print(\"--- After the merging ---\")\n",
    "sys_gates_.count_groups()\n",
    "\n",
    "# preliminary correction (optional):\n",
    "sys_gates_.correct_close_groups()\n",
    "\n",
    "# add correcting groups:\n",
    "sys_gates_.correct_groups(B)\n",
    "print(\"--- After adding the correcting groups ---\")\n",
    "sys_gates_.count_groups()\n",
    "\n",
    "# Recreate the matrix using the CORRECTED groups\n",
    "print(\"--- Reconstruction using corrected groups ---\")\n",
    "qucf_o.compare_matrices(oo_circ, sys_gates_.reconstruct_matrix_using_GRID(), B)\n",
    "sys_gates_.count_groups()\n",
    "\n",
    "# Construct the circuit:\n",
    "print(\"--- Circuit construction ---\")\n",
    "sys_gates_.construct_circuit_OH(path_, file_name_oracle_)"
   ]
  },
  {
   "cell_type": "code",
   "execution_count": null,
   "id": "ed57810a",
   "metadata": {},
   "outputs": [],
   "source": []
  },
  {
   "cell_type": "code",
   "execution_count": 43,
   "id": "dbdf4b1d",
   "metadata": {},
   "outputs": [
    {
     "name": "stdout",
     "output_type": "stream",
     "text": [
      "Reading the matrix from: diag-matrix_OUTPUT.hdf5\n",
      "from the path: /media/work/docs/codes/QuCF/simulations/tests/test-diag-matrix-MERGE-CORRECTING/\n",
      "date of the simulation:  07-28-2023 16:52:08\n",
      "matrix name:  U_BE\n",
      "N = 16\n",
      "Max. abs. diff-real: 4.669e-12\n",
      "Max. abs. diff-imag: 2.808e-13\n"
     ]
    }
   ],
   "source": [
    "# ----------------------------------------------------------------------------------------------------\n",
    "# --- Compute the circuit and compare the matrix constructed by the oracle with the original matrix ---\n",
    "# -----------------------------------------------------------------------------------------------------\n",
    "mix.reload_module(qucf_r)\n",
    "mix.reload_module(qucf_o)\n",
    "\n",
    "dd_res = qucf_r.read_matrix(path_, oracle_name + \"_OUTPUT.hdf5\") \n",
    "qucf_o.compare_matrices(oo_circ, dd_res[\"A\"], B)"
   ]
  },
  {
   "cell_type": "code",
   "execution_count": null,
   "id": "c942298c",
   "metadata": {},
   "outputs": [],
   "source": []
  },
  {
   "cell_type": "code",
   "execution_count": null,
   "id": "35892c68",
   "metadata": {},
   "outputs": [],
   "source": []
  },
  {
   "cell_type": "code",
   "execution_count": null,
   "id": "40f5b454",
   "metadata": {},
   "outputs": [],
   "source": []
  },
  {
   "cell_type": "code",
   "execution_count": null,
   "id": "88e915b7",
   "metadata": {},
   "outputs": [],
   "source": []
  },
  {
   "cell_type": "code",
   "execution_count": null,
   "id": "ba01acf9",
   "metadata": {},
   "outputs": [],
   "source": []
  },
  {
   "cell_type": "code",
   "execution_count": null,
   "id": "33f270b6",
   "metadata": {},
   "outputs": [],
   "source": []
  },
  {
   "cell_type": "code",
   "execution_count": 18,
   "id": "68ff0627",
   "metadata": {},
   "outputs": [],
   "source": [
    "# ---------------------------------------------------------------\n",
    "# --- Function to print matrix subblocks ---\n",
    "# ---------------------------------------------------------------\n",
    "mix.reload_module(mix)\n",
    "def print_submatrix(B, flag_imag = False):\n",
    "    N = B.shape[0]\n",
    "\n",
    "    \n",
    "    print(\"\\n\")\n",
    "    print(\"****** N: {:d} *************************************\".format(N))\n",
    "    \n",
    "    max_val = np.max(np.max(np.abs(B)))\n",
    "    print(\"max|A|: {:0.3e}\".format(max_val))\n",
    "    \n",
    "    min_val = np.min(np.min(np.abs(B[np.nonzero(B)])))\n",
    "    print(\"min|A|: {:0.3e}\".format(min_val))\n",
    "    \n",
    "    # --------------------------------------------------\n",
    "    Nr_print, Nc_print = N, N\n",
    "    ir_start, ic_start = 0, 0\n",
    "    \n",
    "    B_plot = np.imag(B) if flag_imag else np.real(B)\n",
    "    line_desr = \"Imag part\" if flag_imag else \"Real part\"\n",
    "\n",
    "\n",
    "    print(\"-------------------------- {:s} -----------------------------------------\".format(line_desr))\n",
    "    mix.print_subblock_colored(\n",
    "        B_plot, \n",
    "        ir_start, ic_start,\n",
    "        Nr_print, Nc_print,\n",
    "        ff=[6, 3, \"f\"], \n",
    "        n_in_row = Nc_print, \n",
    "        gap_be = \" \", \n",
    "    )"
   ]
  },
  {
   "cell_type": "code",
   "execution_count": null,
   "id": "0ad3c553",
   "metadata": {},
   "outputs": [],
   "source": []
  },
  {
   "cell_type": "code",
   "execution_count": 19,
   "id": "ae2641ac",
   "metadata": {},
   "outputs": [
    {
     "name": "stdout",
     "output_type": "stream",
     "text": [
      "\n",
      "\n",
      "****** N: 16 *************************************\n",
      "max|A|: 1.000e+00\n",
      "min|A|: 5.000e-01\n",
      "-------------------------- Real part -----------------------------------------\n",
      "--- 0:  \u001b[5m\u001b[7m\u001b[31m 0.500\u001b[0m  0.000  0.000  0.000  0.000  0.000  0.000  0.000  0.000  0.000  0.000  0.000  0.000  0.000  0.000  0.000\n",
      "--- 1:   0.000 \u001b[5m\u001b[7m\u001b[31m 0.500\u001b[0m  0.000  0.000  0.000  0.000  0.000  0.000  0.000  0.000  0.000  0.000  0.000  0.000  0.000  0.000\n",
      "--- 2:   0.000  0.000  0.000  0.000  0.000  0.000  0.000  0.000  0.000  0.000  0.000  0.000  0.000  0.000  0.000  0.000\n",
      "--- 3:   0.000  0.000  0.000 \u001b[5m\u001b[7m\u001b[31m 0.500\u001b[0m  0.000  0.000  0.000  0.000  0.000  0.000  0.000  0.000  0.000  0.000  0.000  0.000\n",
      "--- 4:   0.000  0.000  0.000  0.000 \u001b[5m\u001b[7m\u001b[31m 0.500\u001b[0m  0.000  0.000  0.000  0.000  0.000  0.000  0.000  0.000  0.000  0.000  0.000\n",
      "--- 5:   0.000  0.000  0.000  0.000  0.000 \u001b[5m\u001b[7m\u001b[31m 0.500\u001b[0m  0.000  0.000  0.000  0.000  0.000  0.000  0.000  0.000  0.000  0.000\n",
      "--- 6:   0.000  0.000  0.000  0.000  0.000  0.000 \u001b[5m\u001b[7m\u001b[31m 0.500\u001b[0m  0.000  0.000  0.000  0.000  0.000  0.000  0.000  0.000  0.000\n",
      "--- 7:   0.000  0.000  0.000  0.000  0.000  0.000  0.000 \u001b[5m\u001b[7m\u001b[31m 0.500\u001b[0m  0.000  0.000  0.000  0.000  0.000  0.000  0.000  0.000\n",
      "--- 8:   0.000  0.000  0.000  0.000  0.000  0.000  0.000  0.000 \u001b[5m\u001b[7m\u001b[31m 0.500\u001b[0m  0.000  0.000  0.000  0.000  0.000  0.000  0.000\n",
      "--- 9:   0.000  0.000  0.000  0.000  0.000  0.000  0.000  0.000  0.000 \u001b[5m\u001b[7m\u001b[31m 0.500\u001b[0m  0.000  0.000  0.000  0.000  0.000  0.000\n",
      "--- 10:  0.000  0.000  0.000  0.000  0.000  0.000  0.000  0.000  0.000  0.000 \u001b[5m\u001b[7m\u001b[31m 0.500\u001b[0m  0.000  0.000  0.000  0.000  0.000\n",
      "--- 11:  0.000  0.000  0.000  0.000  0.000  0.000  0.000  0.000  0.000  0.000  0.000 \u001b[5m\u001b[7m\u001b[31m 0.500\u001b[0m  0.000  0.000  0.000  0.000\n",
      "--- 12:  0.000  0.000  0.000  0.000  0.000  0.000  0.000  0.000  0.000  0.000  0.000  0.000 \u001b[5m\u001b[7m\u001b[31m 0.500\u001b[0m  0.000  0.000  0.000\n",
      "--- 13:  0.000  0.000  0.000  0.000  0.000  0.000  0.000  0.000  0.000  0.000  0.000  0.000  0.000  0.000  0.000  0.000\n",
      "--- 14:  0.000  0.000  0.000  0.000  0.000  0.000  0.000  0.000  0.000  0.000  0.000  0.000  0.000  0.000  0.000  0.000\n",
      "--- 15:  0.000  0.000  0.000  0.000  0.000  0.000  0.000  0.000  0.000  0.000  0.000  0.000  0.000  0.000  0.000  0.000\n",
      "\n",
      "\n",
      "****** N: 16 *************************************\n",
      "max|A|: 1.000e+00\n",
      "min|A|: 5.000e-01\n",
      "-------------------------- Imag part -----------------------------------------\n",
      "--- 0:   0.000  0.000  0.000  0.000  0.000  0.000  0.000  0.000  0.000  0.000  0.000  0.000  0.000  0.000  0.000  0.000\n",
      "--- 1:   0.000  0.000  0.000  0.000  0.000  0.000  0.000  0.000  0.000  0.000  0.000  0.000  0.000  0.000  0.000  0.000\n",
      "--- 2:   0.000  0.000 \u001b[5m\u001b[7m\u001b[31m 1.000\u001b[0m  0.000  0.000  0.000  0.000  0.000  0.000  0.000  0.000  0.000  0.000  0.000  0.000  0.000\n",
      "--- 3:   0.000  0.000  0.000  0.000  0.000  0.000  0.000  0.000  0.000  0.000  0.000  0.000  0.000  0.000  0.000  0.000\n",
      "--- 4:   0.000  0.000  0.000  0.000  0.000  0.000  0.000  0.000  0.000  0.000  0.000  0.000  0.000  0.000  0.000  0.000\n",
      "--- 5:   0.000  0.000  0.000  0.000  0.000  0.000  0.000  0.000  0.000  0.000  0.000  0.000  0.000  0.000  0.000  0.000\n",
      "--- 6:   0.000  0.000  0.000  0.000  0.000  0.000  0.000  0.000  0.000  0.000  0.000  0.000  0.000  0.000  0.000  0.000\n",
      "--- 7:   0.000  0.000  0.000  0.000  0.000  0.000  0.000  0.000  0.000  0.000  0.000  0.000  0.000  0.000  0.000  0.000\n",
      "--- 8:   0.000  0.000  0.000  0.000  0.000  0.000  0.000  0.000  0.000  0.000  0.000  0.000  0.000  0.000  0.000  0.000\n",
      "--- 9:   0.000  0.000  0.000  0.000  0.000  0.000  0.000  0.000  0.000  0.000  0.000  0.000  0.000  0.000  0.000  0.000\n",
      "--- 10:  0.000  0.000  0.000  0.000  0.000  0.000  0.000  0.000  0.000  0.000  0.000  0.000  0.000  0.000  0.000  0.000\n",
      "--- 11:  0.000  0.000  0.000  0.000  0.000  0.000  0.000  0.000  0.000  0.000  0.000  0.000  0.000  0.000  0.000  0.000\n",
      "--- 12:  0.000  0.000  0.000  0.000  0.000  0.000  0.000  0.000  0.000  0.000  0.000  0.000  0.000  0.000  0.000  0.000\n",
      "--- 13:  0.000  0.000  0.000  0.000  0.000  0.000  0.000  0.000  0.000  0.000  0.000  0.000  0.000 \u001b[5m\u001b[7m\u001b[31m 1.000\u001b[0m  0.000  0.000\n",
      "--- 14:  0.000  0.000  0.000  0.000  0.000  0.000  0.000  0.000  0.000  0.000  0.000  0.000  0.000  0.000 \u001b[5m\u001b[7m\u001b[31m 1.000\u001b[0m  0.000\n",
      "--- 15:  0.000  0.000  0.000  0.000  0.000  0.000  0.000  0.000  0.000  0.000  0.000  0.000  0.000  0.000  0.000 \u001b[5m\u001b[7m\u001b[31m 1.000\u001b[0m\n"
     ]
    }
   ],
   "source": [
    "# ------------------------------------------\n",
    "# --- Print matrix B = A_norm/D  ---\n",
    "# ------------------------------------------\n",
    "print_submatrix(B, False) \n",
    "print_submatrix(B, True) \n",
    "\n",
    "# print_submatrix(dd_res[\"A-real\"], False) \n",
    "# print_submatrix(dd_res[\"A-imag\"], False) "
   ]
  },
  {
   "cell_type": "code",
   "execution_count": null,
   "id": "69cd6d7e",
   "metadata": {},
   "outputs": [],
   "source": []
  },
  {
   "cell_type": "code",
   "execution_count": 24,
   "id": "d980c55d",
   "metadata": {},
   "outputs": [
    {
     "name": "stdout",
     "output_type": "stream",
     "text": [
      "3.462e-01\n"
     ]
    }
   ],
   "source": [
    "theta_y = 2.434655880435e+00\n",
    "print(\"{:0.3e}\".format(np.cos(theta_y/2.)))"
   ]
  },
  {
   "cell_type": "code",
   "execution_count": 26,
   "id": "256c2541",
   "metadata": {},
   "outputs": [
    {
     "name": "stdout",
     "output_type": "stream",
     "text": [
      "1.474e-01+3.205e-03j\n"
     ]
    }
   ],
   "source": [
    "theta_z, theta_y = -4.347141368359e-02, 2.845571544992e+00\n",
    "print(\"{:20.3e}\".format(np.exp(- 1j * theta_z/2.) * np.cos(theta_y/2.)))\n",
    "# print(\"{:20.3e}\".format(d_coef * np.cos(theta_y/2.)))"
   ]
  },
  {
   "cell_type": "code",
   "execution_count": null,
   "id": "a6f337e3",
   "metadata": {},
   "outputs": [],
   "source": []
  },
  {
   "cell_type": "code",
   "execution_count": 200,
   "id": "c0c2847f",
   "metadata": {},
   "outputs": [
    {
     "data": {
      "text/plain": [
       "7"
      ]
     },
     "execution_count": 200,
     "metadata": {},
     "output_type": "execute_result"
    }
   ],
   "source": [
    "np.random.randint(2, 10)"
   ]
  },
  {
   "cell_type": "code",
   "execution_count": null,
   "id": "6c85a6b7",
   "metadata": {},
   "outputs": [],
   "source": []
  },
  {
   "cell_type": "code",
   "execution_count": null,
   "id": "0c50d01d",
   "metadata": {},
   "outputs": [],
   "source": []
  }
 ],
 "metadata": {
  "kernelspec": {
   "display_name": "Python 3 (ipykernel)",
   "language": "python",
   "name": "python3"
  },
  "language_info": {
   "codemirror_mode": {
    "name": "ipython",
    "version": 3
   },
   "file_extension": ".py",
   "mimetype": "text/x-python",
   "name": "python",
   "nbconvert_exporter": "python",
   "pygments_lexer": "ipython3",
   "version": "3.11.0"
  }
 },
 "nbformat": 4,
 "nbformat_minor": 5
}
