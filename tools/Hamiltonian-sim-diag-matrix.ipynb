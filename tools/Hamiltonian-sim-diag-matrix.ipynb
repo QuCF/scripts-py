{
 "cells": [
  {
   "cell_type": "code",
   "execution_count": 1,
   "id": "f4699a5f",
   "metadata": {},
   "outputs": [
    {
     "name": "stdout",
     "output_type": "stream",
     "text": [
      "10365\n",
      "/media/work/docs/codes/QuCF/scripts-py\n"
     ]
    }
   ],
   "source": [
    "# if os.name != 'posix':\n",
    "#     %matplotlib ipympl\n",
    "# else:\n",
    "#     %matplotlib notebook\n",
    "\n",
    "import numpy as np\n",
    "import cmath\n",
    "import matplotlib.pyplot as plt\n",
    "import scipy.constants as sc\n",
    "# plt.rcParams.update({\n",
    "#     \"text.usetex\": True,\n",
    "#     'text.latex.preamble': r\"\\usepackage{amsmath} \\boldmath\"\n",
    "# })\n",
    "import os\n",
    "import h5py\n",
    "\n",
    "print(os.getpid())\n",
    "%cd ../\n",
    "\n",
    "import pylib.mix as mix\n",
    "import pylib.measurement as mse"
   ]
  },
  {
   "cell_type": "code",
   "execution_count": 11,
   "id": "6c4df831",
   "metadata": {},
   "outputs": [
    {
     "name": "stdout",
     "output_type": "stream",
     "text": [
      "---------------------------------------------------------------\n",
      "--- Decomposition of a Hermitian into Pauli tensor products ---\n",
      "nq:  10\n",
      "Total number of possible combinations of (I,Z) Pauli matrices 1024\n",
      "step: 1000\n",
      "n. of Pauli products:  10\n",
      "---------------------------------------------------------------\n"
     ]
    }
   ],
   "source": [
    "# -------------------------------------------------------------------------------\n",
    "# --- Create a diagonal matrix with x-coordinates on the main diagonal ---\n",
    "# -------------------------------------------------------------------------------\n",
    "from qiskit import QuantumCircuit, QuantumRegister\n",
    "from qiskit.quantum_info.operators import Operator\n",
    "from qiskit.compiler import transpile\n",
    "from scipy.linalg import expm\n",
    "mix.reload_module(mix)\n",
    "\n",
    "nq_ = 10\n",
    "t_ = 2.0;  # time interval;\n",
    "N_ = 1 << nq_\n",
    "\n",
    "# x_min, x_max = 0.0, np.pi\n",
    "# x_min, x_max = -np.pi, 0.0\n",
    "x_min, x_max = -np.pi/2., np.pi/2.\n",
    "\n",
    "x = np.linspace(x_min, x_max, N_) \n",
    "A = np.diag(x)\n",
    "\n",
    "# --- Decompose the diagonal matrix into a tensor product of Z-Pauli gates ---\n",
    "A_dec_ = mix.hermitian_to_Z_pauli(A, flag_filter = True, small_coef = 1e-14, flag_print_details=True)"
   ]
  },
  {
   "cell_type": "code",
   "execution_count": null,
   "id": "7fd8335f",
   "metadata": {},
   "outputs": [],
   "source": []
  },
  {
   "cell_type": "code",
   "execution_count": 13,
   "id": "edc9b99c",
   "metadata": {},
   "outputs": [
    {
     "name": "stdout",
     "output_type": "stream",
     "text": [
      "Storing to: ./tools/HS-diag-matrix//HS_n10_xm1.oracle\n",
      "az: -6.141921121388e-03\n",
      "az: -1.228384224278e-02\n",
      "az: -2.456768448555e-02\n",
      "az: -4.913536897110e-02\n",
      "az: -9.827073794220e-02\n",
      "az: -1.965414758844e-01\n",
      "az: -3.930829517688e-01\n",
      "az: -7.861659035376e-01\n",
      "az: -1.572331807075e+00\n",
      "az: -3.144663614150e+00\n"
     ]
    }
   ],
   "source": [
    "# -------------------------------------------------------\n",
    "# --- Save the circuit for the exp(-1j * t_ * A_dec_) ---\n",
    "# -------------------------------------------------------\n",
    "path_root = \"./tools/HS-diag-matrix/\"\n",
    "fname = \"HS_n{:d}_xm{:d}.oracle\".format(nq_, int(x[-1]))\n",
    "fullname = path_root + \"/\" + fname\n",
    "\n",
    "name_qr = \"rx\"  # name of the target register\n",
    "\n",
    "print(\"Storing to: {:s}\".format(fullname))\n",
    "ff = open(fullname, \"w\")\n",
    "counter_q = -1\n",
    "for ii in range(len(A_dec_)):\n",
    "    if list(A_dec_[ii][2]) == [0]*nq_:\n",
    "        continue\n",
    "    counter_q += 1\n",
    "    angle_Rz = A_dec_[ii][0] * 2. * t_\n",
    "    str_az = \"{:0.12e}\".format(angle_Rz)\n",
    "    line_one = \"gate Rz {:s}[{:d}] {:s} end_gate\".format(name_qr, counter_q, str_az)\n",
    "    ff.write(line_one + \"\\n\")\n",
    "    print(\"az: {:0.12e}\".format(angle_Rz))\n",
    "ff.close()"
   ]
  },
  {
   "cell_type": "code",
   "execution_count": null,
   "id": "65b440ed",
   "metadata": {},
   "outputs": [],
   "source": []
  },
  {
   "cell_type": "code",
   "execution_count": null,
   "id": "5a583293",
   "metadata": {},
   "outputs": [],
   "source": [
    "az: -3.910068426197e-03\n",
    "az: -7.820136852395e-03\n",
    "az: -1.564027370479e-02\n",
    "az: -3.128054740958e-02\n",
    "az: -6.256109481916e-02\n",
    "az: -1.251221896383e-01\n",
    "az: -2.502443792766e-01\n",
    "az: -5.004887585533e-01\n",
    "az: -1.000977517107e+00\n",
    "az: -2.001955034213e+00"
   ]
  },
  {
   "cell_type": "code",
   "execution_count": null,
   "id": "65fcab2a",
   "metadata": {},
   "outputs": [],
   "source": []
  },
  {
   "cell_type": "code",
   "execution_count": 9,
   "id": "404eaf17",
   "metadata": {},
   "outputs": [
    {
     "name": "stdout",
     "output_type": "stream",
     "text": [
      "      ┌─────────────┐  \n",
      "q_0: ─┤ Rz(-3.1447) ├──\n",
      "      ├─────────────┤  \n",
      "q_1: ─┤ Rz(-1.5723) ├──\n",
      "      ├─────────────┴┐ \n",
      "q_2: ─┤ Rz(-0.78617) ├─\n",
      "      ├──────────────┤ \n",
      "q_3: ─┤ Rz(-0.39308) ├─\n",
      "      ├──────────────┤ \n",
      "q_4: ─┤ Rz(-0.19654) ├─\n",
      "     ┌┴──────────────┤ \n",
      "q_5: ┤ Rz(-0.098271) ├─\n",
      "     ├───────────────┤ \n",
      "q_6: ┤ Rz(-0.049135) ├─\n",
      "     ├───────────────┤ \n",
      "q_7: ┤ Rz(-0.024568) ├─\n",
      "     ├───────────────┤ \n",
      "q_8: ┤ Rz(-0.012284) ├─\n",
      "     ├───────────────┴┐\n",
      "q_9: ┤ Rz(-0.0061419) ├\n",
      "     └────────────────┘\n",
      "\n",
      "max. abs. diff: 2.000e+00\n"
     ]
    }
   ],
   "source": [
    "# -------------------------------------------------------------\n",
    "# --- TO RECHECK: Form a circuit to model exp(-1j * t_ * A_dec_) ---\n",
    "# -------------------------------------------------------------\n",
    "import pylib.QC as QC\n",
    "\n",
    "# --- Construction of the circuit ---\n",
    "qc_dec = QC.Circuit(nq_)\n",
    "qc_dec.form_from_pauli(A_dec_, t_, sel_error_order = 2)\n",
    "\n",
    "# draw the circuit:\n",
    "print(qc_dec.form_qiskit_circuit().draw(fold = 160)); \n",
    "print(\"\")\n",
    "\n",
    "# get the matrix representation of the circuit:\n",
    "Ures = qc_dec.get_matrix()\n",
    "\n",
    "# --- Recheck the construction ---\n",
    "max_abs_err = 0.0\n",
    "for id_x in range(N_):\n",
    "    init_state = np.zeros(N_)\n",
    "    init_state[id_x] = 1\n",
    "\n",
    "    res_U = Ures.dot(init_state)[0,id_x]\n",
    "    res_dir_exp = np.exp(-1.j*t_*x[id_x]) # direct computation of the exponential function;\n",
    "\n",
    "    abs_err = np.abs(res_U - res_dir_exp)\n",
    "    if abs_err > max_abs_err:\n",
    "        max_abs_err = abs_err\n",
    "\n",
    "print(\"max. abs. diff: {:0.3e}\".format(max_abs_err))"
   ]
  },
  {
   "cell_type": "code",
   "execution_count": null,
   "id": "9ad4fbf5",
   "metadata": {},
   "outputs": [],
   "source": []
  }
 ],
 "metadata": {
  "kernelspec": {
   "display_name": "Python 3 (ipykernel)",
   "language": "python",
   "name": "python3"
  },
  "language_info": {
   "codemirror_mode": {
    "name": "ipython",
    "version": 3
   },
   "file_extension": ".py",
   "mimetype": "text/x-python",
   "name": "python",
   "nbconvert_exporter": "python",
   "pygments_lexer": "ipython3",
   "version": "3.11.0"
  }
 },
 "nbformat": 4,
 "nbformat_minor": 5
}
