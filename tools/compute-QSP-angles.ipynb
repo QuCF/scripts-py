{
 "cells": [
  {
   "cell_type": "code",
   "execution_count": 1,
   "metadata": {},
   "outputs": [
    {
     "name": "stdout",
     "output_type": "stream",
     "text": [
      "14383\n",
      "/media/work/docs/codes/QuCF/scripts-py\n",
      "/media/work/docs/codes/QuCF/scripts-py/jupyter-notebooks/QSVT-QSP-angles-for-matlab-c#/Hamiltonian/QSP\n"
     ]
    }
   ],
   "source": [
    "%matplotlib widget\n",
    "import numpy as np\n",
    "import os\n",
    "import h5py\n",
    "import subprocess\n",
    "\n",
    "print(os.getpid())\n",
    "%cd ../\n",
    "import pylib.mix as mix\n",
    "%cd \"./jupyter-notebooks/QSVT-QSP-angles-for-matlab-c#/Hamiltonian/QSP/\""
   ]
  },
  {
   "cell_type": "code",
   "execution_count": 2,
   "metadata": {},
   "outputs": [],
   "source": [
    "mix.reload_module(mix)\n",
    "\n",
    "# -----------------------------------------------------------\n",
    "def find_exp(number) -> int:\n",
    "    base10 = np.log10(abs(number))\n",
    "\n",
    "    temp = np.floor(base10)\n",
    "    flag_neg = False\n",
    "    if temp < 0:\n",
    "        flag_neg = True\n",
    "\n",
    "    return abs(temp), flag_neg\n",
    "# -----------------------------------------------------------\n",
    "def txt_to_hdf5(old_filename, new_filename):\n",
    "    function_type_res = \"QSP-ham\"\n",
    "    rescaling_factor_res = 1.\n",
    "    parity_res = -1\n",
    "\n",
    "    # --- read the .angles (text) file ---\n",
    "    print(\"read angles from:\\n \" + old_filename)\n",
    "    with open(old_filename) as f:\n",
    "        param_res = float(f.readline()[:-1]) \n",
    "        eps_res   = float(f.readline()[:-1]) \n",
    "        Na        = int(f.readline()[:-1]) \n",
    "        angles = np.zeros(Na)\n",
    "        for ii in range(Na):\n",
    "            angles[ii] = float(f.readline())\n",
    "            \n",
    "    print()\n",
    "    print(\"function type: \\t\\t{:s}\".format(function_type_res))    \n",
    "    print(\"rescaling factor: \\t{:0.3f}\".format(rescaling_factor_res))\n",
    "    print(\"parity: \\t\\t{:d}\".format(parity_res))\n",
    "    print(\"parameter: \\t\\t{:0.3e}\".format(param_res))\n",
    "    print(\"error: \\t\\t\\t{:0.3e}\".format(eps_res))\n",
    "    print(\"N-angles: \\t\\t{:d}\".format(Na))\n",
    "    print()       \n",
    "\n",
    "    # --- write the .hdf5 file ---\n",
    "    print(\"write angles to:\\n \" + new_filename)\n",
    "    with h5py.File(new_filename, \"w\") as f:\n",
    "        grp = f.create_group(\"basic\")\n",
    "        \n",
    "        grp.create_dataset('polynomial_type',  data=function_type_res)\n",
    "        grp.create_dataset('rescaling_factor', data=float(rescaling_factor_res))\n",
    "        grp.create_dataset('parity',           data=parity_res)\n",
    "        grp.create_dataset('eps',              data=eps_res)\n",
    "        grp.create_dataset('par',              data=param_res)\n",
    "\n",
    "        grp = f.create_group(\"angles\")\n",
    "        grp.create_dataset('QSP-ham',  data = angles)\n",
    "    return"
   ]
  },
  {
   "cell_type": "code",
   "execution_count": null,
   "metadata": {},
   "outputs": [],
   "source": []
  },
  {
   "cell_type": "code",
   "execution_count": 3,
   "metadata": {},
   "outputs": [
    {
     "name": "stdout",
     "output_type": "stream",
     "text": [
      "--- Chosen QSP parameters ---\n",
      "t, eps: 2.236e+01, 1.000e-12\n",
      "file name: QSP_t2236p1_eps12\n",
      "\n"
     ]
    }
   ],
   "source": [
    "# ----------------------------------------------------------\n",
    "# --- Specify QSP parameters ---\n",
    "# ----------------------------------------------------------\n",
    "t_moments = [2.236e+01]\n",
    "\n",
    "Nt = len(t_moments)\n",
    "eps_QSP_array = [1e-12] * Nt\n",
    "\n",
    "case_format = 1\n",
    "\n",
    "# --- Form the name of the output name ---\n",
    "file_names = [None] * Nt\n",
    "print(\"--- Chosen QSP parameters ---\")\n",
    "if case_format == 1:\n",
    "    for it in range(Nt):\n",
    "        eps_QSP = eps_QSP_array[it]\n",
    "        t1 = t_moments[it]\n",
    "        exp_t1, flag_neg = find_exp(t1)\n",
    "\n",
    "        str_exp = \"p\"\n",
    "        if flag_neg:\n",
    "            str_exp = \"m\"\n",
    "\n",
    "        if flag_neg:\n",
    "            temp_int = int(t1 * 10**(exp_t1+3))\n",
    "        else:\n",
    "            temp_int = int(t1 / 10**(exp_t1-3))\n",
    "\n",
    "        file_names[it] = \"QSP_t{:d}{:s}{:d}_eps{:d}\".format(\n",
    "            temp_int, \n",
    "            str_exp,\n",
    "            int(exp_t1),\n",
    "            int(abs(np.round(np.log10(eps_QSP))))\n",
    "        )\n",
    "\n",
    "        print(\"t, eps: {:0.3e}, {:0.3e}\".format(t1, eps_QSP))\n",
    "        print(\"file name: {:s}\".format(file_names[it]))\n",
    "        print()"
   ]
  },
  {
   "cell_type": "code",
   "execution_count": null,
   "metadata": {},
   "outputs": [],
   "source": []
  },
  {
   "cell_type": "code",
   "execution_count": 4,
   "metadata": {},
   "outputs": [
    {
     "name": "stdout",
     "output_type": "stream",
     "text": [
      "Start calculating...\n",
      "Chosen tau = 22.36\n",
      "Chosen eps = 1E-12\n",
      "polyA = { Denominator = 281474976710656\n",
      "  Numerator =\n",
      "             1z^-52 + 19z^-50 + 348z^-48 + 5593z^-46 + 81344z^-44 + 1066892z^-42 + 12536678z^-40 + 130990600z^-38 + 1206314356z^-36 + 9689055506z^-34 + 67012417452z^-32 + 392777564658z^-30 + 1910994394072z^-28 + 7502511317813z^-26 + 22796710680533z^-24 + 50004400571069z^-22 + 68352521613306z^-20 + 32366944235304z^-18 + -43245263822082z^-16 + -30192174019936z^-14 + 49875475191312z^-12 + -13858871940832z^-10 + -25588252511644z^-8 + 44805115157362z^-6 + -47777564144828z^-4 + 44974108494362z^-2 + -43319993788157z^0 + 44974108494362z^2 + -47777564144828z^4 + 44805115157362z^6 + -25588252511644z^8 + -13858871940832z^10 + 49875475191312z^12 + -30192174019936z^14 + -43245263822082z^16 + 32366944235304z^18 + 68352521613306z^20 + 50004400571069z^22 + 22796710680533z^24 + 7502511317813z^26 + 1910994394072z^28 + 392777564658z^30 + 67012417452z^32 + 9689055506z^34 + 1206314356z^36 + 130990600z^38 + 12536678z^40 + 1066892z^42 + 81344z^44 + 5593z^46 + 348z^48 + 19z^50 + 1z^52\n",
      "  Parity = 0 }\n",
      "polyB = { Denominator = 281474976710656\n",
      "  Numerator =\n",
      "             4z^-51 + 84z^-49 + 1413z^-47 + 21599z^-45 + 298541z^-43 + 3709461z^-41 + 41144486z^-39 + 404082957z^-37 + 3480292430z^-35 + 25985529323z^-33 + 165821032258z^-31 + 888143810297z^-29 + 3897888661439z^-27 + 13549812077660z^-25 + 35387670599692z^-23 + 63010970953396z^-21 + 59265454115130z^-19 + -7154094881186z^-17 + -54735370338251z^-15 + 16927639007382z^-13 + 36605965849123z^-11 + -49002094597632z^-9 + 30692074911303z^-7 + -6646395935975z^-5 + -10447544724071z^-3 + 18493002415370z^-1 + -18493002415370z^1 + 10447544724071z^3 + 6646395935975z^5 + -30692074911303z^7 + 49002094597632z^9 + -36605965849123z^11 + -16927639007382z^13 + 54735370338251z^15 + 7154094881186z^17 + -59265454115130z^19 + -63010970953396z^21 + -35387670599692z^23 + -13549812077660z^25 + -3897888661439z^27 + -888143810297z^29 + -165821032258z^31 + -25985529323z^33 + -3480292430z^35 + -404082957z^37 + -41144486z^39 + -3709461z^41 + -298541z^43 + -21599z^45 + -1413z^47 + -84z^49 + -4z^51\n",
      "  Parity = 1 }\n",
      "yes, every exponent is even\n",
      "Initially Found 100 roots out of 104\n",
      "104 to refine, log2(err)=0\n",
      "104 to refine, log2(err)=-1\n",
      "41 to refine, log2(err)=0\n",
      "4 to refine, log2(err)=-3\n",
      "4 to refine, log2(err)=-2\n",
      "4 to refine, log2(err)=-3\n",
      "4 to refine, log2(err)=-3\n",
      "4 to refine, log2(err)=-7\n",
      "3 to refine, log2(err)=-20\n",
      "0 to refine, log2(err)=-60\n",
      "0 to refine, log2(err)=-65\n",
      "alphaSqrt/2 = (+.71189521142152322298377901802164e-6,+.53010108272823716628426819223654e-34)\n",
      "\n",
      "Resulting angles: \n",
      "3.141592648599292   3.141592628637289   3.1415925338196233   3.1415921146249537   3.1415903779704593   3.141583326566772   3.141555415438831   3.1414476286603668   3.1410416935490257   3.1395518722692337   3.1342277433520676   3.115717027269548   3.0531819074620934   2.8488145071709985   2.224514076143566   0.7690480184448718   -1.0766406031348017   -2.241602247562457   -2.474745591324567   -1.878256431401344   -0.3627898299044504   1.3224393012067754   2.136635077905992   1.8469049346725634   0.49532984654340967   -1.1489999533344808   -1.9143685575524552   -1.3854647233173851   0.1514611806094769   1.503298061310857   1.5780037465230956   0.3188083687480346   -1.1808940814934579   -1.505405093755632   -0.3381213631884176   1.1319748915958607   1.3234822198699894   0.013826411757693233   -1.2656577061271252   -0.9325460312246407   0.5702918332468943   1.2743320488980874   0.17040398513782637   -1.1377839646631922   -0.691146220125477   0.797688871895047   0.9670831990219915   -0.4716929380238974   -1.0666346660233863   0.2528911683210947   1.0760692919975794   -0.1589208786262746   -1.0519220387540578   0.18306813186979615   1.0062462555462808   -0.3132795787982004   -0.9082213067976894   0.5305548302481994   0.6999491573751438   -0.78888593464538   -0.3422481901076649   0.9659397596933536   -0.1379883040669074   -0.8420285197181004   0.6608093447534346   0.32769766985095006   -0.9517864480338684   0.35786936007842785   0.5493766883525566   -0.9207195664317217   0.24656416413549262   0.5710751763976667   -0.9286272738438259   0.3305681039312351   0.4052737891434735   -0.9465630915579066   0.5903628123689554   0.06145897813388523   -0.7039096260840891   0.9404201737938013   -0.41115491433535245   -0.12142477110192387   0.6927710055972925   -0.9924581255139334   0.5230084759829601   -0.07348068394026275   -0.30662402770237235   0.8583376167252832   -0.9873510048543903   0.468115052844304   -0.1561853781831285   0.04818202210796616   -0.01435309769948835   0.004157618383031301   -0.0011665105341348572   0.0003233107456573165   -8.262436568356374E-05   2.516241278114152E-05   -2.748715159725943E-06   4.302688527369323E-06   2.5660340329976463E-06   2.985228702470971E-06   2.8904110368618917E-06   2.910373040380394E-06   -2.9053825395007676E-06   \n",
      "\n",
      "File created\n",
      "\n",
      "Elapsed Time is 0 s\n",
      "read angles from:\n",
      " QSP_t2236p1_eps12\n",
      "\n",
      "function type: \t\tQSP-ham\n",
      "rescaling factor: \t1.000\n",
      "parity: \t\t-1\n",
      "parameter: \t\t2.236e+01\n",
      "error: \t\t\t1.000e-12\n",
      "N-angles: \t\t105\n",
      "\n",
      "write angles to:\n",
      " QSP_t2236p1_eps12.hdf5\n"
     ]
    }
   ],
   "source": [
    "# ------------------------------------------------\n",
    "# --- Compute QSP angles ---\n",
    "# ------------------------------------------------\n",
    "line_code = \"/media/work/docs/codes/progs/Q#F#/test-qsp/bin/Debug/netcoreapp3.1/qsp\"\n",
    "for it in range(Nt):\n",
    "    eps_QSP = eps_QSP_array[it]\n",
    "    t1 = t_moments[it]\n",
    "\n",
    "    line_cmd = \"{:s} {:0.3e} {:0.3e} {:s} {:s}\".format(\n",
    "        line_code, t1, eps_QSP, \"./\", file_names[it]\n",
    "    )\n",
    "    subprocess.run(line_cmd, shell = True, executable=\"/bin/bash\")\n",
    "\n",
    "    # from the .txt file to .hdf5 file:\n",
    "    txt_to_hdf5(file_names[it], file_names[it] + \".hdf5\")\n",
    "\n",
    "    # remove the .txt file:\n",
    "    line_cmd = \"rm {:s}\".format(file_names[it])\n",
    "    subprocess.run(line_cmd, shell = True, executable=\"/bin/bash\")"
   ]
  },
  {
   "cell_type": "code",
   "execution_count": null,
   "metadata": {},
   "outputs": [],
   "source": []
  }
 ],
 "metadata": {
  "kernelspec": {
   "display_name": "env",
   "language": "python",
   "name": "python3"
  },
  "language_info": {
   "codemirror_mode": {
    "name": "ipython",
    "version": 3
   },
   "file_extension": ".py",
   "mimetype": "text/x-python",
   "name": "python",
   "nbconvert_exporter": "python",
   "pygments_lexer": "ipython3",
   "version": "3.11.0"
  }
 },
 "nbformat": 4,
 "nbformat_minor": 2
}
