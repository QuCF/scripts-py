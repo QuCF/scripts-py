{
 "cells": [
  {
   "cell_type": "code",
   "execution_count": 1,
   "metadata": {},
   "outputs": [
    {
     "name": "stdout",
     "output_type": "stream",
     "text": [
      "30078\n",
      "/media/work/docs/codes/QuCF/scripts-py\n",
      "/media/work/docs/codes/QuCF/scripts-py/tools/QSP-angles\n"
     ]
    }
   ],
   "source": [
    "%matplotlib widget\n",
    "import numpy as np\n",
    "import os\n",
    "import h5py\n",
    "import subprocess\n",
    "\n",
    "print(os.getpid())\n",
    "%cd ../\n",
    "import pylib.mix as mix\n",
    "%cd \"./tools/QSP-angles/\""
   ]
  },
  {
   "cell_type": "code",
   "execution_count": null,
   "metadata": {},
   "outputs": [],
   "source": []
  },
  {
   "cell_type": "markdown",
   "metadata": {},
   "source": [
    "Compute angles (phase factors) for the QSP circuit in the formulation of [Low&Chung_2019](https://quantum-journal.org/papers/q-2019-07-12-163/) using the [Haah algorithm](https://quantum-journal.org/papers/q-2019-10-07-190/)."
   ]
  },
  {
   "cell_type": "code",
   "execution_count": 2,
   "metadata": {},
   "outputs": [],
   "source": [
    "mix.reload_module(mix)\n",
    "# -----------------------------------------------------------\n",
    "def find_exp(number) -> int:\n",
    "    base10 = np.log10(abs(number))\n",
    "\n",
    "    temp = np.floor(base10)\n",
    "    flag_neg = False\n",
    "    if temp < 0:\n",
    "        flag_neg = True\n",
    "\n",
    "    return abs(temp), flag_neg\n",
    "# -----------------------------------------------------------\n",
    "def txt_to_hdf5(old_filename, new_filename):\n",
    "    function_type_res = \"QSP-ham\"\n",
    "    rescaling_factor_res = 1.\n",
    "    parity_res = -1\n",
    "\n",
    "    # --- read the .angles (text) file ---\n",
    "    print(\"read angles from:\\n \" + old_filename)\n",
    "    with open(old_filename) as f:\n",
    "        param_res = float(f.readline()[:-1]) \n",
    "        eps_res   = float(f.readline()[:-1]) \n",
    "        Na        = int(f.readline()[:-1]) \n",
    "        angles = np.zeros(Na)\n",
    "        for ii in range(Na):\n",
    "            angles[ii] = float(f.readline())\n",
    "            \n",
    "    print()\n",
    "    print(\"function type: \\t\\t{:s}\".format(function_type_res))    \n",
    "    print(\"rescaling factor: \\t{:0.3f}\".format(rescaling_factor_res))\n",
    "    print(\"parity: \\t\\t{:d}\".format(parity_res))\n",
    "    print(\"parameter: \\t\\t{:0.3e}\".format(param_res))\n",
    "    print(\"error: \\t\\t\\t{:0.3e}\".format(eps_res))\n",
    "    print(\"N-angles: \\t\\t{:d}\".format(Na))\n",
    "    print()       \n",
    "\n",
    "    # --- write the .hdf5 file ---\n",
    "    print(\"write angles to:\\n \" + new_filename)\n",
    "    with h5py.File(new_filename, \"w\") as f:\n",
    "        grp = f.create_group(\"basic\")\n",
    "        \n",
    "        grp.create_dataset('polynomial_type',  data=function_type_res)\n",
    "        grp.create_dataset('rescaling_factor', data=float(rescaling_factor_res))\n",
    "        grp.create_dataset('parity',           data=parity_res)\n",
    "        grp.create_dataset('eps',              data=eps_res)\n",
    "        grp.create_dataset('par',              data=param_res)\n",
    "\n",
    "        grp = f.create_group(\"angles\")\n",
    "        grp.create_dataset('QSP-ham',  data = angles)\n",
    "    return"
   ]
  },
  {
   "cell_type": "code",
   "execution_count": null,
   "metadata": {},
   "outputs": [],
   "source": []
  },
  {
   "cell_type": "code",
   "execution_count": 3,
   "metadata": {},
   "outputs": [
    {
     "name": "stdout",
     "output_type": "stream",
     "text": [
      "--- Chosen QSP parameters ---\n",
      "t, eps: 1.000000000000e-01, 1.000e-12\n",
      "file name: QSP_t1000m1_eps12\n",
      "\n"
     ]
    }
   ],
   "source": [
    "# ----------------------------------------------------------\n",
    "# --- Specify QSP parameters ---\n",
    "# ----------------------------------------------------------\n",
    "t_moments = [0.1]\n",
    "\n",
    "Nt = len(t_moments)\n",
    "eps_QSP_array = [1e-12] * Nt\n",
    "\n",
    "case_format = 1\n",
    "\n",
    "# --- Form the name of the output name ---\n",
    "file_names = [None] * Nt\n",
    "print(\"--- Chosen QSP parameters ---\")\n",
    "if case_format == 1:\n",
    "    for it in range(Nt):\n",
    "        eps_QSP = eps_QSP_array[it]\n",
    "        t1 = t_moments[it]\n",
    "        exp_t1, flag_neg = find_exp(t1)\n",
    "\n",
    "        str_exp = \"p\"\n",
    "        if flag_neg:\n",
    "            str_exp = \"m\"\n",
    "\n",
    "        if flag_neg:\n",
    "            temp_int = int(t1 * 10**(exp_t1+3))\n",
    "        else:\n",
    "            temp_int = int(t1 / 10**(exp_t1-3))\n",
    "\n",
    "        file_names[it] = \"QSP_t{:d}{:s}{:d}_eps{:d}\".format(\n",
    "            temp_int, \n",
    "            str_exp,\n",
    "            int(exp_t1),\n",
    "            int(abs(np.round(np.log10(eps_QSP))))\n",
    "        )\n",
    "\n",
    "        print(\"t, eps: {:0.12e}, {:0.3e}\".format(t1, eps_QSP))\n",
    "        print(\"file name: {:s}\".format(file_names[it]))\n",
    "        print()"
   ]
  },
  {
   "cell_type": "code",
   "execution_count": null,
   "metadata": {},
   "outputs": [],
   "source": []
  },
  {
   "cell_type": "code",
   "execution_count": 4,
   "metadata": {},
   "outputs": [
    {
     "name": "stdout",
     "output_type": "stream",
     "text": [
      "Start calculating...\n",
      "Chosen tau = 0.1\n",
      "Chosen eps = 1E-12\n",
      "polyA = { Denominator = 140737488355328\n",
      "  Numerator =\n",
      "             3053z^-6 + 36632066z^-4 + 175775304698z^-2 + 140385864475550z^0 + 175775304698z^2 + 36632066z^4 + 3053z^6\n",
      "  Parity = 0 }\n",
      "polyB = { Denominator = 140737488355328\n",
      "  Numerator =\n",
      "             21z^-7 + 366351z^-5 + 2930198946z^-3 + 7028081989012z^-1 + -7028081989012z^1 + -2930198946z^3 + -366351z^5 + -21z^7\n",
      "  Parity = 1 }\n",
      "yes, every exponent is even\n",
      "Initially Found 14 roots out of 14\n",
      "3 to refine, log2(err)=-24\n",
      "0 to refine, log2(err)=-64\n",
      "0 to refine, log2(err)=-72\n",
      "alphaSqrt/2 = (+.708248421515318721241128586154541e-6,+.810321637012223356203719989264577e-38)\n",
      "\n",
      "Resulting angles: \n",
      "3.141592442909515   3.1415618140100188   3.137886441904623   2.774435028888961   -0.2267245912408289   -2.880165336812886   -0.1461951995155765   2.74606058289201   0.012090445594701047   -2.641350299977356   0.3598093201524341   -0.0036420928632280897   3.327924216735339E-05   2.6503426709772785E-06   -2.861022949219725E-06   \n",
      "\n",
      "File created\n",
      "\n",
      "Elapsed Time is 0 s\n",
      "read angles from:\n",
      " QSP_t1000m1_eps12\n",
      "\n",
      "function type: \t\tQSP-ham\n",
      "rescaling factor: \t1.000\n",
      "parity: \t\t-1\n",
      "parameter: \t\t1.000e-01\n",
      "error: \t\t\t1.000e-12\n",
      "N-angles: \t\t15\n",
      "\n",
      "write angles to:\n",
      " QSP_t1000m1_eps12.hdf5\n"
     ]
    }
   ],
   "source": [
    "# ------------------------------------------------\n",
    "# --- Compute QSP angles ---\n",
    "# ------------------------------------------------\n",
    "line_code = \"../compute-QSP-angles/test-qsp/bin/Debug/netcoreapp3.1/qsp\"\n",
    "for it in range(Nt):\n",
    "    eps_QSP = eps_QSP_array[it]\n",
    "    t1 = t_moments[it]\n",
    "\n",
    "    line_cmd = \"{:s} {:0.12e} {:0.3e} {:s} {:s}\".format(\n",
    "        line_code, t1, eps_QSP, \"./\", file_names[it]\n",
    "    )\n",
    "    subprocess.run(line_cmd, shell = True, executable=\"/bin/bash\")\n",
    "\n",
    "    # from the .txt file to .hdf5 file:\n",
    "    txt_to_hdf5(file_names[it], file_names[it] + \".hdf5\")\n",
    "\n",
    "    # remove the .txt file:\n",
    "    line_cmd = \"rm {:s}\".format(file_names[it])\n",
    "    subprocess.run(line_cmd, shell = True, executable=\"/bin/bash\")"
   ]
  },
  {
   "cell_type": "code",
   "execution_count": null,
   "metadata": {},
   "outputs": [],
   "source": []
  },
  {
   "cell_type": "code",
   "execution_count": null,
   "metadata": {},
   "outputs": [],
   "source": []
  }
 ],
 "metadata": {
  "kernelspec": {
   "display_name": "env",
   "language": "python",
   "name": "python3"
  },
  "language_info": {
   "codemirror_mode": {
    "name": "ipython",
    "version": 3
   },
   "file_extension": ".py",
   "mimetype": "text/x-python",
   "name": "python",
   "nbconvert_exporter": "python",
   "pygments_lexer": "ipython3",
   "version": "3.11.0"
  }
 },
 "nbformat": 4,
 "nbformat_minor": 2
}
