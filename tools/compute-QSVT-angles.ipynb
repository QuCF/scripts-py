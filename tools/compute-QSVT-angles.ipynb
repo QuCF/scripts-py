{
 "cells": [
  {
   "cell_type": "code",
   "execution_count": null,
   "metadata": {},
   "outputs": [],
   "source": [
    "%matplotlib widget\n",
    "import numpy as np\n",
    "import os\n",
    "import h5py\n",
    "import subprocess\n",
    "\n",
    "print(os.getpid())\n",
    "\n",
    "%cd ../                  \n",
    "import pylib.mix as mix "
   ]
  },
  {
   "cell_type": "code",
   "execution_count": null,
   "metadata": {},
   "outputs": [],
   "source": []
  },
  {
   "cell_type": "markdown",
   "metadata": {},
   "source": [
    "Compute the QSVT angles (phase factors) by using the [Dong algorithm](https://journals.aps.org/pra/abstract/10.1103/PhysRevA.103.042419)."
   ]
  },
  {
   "cell_type": "code",
   "execution_count": null,
   "metadata": {},
   "outputs": [],
   "source": [
    "# -----------------------------------------------------\n",
    "# --- Helper functions ---\n",
    "# -----------------------------------------------------\n",
    "def choose_function(sel_function):\n",
    "    if mix.compare_two_strings(sel_function, \"inversion\"):\n",
    "        name_par, short_par_id = \"condition_number\", \"k\"\n",
    "\n",
    "    return sel_function, name_par, short_par_id\n",
    "# -----------------------------------------------------\n",
    "def print_input_config():\n",
    "    print(\"function selector: {:s}\".format(sel_function_))\n",
    "    print(\"parameter [{:s}] value: {:0.3e}\".format(name_par_, parameter_value_))\n",
    "    print(\"work directory: {:s}\".format(work_dir_))\n",
    "    print(\"name of the output file with Cheb. coefs.: {:s}\".format(filename_poly_))\n",
    "    return\n",
    "# -----------------------------------------------------\n",
    "def compute_Cheb_coefs():\n",
    "    exe_cmd = \"../QuCF/build_polynomial/approx_polyn\"\n",
    "\n",
    "    line_cmd = \"{:s} -sel_function {:s} -param {:0.12e} -Nd {:d} -work_path {:s} -filename_out {:s}\".format(\n",
    "        exe_cmd,\n",
    "        sel_function_, \n",
    "        parameter_value_, \n",
    "        N_Chebyschev_coefs_,\n",
    "        work_dir_,\n",
    "        filename_poly_\n",
    "    )\n",
    "\n",
    "    res_proc = subprocess.run(\n",
    "        line_cmd, \n",
    "        shell = True, \n",
    "        executable=\"/bin/bash\"\n",
    "    )\n",
    "    return\n",
    "# -----------------------------------------------------\n",
    "def compute_QSVT_angles(filename_angles):\n",
    "    # --- Create .ca file (input file for computing the angles) ---\n",
    "    text_ca = \"\"\n",
    "    text_ca += \"filename_coefs {:s}\".format(work_dir_ + filename_poly_) + \"\\n\"\n",
    "    text_ca += \"output_name    {:s}\".format(work_dir_ + filename_angles) +\"\\n\"\n",
    "    text_ca += \"stopping_criterion 1e-12\" + \"\\n\"\n",
    "\n",
    "    filename_ca = \"calc_{:s}\".format(sel_function_)\n",
    "    with open(work_dir_ + filename_ca + \".ca\", \"w\") as file:\n",
    "        file.write(text_ca)\n",
    "\n",
    "    # --- Computation ---\n",
    "    exe_cmd = \"../QuCF/build_angles/compute_angles\"\n",
    "\n",
    "    line_cmd = \"{:s} {:s} ./\".format(\n",
    "        exe_cmd,\n",
    "        work_dir_ + filename_ca, \n",
    "    )\n",
    "\n",
    "    res_proc = subprocess.run(\n",
    "        line_cmd, \n",
    "        shell = True, \n",
    "        executable=\"/bin/bash\"\n",
    "    )\n",
    "    return"
   ]
  },
  {
   "cell_type": "code",
   "execution_count": null,
   "metadata": {},
   "outputs": [],
   "source": [
    "# ----------------------------------------------------------\n",
    "# --- Input parameters ---\n",
    "# ----------------------------------------------------------\n",
    "root_dir_ = \"./tools/QSVT-angles/\"\n",
    "sel_method_ = \"cpp_pol\"  \n",
    "\n",
    "\n",
    "sel_function_, name_par_, short_par_id_ = choose_function(\"inversion\")\n",
    "\n",
    "parameter_value_, N_Chebyschev_coefs_ = 20., 40\n",
    "# parameter_value_, N_Chebyschev_coefs_ = 100., 2085\n",
    "\n",
    "work_dir_ = root_dir_ + \"{:s}/test\".format(sel_function_)\n",
    "\n",
    "filename_poly_ = \"poly_{:s}_{:0.0f}_Nc_{:d}\".format(short_par_id_, parameter_value_, N_Chebyschev_coefs_)\n",
    "\n",
    "# --- Print input data ---\n",
    "print_input_config()\n",
    "work_dir_ += \"/\""
   ]
  },
  {
   "cell_type": "code",
   "execution_count": null,
   "metadata": {},
   "outputs": [],
   "source": []
  },
  {
   "cell_type": "code",
   "execution_count": null,
   "metadata": {},
   "outputs": [],
   "source": [
    "# ----------------------------------------------------------\n",
    "# --- Compute Chebyschev coefficients ---\n",
    "# ----------------------------------------------------------\n",
    "compute_Cheb_coefs()"
   ]
  },
  {
   "cell_type": "code",
   "execution_count": null,
   "metadata": {},
   "outputs": [],
   "source": []
  },
  {
   "cell_type": "code",
   "execution_count": null,
   "metadata": {},
   "outputs": [],
   "source": [
    "# ----------------------------------------------------------\n",
    "# --- Compute QSVT angles using the computed QSVT angles ---\n",
    "# ----------------------------------------------------------\n",
    "with h5py.File(work_dir_ + filename_poly_ + \".hdf5\", \"r\") as f:\n",
    "    gr = f[\"basic\"]\n",
    "    eps_res_ = np.abs(gr[\"eps\"][()])\n",
    "print()\n",
    "print(\"abs. error in Cheb. approx.: {:0.3e}\".format(eps_res_))\n",
    "print(\"log10(abs. error): {:0.3e}\".format(np.log10(eps_res_)))\n",
    "\n",
    "# --- The file name of the .hdf5 file where the resulting QSVT angles will be saved ---\n",
    "eps_res_log = int(np.round(np.log10(eps_res_)))\n",
    "filename_angles = \"angles_{:s}{:0.0f}_eps{:d}\".format(short_par_id_, parameter_value_, abs(eps_res_log))\n",
    "\n",
    "# --- Computation ---\n",
    "compute_QSVT_angles(filename_angles)"
   ]
  },
  {
   "cell_type": "code",
   "execution_count": null,
   "metadata": {},
   "outputs": [],
   "source": []
  }
 ],
 "metadata": {
  "kernelspec": {
   "display_name": "env",
   "language": "python",
   "name": "python3"
  },
  "language_info": {
   "codemirror_mode": {
    "name": "ipython",
    "version": 3
   },
   "file_extension": ".py",
   "mimetype": "text/x-python",
   "name": "python",
   "nbconvert_exporter": "python",
   "pygments_lexer": "ipython3",
   "version": "3.11.0"
  }
 },
 "nbformat": 4,
 "nbformat_minor": 2
}
